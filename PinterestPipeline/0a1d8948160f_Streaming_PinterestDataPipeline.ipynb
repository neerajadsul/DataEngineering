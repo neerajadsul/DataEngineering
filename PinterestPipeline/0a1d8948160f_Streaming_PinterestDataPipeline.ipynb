{
 "cells": [
  {
   "cell_type": "code",
   "execution_count": null,
   "metadata": {
    "application/vnd.databricks.v1+cell": {
     "cellMetadata": {
      "byteLimit": 2048000,
      "rowLimit": 10000
     },
     "inputWidgets": {},
     "nuid": "b554ef02-da99-4fc3-a28e-c67c558fa13c",
     "showTitle": false,
     "title": ""
    }
   },
   "outputs": [],
   "source": [
    "# pyspark functions\n",
    "from pyspark.sql.functions import *\n",
    "from pyspark.sql.types import IntegerType, StructType, StructField, TimestampType, StringType, LongType\n",
    "import pyspark"
   ]
  },
  {
   "cell_type": "code",
   "execution_count": null,
   "metadata": {
    "application/vnd.databricks.v1+cell": {
     "cellMetadata": {
      "byteLimit": 2048000,
      "rowLimit": 10000
     },
     "inputWidgets": {},
     "nuid": "ccb3acad-c01d-4e45-800e-b81e83395a32",
     "showTitle": false,
     "title": ""
    }
   },
   "outputs": [],
   "source": [
    "# Utility functions for connecting and mounting AWS S3 Bucket\n",
    "%run \"/Users/neeraj.adsul@gmail.com/aws_connector\""
   ]
  },
  {
   "cell_type": "code",
   "execution_count": null,
   "metadata": {
    "application/vnd.databricks.v1+cell": {
     "cellMetadata": {
      "byteLimit": 2048000,
      "rowLimit": 10000
     },
     "inputWidgets": {},
     "nuid": "1d4b4557-2f60-4362-a277-781a133bfb2e",
     "showTitle": false,
     "title": ""
    }
   },
   "outputs": [],
   "source": [
    "# Data cleaning functions for transforming the pinterest dataframes\n",
    "%run \"/Users/neeraj.adsul@gmail.com/pinterest_data_cleaning\""
   ]
  },
  {
   "cell_type": "code",
   "execution_count": null,
   "metadata": {
    "application/vnd.databricks.v1+cell": {
     "cellMetadata": {
      "byteLimit": 2048000,
      "rowLimit": 10000
     },
     "inputWidgets": {},
     "nuid": "3f610701-ea61-48e0-8d8f-7211169e5abb",
     "showTitle": false,
     "title": ""
    }
   },
   "outputs": [],
   "source": [
    "ACCESS_KEY, ENCODED_SECRET_KEY, SECRET_KEY = get_aws_credentials(credentials='authentication_credentials.csv')"
   ]
  },
  {
   "cell_type": "markdown",
   "metadata": {},
   "source": [
    "## Schema Definitions for Kinesis Streaming Source Transformation "
   ]
  },
  {
   "cell_type": "code",
   "execution_count": null,
   "metadata": {
    "application/vnd.databricks.v1+cell": {
     "cellMetadata": {
      "byteLimit": 2048000,
      "rowLimit": 10000
     },
     "inputWidgets": {},
     "nuid": "e2e41f14-2027-4854-9d0f-79db103bf089",
     "showTitle": false,
     "title": ""
    }
   },
   "outputs": [],
   "source": [
    "# Schema for topic `pin`\n",
    "pin_schema = StructType([\n",
    "    StructField(\"index\", LongType(), True),\n",
    "    StructField(\"unique_id\",StringType(), True),\n",
    "    StructField(\"title\",StringType(), True),\n",
    "    StructField(\"description\",StringType(), True),\n",
    "    StructField(\"poster_name\",StringType(), True),\n",
    "    StructField(\"follower_count\",StringType(), True),\n",
    "    StructField(\"tag_list\",StringType(), True),\n",
    "    StructField(\"is_image_or_video\",StringType(), True),\n",
    "    StructField(\"image_src\",StringType(), True),\n",
    "    StructField(\"downloaded\",StringType(), True),\n",
    "    StructField(\"save_location\",StringType(), True),\n",
    "    StructField(\"category\",StringType(), True),\n",
    "])\n",
    "\n",
    "# Schema for topic `geo`\n",
    "geo_schema = StructType([\n",
    "    StructField(\"ind\",LongType(), True),\n",
    "    StructField(\"timestamp\",StringType(), True),\n",
    "    StructField(\"latitude\",StringType(), True),\n",
    "    StructField(\"longitude\",StringType(), True),\n",
    "    StructField(\"country\",StringType(), True),\n",
    "])\n",
    "\n",
    "# Schema for topic `user`\n",
    "user_schema = StructType([\n",
    "    StructField(\"ind\",LongType(), True),\n",
    "    StructField(\"first_name\",StringType(), True),\n",
    "    StructField(\"last_name\",StringType(), True),\n",
    "    StructField(\"age\",StringType(), True),\n",
    "    StructField(\"date_joined\",StringType(), True),\n",
    "])\n"
   ]
  },
  {
   "cell_type": "code",
   "execution_count": null,
   "metadata": {
    "application/vnd.databricks.v1+cell": {
     "cellMetadata": {
      "byteLimit": 2048000,
      "rowLimit": 10000
     },
     "inputWidgets": {},
     "nuid": "b09511ce-4184-4125-ad82-c5b4ef8da9c2",
     "showTitle": false,
     "title": ""
    }
   },
   "outputs": [],
   "source": [
    "def build_topical_stream(topic: str, schema: StructType):\n",
    "    \"\"\"Create a streaming dataframe for the given topic.\n",
    "\n",
    "    topic: topic name, `pin` or `geo` or `user`\n",
    "    schema: schema specification for the topic to correctly tranform streamed data into a Spark dataframe.\n",
    "\n",
    "    returns:\n",
    "        Spark streaming dataframe\n",
    "\n",
    "    \"\"\"\n",
    "    stream_name = f'streaming-0a1d8948160f-{topic}'\n",
    "    return spark \\\n",
    "        .readStream \\\n",
    "        .format('kinesis') \\\n",
    "        .option('streamName',stream_name) \\\n",
    "        .option('initialPosition','earliest') \\\n",
    "        .option('region','us-east-1') \\\n",
    "        .option('awsAccessKey', ACCESS_KEY) \\\n",
    "        .option('awsSecretKey', SECRET_KEY) \\\n",
    "        .load() \\\n",
    "        .selectExpr('cast (data as STRING) jsonData') \\\n",
    "        .select(from_json('jsonData', schema=schema).alias('df')) \\\n",
    "        .select('df.*')\n",
    "\n",
    "def write_stream_delta_table(topic):\n",
    "    pass"
   ]
  },
  {
   "cell_type": "markdown",
   "metadata": {},
   "source": [
    "### Build and clean the streaming data pipeline for the three topics"
   ]
  },
  {
   "cell_type": "code",
   "execution_count": null,
   "metadata": {
    "application/vnd.databricks.v1+cell": {
     "cellMetadata": {
      "byteLimit": 2048000,
      "rowLimit": 10000
     },
     "inputWidgets": {},
     "nuid": "1926053e-07e9-4e71-872e-4374256f1dfe",
     "showTitle": false,
     "title": ""
    }
   },
   "outputs": [],
   "source": [
    "df_pin = build_topical_stream('pin', pin_schema)\n",
    "df_geo = build_topical_stream('geo', geo_schema)\n",
    "df_user = build_topical_stream('user', user_schema)"
   ]
  },
  {
   "cell_type": "code",
   "execution_count": null,
   "metadata": {
    "application/vnd.databricks.v1+cell": {
     "cellMetadata": {
      "byteLimit": 2048000,
      "rowLimit": 10000
     },
     "inputWidgets": {},
     "nuid": "7247ef81-e25c-448e-9528-6d74d657ccd4",
     "showTitle": false,
     "title": ""
    }
   },
   "outputs": [],
   "source": [
    "df_pin_clean = clean_pin_dataframe(df_pin)\n",
    "df_geo_clean = clean_geo_dataframe(df_geo)\n",
    "df_user_clean = clean_user_dataframe(df_user)"
   ]
  },
  {
   "cell_type": "markdown",
   "metadata": {},
   "source": [
    "### Write the clean stream to Delta tables"
   ]
  },
  {
   "cell_type": "code",
   "execution_count": null,
   "metadata": {
    "application/vnd.databricks.v1+cell": {
     "cellMetadata": {
      "byteLimit": 2048000,
      "rowLimit": 10000
     },
     "inputWidgets": {},
     "nuid": "a218fc20-225b-4d5b-b99a-db5741d25fc2",
     "showTitle": false,
     "title": ""
    }
   },
   "outputs": [],
   "source": [
    "for topic, df in zip(['pin', 'geo', 'user'], [df_pin_clean, df_geo_clean, df_user_clean]):\n",
    "    table_name = f'0a1d8948160f_{topic}_table'\n",
    "    df.writeStream \\\n",
    "        .format('delta') \\\n",
    "        .outputMode('append') \\\n",
    "        .option('checkpointLocation', '/tmp/kinesis/0a1d8948160f/_checkpoints/') \\\n",
    "        .option('region', 'us-east-1') \\\n",
    "        .table(table_name)"
   ]
  }
 ],
 "metadata": {
  "application/vnd.databricks.v1+notebook": {
   "dashboards": [],
   "language": "python",
   "notebookMetadata": {
    "mostRecentlyExecutedCommandWithImplicitDF": {
     "commandId": -1,
     "dataframes": [
      "_sqldf"
     ]
    },
    "pythonIndentUnit": 4
   },
   "notebookName": "0a1d8948160f_Streaming_PinterestDataPipeline",
   "widgets": {}
  },
  "language_info": {
   "name": "python"
  }
 },
 "nbformat": 4,
 "nbformat_minor": 0
}
