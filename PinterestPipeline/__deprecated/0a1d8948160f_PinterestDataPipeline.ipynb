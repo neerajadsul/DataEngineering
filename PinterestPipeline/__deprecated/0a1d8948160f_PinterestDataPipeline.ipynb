{
 "cells": [
  {
   "cell_type": "code",
   "execution_count": null,
   "metadata": {
    "application/vnd.databricks.v1+cell": {
     "cellMetadata": {
      "byteLimit": 2048000,
      "rowLimit": 10000
     },
     "inputWidgets": {},
     "nuid": "d4660950-e295-4637-9176-4490759c3409",
     "showTitle": false,
     "title": ""
    }
   },
   "outputs": [],
   "source": [
    "# pyspark functions\n",
    "from pyspark.sql.functions import *\n",
    "from pyspark.sql.types import IntegerType\n",
    "import pyspark\n",
    "# URL processing\n",
    "import urllib\n",
    "import pyspark.pandas as pd"
   ]
  },
  {
   "cell_type": "markdown",
   "metadata": {
    "application/vnd.databricks.v1+cell": {
     "cellMetadata": {
      "byteLimit": 2048000,
      "rowLimit": 10000
     },
     "inputWidgets": {},
     "nuid": "981e5318-71c4-4ae4-a7fd-5a23fc26ec3f",
     "showTitle": false,
     "title": ""
    }
   },
   "source": [
    "## Read the credentials and prepare to connect to S3 Bucket"
   ]
  },
  {
   "cell_type": "code",
   "execution_count": null,
   "metadata": {
    "application/vnd.databricks.v1+cell": {
     "cellMetadata": {
      "byteLimit": 2048000,
      "rowLimit": 10000
     },
     "inputWidgets": {},
     "nuid": "0e137426-3394-40ca-b4db-3214f38bde6b",
     "showTitle": false,
     "title": ""
    }
   },
   "outputs": [],
   "source": [
    "# Specify file type to be csv\n",
    "file_type = \"csv\"\n",
    "# Indicates file has first row as the header\n",
    "first_row_is_header = \"true\"\n",
    "# Indicates file has comma as the delimeter\n",
    "delimiter = \",\"\n",
    "# Read the CSV file to spark dataframe\n",
    "aws_keys_df = spark.read.format(file_type)\\\n",
    ".option(\"header\", first_row_is_header)\\\n",
    ".option(\"sep\", delimiter)\\\n",
    ".load(\"/FileStore/tables/authentication_credentials.csv\")\n",
    "\n",
    "# Get the AWS access key and secret key from the spark dataframe\n",
    "ACCESS_KEY = aws_keys_df.where(col('User name')=='databricks-user').select('Access key ID').collect()[0]['Access key ID']\n",
    "SECRET_KEY = aws_keys_df.where(col('User name')=='databricks-user').select('Secret access key').collect()[0]['Secret access key']\n",
    "# Encode the secrete key\n",
    "ENCODED_SECRET_KEY = urllib.parse.quote(string=SECRET_KEY, safe=\"\")"
   ]
  },
  {
   "cell_type": "code",
   "execution_count": null,
   "metadata": {
    "application/vnd.databricks.v1+cell": {
     "cellMetadata": {
      "byteLimit": 2048000,
      "rowLimit": 10000
     },
     "inputWidgets": {},
     "nuid": "eb6fc865-4728-4c17-8f44-bbf803aa1572",
     "showTitle": false,
     "title": ""
    }
   },
   "outputs": [],
   "source": [
    "display(aws_keys_df)"
   ]
  },
  {
   "cell_type": "markdown",
   "metadata": {
    "application/vnd.databricks.v1+cell": {
     "cellMetadata": {
      "byteLimit": 2048000,
      "rowLimit": 10000
     },
     "inputWidgets": {},
     "nuid": "8eac560b-c873-4db0-9767-729c89ea0631",
     "showTitle": false,
     "title": ""
    }
   },
   "source": [
    "## Connect and Mount S3 Bucket to Databricks File System"
   ]
  },
  {
   "cell_type": "code",
   "execution_count": null,
   "metadata": {
    "application/vnd.databricks.v1+cell": {
     "cellMetadata": {
      "byteLimit": 2048000,
      "rowLimit": 10000
     },
     "inputWidgets": {},
     "nuid": "56dce305-dedb-4c41-b17c-838b7f7427dd",
     "showTitle": false,
     "title": ""
    }
   },
   "outputs": [],
   "source": [
    "# AWS S3 bucket name\n",
    "AWS_S3_BUCKET = \"user-0a1d8948160f-bucket\"\n",
    "# Mount name for the bucket\n",
    "MOUNT_NAME = \"/mnt/pin_pipe\"\n",
    "# Source url\n",
    "SOURCE_URL = \"s3n://{0}:{1}@{2}\".format(ACCESS_KEY, ENCODED_SECRET_KEY, AWS_S3_BUCKET)\n",
    "# Mount the drive\n",
    "\n",
    "mount_points = (mount.mountPoint for mount in dbutils.fs.mounts())\n",
    "\n",
    "if any(MOUNT_NAME in mount for mount in mount_points):\n",
    "    print(f'{AWS_S3_BUCKET} is already mounted at {MOUNT_NAME}')\n",
    "else:\n",
    "    print('Mouting the S3 Paritions')\n",
    "    dbutils.fs.mount(SOURCE_URL, MOUNT_NAME)\n"
   ]
  },
  {
   "cell_type": "code",
   "execution_count": null,
   "metadata": {
    "application/vnd.databricks.v1+cell": {
     "cellMetadata": {
      "byteLimit": 2048000,
      "rowLimit": 10000
     },
     "inputWidgets": {},
     "nuid": "423e0143-99a9-4b39-bf94-c29b263435f8",
     "showTitle": false,
     "title": ""
    }
   },
   "outputs": [],
   "source": [
    "pin_data_location = f\"{MOUNT_NAME}/topics/0a1d8948160f.pin/partition=0/\"\n",
    "geo_data_location = f\"{MOUNT_NAME}/topics/0a1d8948160f.geo/partition=0/\"\n",
    "user_data_location = f\"{MOUNT_NAME}/topics/0a1d8948160f.user/partition=0/\"\n",
    "print(len(dbutils.fs.ls(pin_data_location)))\n",
    "print(len(dbutils.fs.ls(geo_data_location)))\n",
    "print(len(dbutils.fs.ls(user_data_location)))\n"
   ]
  },
  {
   "cell_type": "markdown",
   "metadata": {
    "application/vnd.databricks.v1+cell": {
     "cellMetadata": {},
     "inputWidgets": {},
     "nuid": "d55ec8c3-d7c2-439f-857a-44e4eff38084",
     "showTitle": false,
     "title": ""
    }
   },
   "source": [
    "## Read JSON data files for all pinterest posts data"
   ]
  },
  {
   "cell_type": "code",
   "execution_count": null,
   "metadata": {
    "application/vnd.databricks.v1+cell": {
     "cellMetadata": {
      "byteLimit": 2048000,
      "rowLimit": 10000
     },
     "inputWidgets": {},
     "nuid": "e7ab0a8e-5265-4d42-9fd0-fc18d7d4867e",
     "showTitle": false,
     "title": ""
    }
   },
   "outputs": [],
   "source": [
    "def prepare_dataframe(data_location):\n",
    "    data_files = dbutils.fs.ls(data_location)\n",
    "    # df = spark.read\\\n",
    "    #     .format('json')\\\n",
    "    #     .option(\"inferSchema\", True)\\\n",
    "    #     .load([x.path for x in data_files])\n",
    "    df = spark.read.json(data_location + '/*.json')\n",
    "    return df"
   ]
  },
  {
   "cell_type": "code",
   "execution_count": null,
   "metadata": {
    "application/vnd.databricks.v1+cell": {
     "cellMetadata": {
      "byteLimit": 2048000,
      "rowLimit": 10000
     },
     "inputWidgets": {},
     "nuid": "e9cc787f-1261-4fc8-bdc8-6535080ee857",
     "showTitle": false,
     "title": ""
    }
   },
   "outputs": [],
   "source": [
    "### Read All Data for pinterest posts from S3\n",
    "df_pin = prepare_dataframe(pin_data_location)\n",
    "df_pin.show(5)"
   ]
  },
  {
   "cell_type": "code",
   "execution_count": null,
   "metadata": {
    "application/vnd.databricks.v1+cell": {
     "cellMetadata": {
      "byteLimit": 2048000,
      "rowLimit": 10000
     },
     "inputWidgets": {},
     "nuid": "15e12d23-4370-4aa5-b92f-01543a6db438",
     "showTitle": false,
     "title": ""
    }
   },
   "outputs": [],
   "source": [
    "# pin_dfs = pd.DataFrame(df_pin)"
   ]
  },
  {
   "cell_type": "markdown",
   "metadata": {
    "application/vnd.databricks.v1+cell": {
     "cellMetadata": {},
     "inputWidgets": {},
     "nuid": "403b55e3-d532-44cd-9695-9afa85979b24",
     "showTitle": false,
     "title": ""
    }
   },
   "source": [
    "## Clean Pin Spark DataFrame\n",
    "\n",
    "Replace empty entries and entries with no relevant data in each column with `Nones` \\\n",
    "Perform the necessary transformations on the follower_count to ensure every entry is a number. \\\n",
    "Make sure the data type of this column is an `int`. \\\n",
    "Ensure that each column containing numeric data has a numeric data type \\\n",
    "Clean the data in the `save_location` column to include only the save location path \\\n",
    "Rename the `index` column to `ind`. \\\n",
    "Reorder the `DataFrame` columns to have the following column order: \\\n",
    "    `ind` \\\n",
    "    `unique_id` \\\n",
    "    `title` \\\n",
    "    `description` \\\n",
    "    `follower_count` \\\n",
    "    `poster_name` \\\n",
    "    `tag_list` \\\n",
    "    `is_image_or_video` \\\n",
    "    `image_src` \\\n",
    "    `save_location` \\\n",
    "    `category`"
   ]
  },
  {
   "cell_type": "markdown",
   "metadata": {
    "application/vnd.databricks.v1+cell": {
     "cellMetadata": {},
     "inputWidgets": {},
     "nuid": "790d1fd9-c526-4972-bb9e-63e78b849f4e",
     "showTitle": false,
     "title": ""
    }
   },
   "source": [
    "### Make sure unique ids are correct format"
   ]
  },
  {
   "cell_type": "code",
   "execution_count": null,
   "metadata": {
    "application/vnd.databricks.v1+cell": {
     "cellMetadata": {
      "byteLimit": 2048000,
      "rowLimit": 10000
     },
     "inputWidgets": {},
     "nuid": "a3824a10-7957-4e25-a357-0e0597417986",
     "showTitle": false,
     "title": ""
    }
   },
   "outputs": [],
   "source": [
    "# uuid_regex = r'[a-z0-9]{8}-[a-z0-9]{4}-[a-z0-9]{4}-[a-z0-9]{4}-[a-z0-9]{12}'\n",
    "# pin_dfs = pin_dfs[pin_dfs['unique_id'].str.match(uuid_regex)]\n",
    "# len(pin_dfs)\n",
    "df_pin = df_pin.filter(length(df_pin.unique_id) == 36)"
   ]
  },
  {
   "cell_type": "markdown",
   "metadata": {
    "application/vnd.databricks.v1+cell": {
     "cellMetadata": {},
     "inputWidgets": {},
     "nuid": "a17a01fa-29b6-48bc-b259-dfe71deb520b",
     "showTitle": false,
     "title": ""
    }
   },
   "source": [
    "### Cleanup and transform `follower_count`"
   ]
  },
  {
   "cell_type": "markdown",
   "metadata": {
    "application/vnd.databricks.v1+cell": {
     "cellMetadata": {},
     "inputWidgets": {},
     "nuid": "b70cfd9c-68f9-48d3-8e53-dbb2dccf25ff",
     "showTitle": false,
     "title": ""
    }
   },
   "source": [
    "#### 1. Remove rows with invalid follower count"
   ]
  },
  {
   "cell_type": "code",
   "execution_count": null,
   "metadata": {
    "application/vnd.databricks.v1+cell": {
     "cellMetadata": {
      "byteLimit": 2048000,
      "rowLimit": 10000
     },
     "inputWidgets": {},
     "nuid": "c8b03b87-d7a2-46f4-9d6e-3ddb6d5d88b4",
     "showTitle": false,
     "title": ""
    }
   },
   "outputs": [],
   "source": [
    "follower_regex = r'[0-9]{1,}[kM]?'\n",
    "# pin_dfs = pin_dfs[pin_dfs['follower_count'].str.match(follower_regex)]\n",
    "# len(pin_dfs)\n",
    "df_pin = df_pin.filter(df_pin.follower_count.rlike(follower_regex))\n",
    "df_pin.count()"
   ]
  },
  {
   "cell_type": "markdown",
   "metadata": {
    "application/vnd.databricks.v1+cell": {
     "cellMetadata": {},
     "inputWidgets": {},
     "nuid": "2b598a37-69b0-4594-9ff2-6f43c060bb54",
     "showTitle": false,
     "title": ""
    }
   },
   "source": [
    "#### 2. Convert *kilo* and *Million* to numeric"
   ]
  },
  {
   "cell_type": "code",
   "execution_count": null,
   "metadata": {
    "application/vnd.databricks.v1+cell": {
     "cellMetadata": {
      "byteLimit": 2048000,
      "rowLimit": 10000
     },
     "inputWidgets": {},
     "nuid": "9fd41586-f43f-4283-bf37-549700abbe12",
     "showTitle": false,
     "title": ""
    }
   },
   "outputs": [],
   "source": [
    "def transform_followers_count(x) -> int:\n",
    "    muliplier = 1\n",
    "    if x.endswith('k'):\n",
    "        return 1000 * int(x[:-1])\n",
    "    elif x.endswith('M'):\n",
    "        return 1000000 * int(x[:-1])\n",
    "    else:\n",
    "        return int(x)\n",
    "\n",
    "# pin_dfs['follower_count'] = pin_dfs['follower_count'].apply(transform_followers_count)\n",
    "transform_followers_udf = udf(transform_followers_count, IntegerType())\n",
    "df_pin = df_pin.withColumn('follower_count', transform_followers_udf('follower_count'))"
   ]
  },
  {
   "cell_type": "markdown",
   "metadata": {
    "application/vnd.databricks.v1+cell": {
     "cellMetadata": {},
     "inputWidgets": {},
     "nuid": "0b89ad1d-988f-489e-a521-29940f5121c7",
     "showTitle": false,
     "title": ""
    }
   },
   "source": [
    "### Rename index column to `ind`"
   ]
  },
  {
   "cell_type": "code",
   "execution_count": null,
   "metadata": {
    "application/vnd.databricks.v1+cell": {
     "cellMetadata": {
      "byteLimit": 2048000,
      "rowLimit": 10000
     },
     "inputWidgets": {},
     "nuid": "82eb9ecc-3d60-421f-8b6d-51c2527c1de8",
     "showTitle": false,
     "title": ""
    }
   },
   "outputs": [],
   "source": [
    "# pin_dfs.rename(columns={'index': 'ind'}, inplace=True)\n",
    "df_pin = df_pin.withColumnRenamed('index', 'ind')"
   ]
  },
  {
   "cell_type": "markdown",
   "metadata": {
    "application/vnd.databricks.v1+cell": {
     "cellMetadata": {},
     "inputWidgets": {},
     "nuid": "a6765d30-5a02-4bc2-b85d-dd46ffbcd7e4",
     "showTitle": false,
     "title": ""
    }
   },
   "source": [
    "### Cleanup the `save_location` columns to keep only the path"
   ]
  },
  {
   "cell_type": "code",
   "execution_count": null,
   "metadata": {
    "application/vnd.databricks.v1+cell": {
     "cellMetadata": {
      "byteLimit": 2048000,
      "rowLimit": 10000
     },
     "inputWidgets": {},
     "nuid": "62ab2d1f-2624-4e88-b579-15a54bc84f09",
     "showTitle": false,
     "title": ""
    }
   },
   "outputs": [],
   "source": [
    "# pin_dfs['save_location'] = pin_dfs['save_location'].str.replace('Local save in ', '', regex=False)\n",
    "df_pin = df_pin.withColumn('save_location', regexp_replace('save_location', 'Local save in ', ''))"
   ]
  },
  {
   "cell_type": "markdown",
   "metadata": {
    "application/vnd.databricks.v1+cell": {
     "cellMetadata": {},
     "inputWidgets": {},
     "nuid": "190bd11d-bb90-4508-a8e4-d094c5e08581",
     "showTitle": false,
     "title": ""
    }
   },
   "source": [
    "### Reorder the columns"
   ]
  },
  {
   "cell_type": "code",
   "execution_count": null,
   "metadata": {
    "application/vnd.databricks.v1+cell": {
     "cellMetadata": {
      "byteLimit": 2048000,
      "rowLimit": 10000
     },
     "inputWidgets": {},
     "nuid": "073f8ca1-1fc5-4efc-b78e-bf825679e856",
     "showTitle": false,
     "title": ""
    }
   },
   "outputs": [],
   "source": [
    "# pin_dfs = pin_dfs[['ind', 'unique_id', 'title', 'description', 'follower_count', 'poster_name',\n",
    "#                    'tag_list', 'is_image_or_video', 'image_src', 'save_location', 'category']]\n",
    "df_pin = df_pin[['ind', 'unique_id', 'title', 'description', 'follower_count', 'poster_name',\n",
    "                   'tag_list', 'is_image_or_video', 'image_src', 'save_location', 'category']]"
   ]
  },
  {
   "cell_type": "markdown",
   "metadata": {
    "application/vnd.databricks.v1+cell": {
     "cellMetadata": {},
     "inputWidgets": {},
     "nuid": "7eef66cf-949d-46ab-903a-2196a5ca137f",
     "showTitle": false,
     "title": ""
    }
   },
   "source": [
    "### Replace empty and not applicable with `None`"
   ]
  },
  {
   "cell_type": "code",
   "execution_count": null,
   "metadata": {
    "application/vnd.databricks.v1+cell": {
     "cellMetadata": {
      "byteLimit": 2048000,
      "rowLimit": 10000
     },
     "inputWidgets": {},
     "nuid": "38a9826d-069f-4e49-a4f7-b42e6deccaef",
     "showTitle": false,
     "title": ""
    }
   },
   "outputs": [],
   "source": [
    "# pin_dfs = pin_dfs.replace(['', 'N/A', 'n/a', 'none', 'None'], None)\n",
    "df_pin = df_pin.replace(['', 'N/A', 'n/a', 'none', 'None'], None)"
   ]
  },
  {
   "cell_type": "markdown",
   "metadata": {
    "application/vnd.databricks.v1+cell": {
     "cellMetadata": {},
     "inputWidgets": {},
     "nuid": "14ba790a-17b9-4045-b755-4cb5d7760acb",
     "showTitle": false,
     "title": ""
    }
   },
   "source": [
    "### Finally, drop duplicate rows"
   ]
  },
  {
   "cell_type": "code",
   "execution_count": null,
   "metadata": {
    "application/vnd.databricks.v1+cell": {
     "cellMetadata": {
      "byteLimit": 2048000,
      "rowLimit": 10000
     },
     "inputWidgets": {},
     "nuid": "935f393e-9b91-4442-9da6-9cac33c14d81",
     "showTitle": false,
     "title": ""
    }
   },
   "outputs": [],
   "source": [
    "# pin_dfs = pin_dfs.drop_duplicates()\n",
    "df_pin = df_pin.drop_duplicates()"
   ]
  },
  {
   "cell_type": "markdown",
   "metadata": {
    "application/vnd.databricks.v1+cell": {
     "cellMetadata": {},
     "inputWidgets": {},
     "nuid": "b572f57d-c0f8-4670-98b9-2b695de80912",
     "showTitle": false,
     "title": ""
    }
   },
   "source": [
    "## Read JSON data files for all geolocation data"
   ]
  },
  {
   "cell_type": "code",
   "execution_count": null,
   "metadata": {
    "application/vnd.databricks.v1+cell": {
     "cellMetadata": {
      "byteLimit": 2048000,
      "rowLimit": 10000
     },
     "inputWidgets": {},
     "nuid": "541ed88f-0689-408a-bd64-fdb7d39a68e0",
     "showTitle": false,
     "title": ""
    }
   },
   "outputs": [],
   "source": [
    "df_geo = prepare_dataframe(geo_data_location)\n",
    "display(df_geo)"
   ]
  },
  {
   "cell_type": "code",
   "execution_count": null,
   "metadata": {
    "application/vnd.databricks.v1+cell": {
     "cellMetadata": {
      "byteLimit": 2048000,
      "rowLimit": 10000
     },
     "inputWidgets": {},
     "nuid": "bbef4ce6-db1f-4bdf-822a-1f911211abd9",
     "showTitle": false,
     "title": ""
    }
   },
   "outputs": [],
   "source": [
    "geo_dfs = pd.DataFrame(df_geo)"
   ]
  },
  {
   "cell_type": "markdown",
   "metadata": {
    "application/vnd.databricks.v1+cell": {
     "cellMetadata": {},
     "inputWidgets": {},
     "nuid": "dcf1a456-1e11-4c94-9cc4-97aa5fec5389",
     "showTitle": false,
     "title": ""
    }
   },
   "source": [
    "## Clean Geo Spark DataFrame\n",
    "To clean the df_geo DataFrame you should perform the following transformations:\n",
    "\n",
    "Create a new column `coordinates` that contains an array based on the `latitude` and `longitude` columns.\\\n",
    "Drop the `latitude` and `longitude` columns from the `DataFrame`. \\\n",
    "Convert the `timestamp` column from a string to a `timestamp` data type. \\\n",
    "Reorder the `DataFrame` columns to have the following column order:\\\n",
    "  `ind`\\\n",
    "  `country`\\\n",
    "  `coordinates`\\\n",
    "  `timestamp`"
   ]
  },
  {
   "cell_type": "markdown",
   "metadata": {
    "application/vnd.databricks.v1+cell": {
     "cellMetadata": {},
     "inputWidgets": {},
     "nuid": "49e9f703-4b74-460c-b4bc-9a7196874f7c",
     "showTitle": false,
     "title": ""
    }
   },
   "source": [
    "### Creates new column `coordinates` from `latitude` and `longitude` and drops them after creation"
   ]
  },
  {
   "cell_type": "code",
   "execution_count": null,
   "metadata": {
    "application/vnd.databricks.v1+cell": {
     "cellMetadata": {
      "byteLimit": 2048000,
      "rowLimit": 10000
     },
     "inputWidgets": {},
     "nuid": "660a2e09-667b-4326-b081-cbcdcd3fa31b",
     "showTitle": false,
     "title": ""
    }
   },
   "outputs": [],
   "source": [
    "df_geo = df_geo.withColumn('coordinates', array(df_geo.latitude, df_geo.longitude)).drop('latitude','longitude')"
   ]
  },
  {
   "cell_type": "markdown",
   "metadata": {
    "application/vnd.databricks.v1+cell": {
     "cellMetadata": {},
     "inputWidgets": {},
     "nuid": "009a747f-0a96-400e-bf13-18520b89dc5c",
     "showTitle": false,
     "title": ""
    }
   },
   "source": [
    "### Convert `timestamp` column to `timestamp` data type"
   ]
  },
  {
   "cell_type": "code",
   "execution_count": null,
   "metadata": {
    "application/vnd.databricks.v1+cell": {
     "cellMetadata": {
      "byteLimit": 2048000,
      "rowLimit": 10000
     },
     "inputWidgets": {},
     "nuid": "7ea498c8-93a0-4d6d-b33a-0c5bca1f6da7",
     "showTitle": false,
     "title": ""
    }
   },
   "outputs": [],
   "source": [
    "df_geo = df_geo.withColumn('timestamp', to_timestamp(df_geo.timestamp))"
   ]
  },
  {
   "cell_type": "code",
   "execution_count": null,
   "metadata": {
    "application/vnd.databricks.v1+cell": {
     "cellMetadata": {
      "byteLimit": 2048000,
      "rowLimit": 10000
     },
     "inputWidgets": {},
     "nuid": "9d969436-20aa-463d-98c6-dd6fad642034",
     "showTitle": false,
     "title": ""
    }
   },
   "outputs": [],
   "source": []
  },
  {
   "cell_type": "markdown",
   "metadata": {
    "application/vnd.databricks.v1+cell": {
     "cellMetadata": {},
     "inputWidgets": {},
     "nuid": "6c1f8a32-5e63-46c6-89e4-7137cc946c75",
     "showTitle": false,
     "title": ""
    }
   },
   "source": [
    "### Reorder the columns as:\n",
    "`['ind', 'country', 'coordinates', 'timestamp']`"
   ]
  },
  {
   "cell_type": "code",
   "execution_count": null,
   "metadata": {
    "application/vnd.databricks.v1+cell": {
     "cellMetadata": {
      "byteLimit": 2048000,
      "rowLimit": 10000
     },
     "inputWidgets": {},
     "nuid": "177f6f83-f623-4628-85a5-46f7a913b627",
     "showTitle": false,
     "title": ""
    }
   },
   "outputs": [],
   "source": [
    "df_geo = df_geo[['ind', 'country', 'coordinates', 'timestamp']]"
   ]
  },
  {
   "cell_type": "code",
   "execution_count": null,
   "metadata": {
    "application/vnd.databricks.v1+cell": {
     "cellMetadata": {
      "byteLimit": 2048000,
      "rowLimit": 10000
     },
     "inputWidgets": {},
     "nuid": "d25e56ec-b111-47c6-a2e4-a37e1f5c6e13",
     "showTitle": false,
     "title": ""
    }
   },
   "outputs": [],
   "source": [
    "df_geo.columns"
   ]
  },
  {
   "cell_type": "markdown",
   "metadata": {
    "application/vnd.databricks.v1+cell": {
     "cellMetadata": {
      "byteLimit": 2048000,
      "rowLimit": 10000
     },
     "inputWidgets": {},
     "nuid": "3cbe60f8-5407-445d-9389-b6c8d11c56cd",
     "showTitle": false,
     "title": ""
    }
   },
   "source": [
    "## Read JSON data files for all user data"
   ]
  },
  {
   "cell_type": "code",
   "execution_count": null,
   "metadata": {
    "application/vnd.databricks.v1+cell": {
     "cellMetadata": {
      "byteLimit": 2048000,
      "rowLimit": 10000
     },
     "inputWidgets": {},
     "nuid": "6bf6be88-0646-4a82-a143-800f4fe75659",
     "showTitle": false,
     "title": ""
    }
   },
   "outputs": [],
   "source": [
    "df_user = prepare_dataframe(user_data_location)\n",
    "df_user.columns"
   ]
  },
  {
   "cell_type": "code",
   "execution_count": null,
   "metadata": {
    "application/vnd.databricks.v1+cell": {
     "cellMetadata": {
      "byteLimit": 2048000,
      "rowLimit": 10000
     },
     "inputWidgets": {},
     "nuid": "6d8cadf2-6533-4606-b006-c8f4874911d3",
     "showTitle": false,
     "title": ""
    }
   },
   "outputs": [],
   "source": [
    "df_user.show(10)"
   ]
  },
  {
   "cell_type": "markdown",
   "metadata": {
    "application/vnd.databricks.v1+cell": {
     "cellMetadata": {},
     "inputWidgets": {},
     "nuid": "1d42d1b3-2a0e-477c-b71c-56959d071932",
     "showTitle": false,
     "title": ""
    }
   },
   "source": [
    "## Clean User Spark DataFrame\n",
    "To clean the df_user DataFrame you should perform the following transformations:\n",
    "\n",
    "Create a new column `user_name` that concatenates the information found in the `first_name` and `last_name` columns. \\\n",
    "Drop the `first_name` and `last_name` columns from the DataFrame. \\\n",
    "Convert the `date_joined` column from a `string` to a `timestamp` data type. \\\n",
    "Reorder the `DataFrame` columns to have the following column order: \\\n",
    "  `ind`, \n",
    "  `user_name`, \n",
    "  `age`, \n",
    "  `date_joined`\n"
   ]
  },
  {
   "cell_type": "code",
   "execution_count": null,
   "metadata": {
    "application/vnd.databricks.v1+cell": {
     "cellMetadata": {
      "byteLimit": 2048000,
      "rowLimit": 10000
     },
     "inputWidgets": {},
     "nuid": "2420bf0f-e278-407b-aa55-8ddd08f2546d",
     "showTitle": false,
     "title": ""
    }
   },
   "outputs": [],
   "source": [
    "df_user = df_user.withColumn('user_name', concat(df_user.first_name, df_user.last_name)).drop('first_name', 'last_name')"
   ]
  },
  {
   "cell_type": "code",
   "execution_count": null,
   "metadata": {
    "application/vnd.databricks.v1+cell": {
     "cellMetadata": {
      "byteLimit": 2048000,
      "rowLimit": 10000
     },
     "inputWidgets": {},
     "nuid": "536ae812-abe4-4774-8ec2-d5afbfbe995c",
     "showTitle": false,
     "title": ""
    }
   },
   "outputs": [],
   "source": [
    "df_user = df_user.withColumn('date_joined', to_timestamp(df_user.date_joined))"
   ]
  },
  {
   "cell_type": "code",
   "execution_count": null,
   "metadata": {
    "application/vnd.databricks.v1+cell": {
     "cellMetadata": {
      "byteLimit": 2048000,
      "rowLimit": 10000
     },
     "inputWidgets": {},
     "nuid": "360cf1ac-c1cd-4f35-93d3-99f5c980d6cb",
     "showTitle": false,
     "title": ""
    }
   },
   "outputs": [],
   "source": [
    "df_user = df_user[['ind', 'user_name', 'age', 'date_joined']]"
   ]
  },
  {
   "cell_type": "markdown",
   "metadata": {
    "application/vnd.databricks.v1+cell": {
     "cellMetadata": {
      "byteLimit": 2048000,
      "rowLimit": 10000
     },
     "inputWidgets": {},
     "nuid": "e2831949-0a7f-4f46-9ed5-b5de5cb9e117",
     "showTitle": false,
     "title": ""
    }
   },
   "source": [
    "## Analytics Queries"
   ]
  },
  {
   "cell_type": "code",
   "execution_count": null,
   "metadata": {
    "application/vnd.databricks.v1+cell": {
     "cellMetadata": {
      "byteLimit": 2048000,
      "rowLimit": 10000
     },
     "inputWidgets": {},
     "nuid": "40a5c682-8fed-400b-bbf3-ee99d37b0464",
     "showTitle": false,
     "title": ""
    }
   },
   "outputs": [],
   "source": [
    "print('df_pin: \\n', df_pin.columns)\n",
    "print('df_geo: \\n', df_geo.columns)\n",
    "print('df_user: \\n', df_user.columns)"
   ]
  },
  {
   "cell_type": "markdown",
   "metadata": {
    "application/vnd.databricks.v1+cell": {
     "cellMetadata": {},
     "inputWidgets": {},
     "nuid": "9c9e137a-8ae1-4b55-8106-6631c22adf4a",
     "showTitle": false,
     "title": ""
    }
   },
   "source": [
    "### M7-T4 Find the most popular Pinterest category people post to based on their country.\n",
    "\n",
    "Your query should return a DataFrame that contains the following columns:\n",
    "- country\n",
    "- category\n",
    "- category_count, a new column containing the desired query output"
   ]
  },
  {
   "cell_type": "code",
   "execution_count": null,
   "metadata": {
    "application/vnd.databricks.v1+cell": {
     "cellMetadata": {
      "byteLimit": 2048000,
      "rowLimit": 10000
     },
     "inputWidgets": {},
     "nuid": "20e6aeec-d9f9-436a-8d32-355c4299a99d",
     "showTitle": false,
     "title": ""
    }
   },
   "outputs": [],
   "source": [
    "# First we inner join two dataframes on index of the post\n",
    "# Count the posts grouped by country and category to get\n",
    "# a table showing total number of posts per category for each country\n",
    "joined = df_pin.join(df_geo, 'ind') \\\n",
    "    .groupBy('country', 'category') \\\n",
    "    .agg(count('*').alias('category_count')) \\\n",
    "    .sort('country', 'category', 'category_count', ascending=False) \\\n",
    "# display(joined)\n",
    "# Now we need to only pick top category for each country therefore\n",
    "# we partition the joined dataframe it by country using a Windowing function \n",
    "# and then sort within each partition by number of posts for each category\n",
    "# Using this, we create a new column in joined dataframe which has this\n",
    "# sorted and partitioned results from highest to lowest leading to highest number of posts\n",
    "# to row 1 for each partition\n",
    "window = pyspark.sql.Window.partitionBy('country').orderBy(desc('category_count'))\n",
    "ranked = joined.withColumn('rank', row_number().over(window))\n",
    "# display(ranked)\n",
    "# Finally, we filter the results picking only the row 1 for each country\n",
    "top_category_per_country = ranked.filter(col('rank')==1).select('country', 'category', 'category_count')\n",
    "display(top_category_per_country)"
   ]
  },
  {
   "cell_type": "markdown",
   "metadata": {
    "application/vnd.databricks.v1+cell": {
     "cellMetadata": {},
     "inputWidgets": {},
     "nuid": "d539f44e-38df-4aad-b4ba-cae857b75943",
     "showTitle": false,
     "title": ""
    }
   },
   "source": [
    "### M7-T5 Find most popular category each year\n",
    "Find how many posts each category had between 2018 and 2022.\n",
    "\n",
    "Your query should return a DataFrame that contains the following columns:\n",
    "\n",
    "- `post_year`, a new column that contains only the year from the timestamp column\n",
    "- `category`\n",
    "- `category_count`, a new column containing the desired query output\n"
   ]
  },
  {
   "cell_type": "code",
   "execution_count": null,
   "metadata": {
    "application/vnd.databricks.v1+cell": {
     "cellMetadata": {
      "byteLimit": 2048000,
      "rowLimit": 10000
     },
     "inputWidgets": {},
     "nuid": "b0da4485-39e0-46b0-83e5-e2aca65d9aed",
     "showTitle": false,
     "title": ""
    }
   },
   "outputs": [],
   "source": [
    "# First we join the dataframes containing posts and geolocation data on index\n",
    "# Grouping by the category\n",
    "joined = df_pin.join(\n",
    "    df_geo.filter(df_geo.timestamp > lit('2017')).filter(df_geo.timestamp < lit('2023')), 'ind'\n",
    "    ).groupBy(year('timestamp').alias('post_year'), 'category')\\\n",
    "    .agg(count('*').alias('category_count')).orderBy('post_year', 'category_count', ascending=False)\n",
    "display(joined)"
   ]
  },
  {
   "cell_type": "markdown",
   "metadata": {
    "application/vnd.databricks.v1+cell": {
     "cellMetadata": {},
     "inputWidgets": {},
     "nuid": "d10baeec-7b31-4edc-8815-b9bac5b1c27b",
     "showTitle": false,
     "title": ""
    }
   },
   "source": [
    "### M7-T6 User with most followers and the country"
   ]
  },
  {
   "cell_type": "markdown",
   "metadata": {
    "application/vnd.databricks.v1+cell": {
     "cellMetadata": {},
     "inputWidgets": {},
     "nuid": "d1149381-2a2b-4d87-a385-0d1180e7acf4",
     "showTitle": false,
     "title": ""
    }
   },
   "source": [
    "#### Step 1: For each country find the user with the most followers.\n",
    "\n",
    "Your query should return a DataFrame that contains the following columns:\n",
    "\n",
    "`country`\n",
    "`poster_name`\n",
    "`follower_count`"
   ]
  },
  {
   "cell_type": "code",
   "execution_count": null,
   "metadata": {
    "application/vnd.databricks.v1+cell": {
     "cellMetadata": {
      "byteLimit": 2048000,
      "rowLimit": 10000
     },
     "inputWidgets": {},
     "nuid": "3b98c45c-3f20-4347-839b-fc19c69bb467",
     "showTitle": false,
     "title": ""
    }
   },
   "outputs": [],
   "source": [
    "# The query has same pattern as previous M7-T5\n",
    "joined = df_pin.join(df_geo, 'ind').groupby('poster_name', 'country').agg(sum('follower_count').alias('follower_count'))\n",
    "window = pyspark.sql.Window.partitionBy('country').orderBy(desc('follower_count'))\n",
    "ranked = joined.withColumn('rank', row_number().over(window))\n",
    "top_user_by_follower_per_country = ranked.filter(col('rank')==1).select('country', 'poster_name', 'follower_count')"
   ]
  },
  {
   "cell_type": "code",
   "execution_count": null,
   "metadata": {
    "application/vnd.databricks.v1+cell": {
     "cellMetadata": {
      "byteLimit": 2048000,
      "rowLimit": 10000
     },
     "inputWidgets": {},
     "nuid": "7b1e9d09-1bb8-4f1b-9e25-aab35fadc461",
     "showTitle": false,
     "title": ""
    }
   },
   "outputs": [],
   "source": [
    "display(top_user_by_follower_per_country)"
   ]
  },
  {
   "cell_type": "markdown",
   "metadata": {
    "application/vnd.databricks.v1+cell": {
     "cellMetadata": {},
     "inputWidgets": {},
     "nuid": "5f5aa630-0945-4e96-b903-3e0a862b3437",
     "showTitle": false,
     "title": ""
    }
   },
   "source": [
    "#### Step 2: Based on the above query, find the country with the user with most followers.\n",
    "\n",
    "Your query should return a DataFrame that contains the following columns:\n",
    "\n",
    "`country`\n",
    "`follower_count`\n",
    "\n",
    "This DataFrame should have only one entry."
   ]
  },
  {
   "cell_type": "code",
   "execution_count": null,
   "metadata": {
    "application/vnd.databricks.v1+cell": {
     "cellMetadata": {
      "byteLimit": 2048000,
      "rowLimit": 10000
     },
     "inputWidgets": {},
     "nuid": "5314c775-fe9e-461b-bad2-3c80e3882345",
     "showTitle": false,
     "title": ""
    }
   },
   "outputs": [],
   "source": [
    "user_country_most_followers = top_user_by_follower_per_country.select('country', 'follower_count')\\\n",
    "    .orderBy('follower_count', ascending=False)"
   ]
  },
  {
   "cell_type": "code",
   "execution_count": null,
   "metadata": {
    "application/vnd.databricks.v1+cell": {
     "cellMetadata": {
      "byteLimit": 2048000,
      "rowLimit": 10000
     },
     "inputWidgets": {},
     "nuid": "67fe23ce-2c78-40b7-8757-9f75054f4e35",
     "showTitle": false,
     "title": ""
    }
   },
   "outputs": [],
   "source": [
    "display(user_country_most_followers.limit(1))"
   ]
  },
  {
   "cell_type": "markdown",
   "metadata": {
    "application/vnd.databricks.v1+cell": {
     "cellMetadata": {},
     "inputWidgets": {},
     "nuid": "42d59bc9-b7cd-4e49-a83b-72c01fa64db9",
     "showTitle": false,
     "title": ""
    }
   },
   "source": [
    "### M7-T7 Most popular category for each age group\n",
    "#### What is the most popular category people post to based on the following age groups:\n",
    "\n",
    "* 18-24\n",
    "* 25-35\n",
    "* 36-50\n",
    "* +50\n",
    "\n",
    "Your query should return a DataFrame that contains the following columns:\\\n",
    "`age_group`, a new column based on the original age column \\\n",
    "`category` \\\n",
    "`category_count`, a new column containing the desired query output\n"
   ]
  },
  {
   "cell_type": "code",
   "execution_count": null,
   "metadata": {
    "application/vnd.databricks.v1+cell": {
     "cellMetadata": {
      "byteLimit": 2048000,
      "rowLimit": 10000
     },
     "inputWidgets": {},
     "nuid": "b66ab0c2-99cb-4bd4-ab73-1346b2ba4793",
     "showTitle": false,
     "title": ""
    }
   },
   "outputs": [],
   "source": [
    "# Drop the columns not required to try increasing the speed\n",
    "joined = df_pin.join(df_user, 'ind')\n",
    "        # .drop('unique_id','title','description','follower_count','poster_name','tag_list',\n",
    "        #                                    'is_image_or_video', 'image_src', 'save_location','user_name', 'date_joined')\n"
   ]
  },
  {
   "cell_type": "code",
   "execution_count": null,
   "metadata": {
    "application/vnd.databricks.v1+cell": {
     "cellMetadata": {
      "byteLimit": 2048000,
      "rowLimit": 10000
     },
     "inputWidgets": {},
     "nuid": "ae64927a-c33e-4d72-a2f2-1b70bd20b7d1",
     "showTitle": false,
     "title": ""
    }
   },
   "outputs": [],
   "source": [
    "age_demongraphics_categorical = joined.withColumn('age_group', \n",
    "                  when(joined.age.between(18, 24), lit('18-24')).otherwise(\n",
    "                      when(joined.age.between(25, 35), lit('25-35')).otherwise(\n",
    "                          when(joined.age.between(36, 50), lit('36-50')).otherwise(lit('50+'))\n",
    "                      )\n",
    "                  )\n",
    ").groupBy('age_group', 'category').agg(count('*').alias('category_count'))"
   ]
  },
  {
   "cell_type": "code",
   "execution_count": null,
   "metadata": {
    "application/vnd.databricks.v1+cell": {
     "cellMetadata": {
      "byteLimit": 2048000,
      "rowLimit": 10000
     },
     "inputWidgets": {},
     "nuid": "0800831a-1437-44ed-b11b-630003c0f3b9",
     "showTitle": false,
     "title": ""
    }
   },
   "outputs": [],
   "source": [
    "window = pyspark.sql.Window.partitionBy('age_group').orderBy(desc('category_count'))\n",
    "ranked = age_demongraphics_categorical.withColumn('rank', row_number().over(window))\n",
    "top_category_by_age = ranked.filter(col('rank')==1).select('age_group', 'category', 'category_count')"
   ]
  },
  {
   "cell_type": "code",
   "execution_count": null,
   "metadata": {
    "application/vnd.databricks.v1+cell": {
     "cellMetadata": {
      "byteLimit": 2048000,
      "rowLimit": 10000
     },
     "inputWidgets": {},
     "nuid": "9b31fc3d-8125-46bf-96f4-5bd802169d7e",
     "showTitle": false,
     "title": ""
    }
   },
   "outputs": [],
   "source": [
    "display(top_category_by_age)"
   ]
  },
  {
   "cell_type": "markdown",
   "metadata": {
    "application/vnd.databricks.v1+cell": {
     "cellMetadata": {},
     "inputWidgets": {},
     "nuid": "04ea8df1-fd25-4106-aa5c-0018018cb889",
     "showTitle": false,
     "title": ""
    }
   },
   "source": [
    "### M7-T8 Median Follower Count by Age Group\n",
    "What is the median follower count for users in the following age groups:\n",
    "\n",
    "* 18-24\n",
    "* 25-35\n",
    "* 36-50\n",
    "* +50\n",
    "\n",
    "Your query should return a DataFrame that contains the following columns:\n",
    "- `age_group`, a new column based on the original `age` column\n",
    "- `median_follower_count`, a new column containing the desired query output\n"
   ]
  },
  {
   "cell_type": "code",
   "execution_count": null,
   "metadata": {
    "application/vnd.databricks.v1+cell": {
     "cellMetadata": {
      "byteLimit": 2048000,
      "rowLimit": 10000
     },
     "inputWidgets": {},
     "nuid": "2ba2474b-ae38-454c-957e-6961a739a0d8",
     "showTitle": false,
     "title": ""
    }
   },
   "outputs": [],
   "source": [
    "joined = df_pin.join(df_user, 'ind')\n",
    "followers_by_age = joined.withColumn('age_group', \n",
    "                when(joined.age.between(18, 24), lit('18-24')\n",
    "                     ).otherwise(\n",
    "                        when(joined.age.between(25, 35), lit('25-35')\n",
    "                             ).otherwise(\n",
    "                                when(joined.age.between(36, 50), lit('36-50')).otherwise(lit('50+'))\n",
    "                            )\n",
    "                    )\n",
    ").groupBy('age_group').agg(percentile_approx('follower_count', 0.5).alias('median_follower_count')).orderBy('age_group')"
   ]
  },
  {
   "cell_type": "code",
   "execution_count": null,
   "metadata": {
    "application/vnd.databricks.v1+cell": {
     "cellMetadata": {
      "byteLimit": 2048000,
      "rowLimit": 10000
     },
     "inputWidgets": {},
     "nuid": "0e61b901-592f-40fd-b300-161159435182",
     "showTitle": false,
     "title": ""
    }
   },
   "outputs": [],
   "source": [
    "display(followers_by_age)"
   ]
  },
  {
   "cell_type": "markdown",
   "metadata": {
    "application/vnd.databricks.v1+cell": {
     "cellMetadata": {},
     "inputWidgets": {},
     "nuid": "66f77e3a-ede4-4c7b-8273-7745701554ab",
     "showTitle": false,
     "title": ""
    }
   },
   "source": [
    "### M7-T9 Users Joining Per Year 2015 - 2020\n",
    "Find how many users have joined between 2015 and 2020.\n",
    "\n",
    "Your query should return a DataFrame that contains the following columns:\n",
    "\n",
    "* `post_year`, a new column that contains only the year from the timestamp column\n",
    "* `number_users_joined`, a new column containing the desired query output\n"
   ]
  },
  {
   "cell_type": "code",
   "execution_count": null,
   "metadata": {
    "application/vnd.databricks.v1+cell": {
     "cellMetadata": {
      "byteLimit": 2048000,
      "rowLimit": 10000
     },
     "inputWidgets": {},
     "nuid": "0389f8de-f380-4929-a393-5d6ee9e4a9b5",
     "showTitle": false,
     "title": ""
    }
   },
   "outputs": [],
   "source": [
    "users_per_year = df_user.withColumn('post_year', year('date_joined'))\\\n",
    "    .groupBy('post_year') \\\n",
    "    .agg(count('user_name').alias('number_users_joined'))\n"
   ]
  },
  {
   "cell_type": "code",
   "execution_count": null,
   "metadata": {
    "application/vnd.databricks.v1+cell": {
     "cellMetadata": {
      "byteLimit": 2048000,
      "rowLimit": 10000
     },
     "inputWidgets": {},
     "nuid": "8bf36207-56a8-4a55-9d41-5a4a74126c47",
     "showTitle": false,
     "title": ""
    }
   },
   "outputs": [],
   "source": [
    "display(users_per_year)"
   ]
  },
  {
   "cell_type": "markdown",
   "metadata": {
    "application/vnd.databricks.v1+cell": {
     "cellMetadata": {},
     "inputWidgets": {},
     "nuid": "b15c48d7-348d-4a82-a063-d0aa01e3f604",
     "showTitle": false,
     "title": ""
    }
   },
   "source": [
    "### M7-T10 Median Follower Count of Users based On Joining Year\n",
    "Find the median follower count of users have joined between 2015 and 2020.\n",
    "Your query should return a DataFrame that contains the following columns:\n",
    "- `post_year`, a new column that contains only the year from the timestamp column\n",
    "- `median_follower_count`, a new column containing the desired query output\n"
   ]
  },
  {
   "cell_type": "code",
   "execution_count": null,
   "metadata": {
    "application/vnd.databricks.v1+cell": {
     "cellMetadata": {
      "byteLimit": 2048000,
      "rowLimit": 10000
     },
     "inputWidgets": {},
     "nuid": "0b764dc4-ba14-4894-a6aa-ab1fbc5ea6a8",
     "showTitle": false,
     "title": ""
    }
   },
   "outputs": [],
   "source": [
    "joined = df_pin.join(df_user, 'ind')\\\n",
    "    .withColumn('post_year', year('date_joined'))\\\n",
    "    .groupBy('post_year')\\\n",
    "    .agg(percentile_approx('follower_count', 0.5).alias('median_follower_count'))\n",
    "    \n",
    "filtered = joined.filter(\n",
    "    joined.post_year.between(lit('2015'), lit('2020'))\n",
    ")"
   ]
  },
  {
   "cell_type": "code",
   "execution_count": null,
   "metadata": {
    "application/vnd.databricks.v1+cell": {
     "cellMetadata": {
      "byteLimit": 2048000,
      "rowLimit": 10000
     },
     "inputWidgets": {},
     "nuid": "2db533a0-1396-423e-900e-e73ff5b6bdc9",
     "showTitle": false,
     "title": ""
    }
   },
   "outputs": [],
   "source": [
    "display(filtered)"
   ]
  },
  {
   "cell_type": "markdown",
   "metadata": {
    "application/vnd.databricks.v1+cell": {
     "cellMetadata": {},
     "inputWidgets": {},
     "nuid": "5800138d-1816-4072-ac55-2d3f75bd93d0",
     "showTitle": false,
     "title": ""
    }
   },
   "source": [
    "### M7-T11 The median follower count of users based on their joining year and age group\n",
    "Find the median follower count of users that have joined between 2015 and 2020, based on which age group they are part of.\\\n",
    "Your query should return a DataFrame that contains the following columns:\n",
    "\n",
    "- `age_group`, a new column based on the original `age` column\n",
    "    * 18-24\n",
    "    * 25-35\n",
    "    * 36-50\n",
    "    * +50\n",
    "- `post_year`, a new column that contains only the year from the timestamp column\n",
    "- `median_follower_count`, a new column containing the desired query output\n"
   ]
  },
  {
   "cell_type": "code",
   "execution_count": null,
   "metadata": {
    "application/vnd.databricks.v1+cell": {
     "cellMetadata": {
      "byteLimit": 2048000,
      "rowLimit": 10000
     },
     "inputWidgets": {},
     "nuid": "13bc4fdc-b80b-4fd4-ae42-3e87d8c5d398",
     "showTitle": false,
     "title": ""
    }
   },
   "outputs": [],
   "source": [
    "joined = df_pin.join(df_user, 'ind').withColumn('post_year', year('date_joined'))\n",
    "followers_by_age_by_joined_year = joined.withColumn('age_group', \n",
    "                when(joined.age.between(18, 24), lit('18-24')\n",
    "                     ).otherwise(\n",
    "                        when(joined.age.between(25, 35), lit('25-35')\n",
    "                             ).otherwise(\n",
    "                                when(joined.age.between(36, 50), lit('36-50')).otherwise(lit('50+'))\n",
    "                            )\n",
    "                    )\n",
    ").groupBy('age_group', 'post_year')\\\n",
    "  .agg(percentile_approx('follower_count', 0.5).alias('median_follower_count'))\\\n",
    "    .orderBy('age_group')"
   ]
  },
  {
   "cell_type": "code",
   "execution_count": null,
   "metadata": {
    "application/vnd.databricks.v1+cell": {
     "cellMetadata": {
      "byteLimit": 2048000,
      "rowLimit": 10000
     },
     "inputWidgets": {},
     "nuid": "16301e45-ca47-4c50-807a-5261a3cf6e4f",
     "showTitle": false,
     "title": ""
    }
   },
   "outputs": [],
   "source": [
    "display(followers_by_age_by_joined_year)"
   ]
  },
  {
   "cell_type": "markdown",
   "metadata": {
    "application/vnd.databricks.v1+cell": {
     "cellMetadata": {},
     "inputWidgets": {},
     "nuid": "defc9a78-e923-4926-8401-91194fe63dec",
     "showTitle": false,
     "title": ""
    }
   },
   "source": [
    "## Unmount S3 Bucket"
   ]
  },
  {
   "cell_type": "code",
   "execution_count": null,
   "metadata": {
    "application/vnd.databricks.v1+cell": {
     "cellMetadata": {
      "byteLimit": 2048000,
      "rowLimit": 10000
     },
     "inputWidgets": {},
     "nuid": "c1460a27-12f0-47af-8d86-55a69bb34b83",
     "showTitle": false,
     "title": ""
    }
   },
   "outputs": [],
   "source": [
    "dbutils.fs.unmount(MOUNT_NAME)"
   ]
  }
 ],
 "metadata": {
  "application/vnd.databricks.v1+notebook": {
   "dashboards": [
    {
     "elements": [
      {
       "dashboardResultIndex": 0,
       "elementNUID": "b0da4485-39e0-46b0-83e5-e2aca65d9aed",
       "elementType": "command",
       "guid": "2ec950d4-edd2-4550-9760-a79e76073bc6",
       "options": {
        "autoScaleImg": false,
        "scale": 0,
        "showRunButton": true,
        "showTitle": true,
        "title": "Number of Posts per Category from 2018 to 2022",
        "titleAlign": "center"
       },
       "position": {
        "height": 8,
        "width": 19,
        "x": 0,
        "y": 9,
        "z": null
       },
       "resultIndex": null
      },
      {
       "dashboardResultIndex": null,
       "elementNUID": "01236d0b-57f6-439b-bdd8-8a88ab5780c6",
       "elementType": "command",
       "guid": "8913e525-91dd-4d22-a1d1-5fa9d7cc2a1f",
       "options": null,
       "position": {
        "height": 8,
        "width": 16,
        "x": 0,
        "y": 38,
        "z": null
       },
       "resultIndex": null
      },
      {
       "dashboardResultIndex": 0,
       "elementNUID": "7b1e9d09-1bb8-4f1b-9e25-aab35fadc461",
       "elementType": "command",
       "guid": "8b4eae88-bb11-4055-ae66-027e5d845d5e",
       "options": {
        "autoScaleImg": false,
        "scale": 0,
        "showRunButton": true,
        "showTitle": true,
        "title": "Countrywise Top Users by Number of Followers",
        "titleAlign": "center"
       },
       "position": {
        "height": 6,
        "width": 19,
        "x": 0,
        "y": 17,
        "z": null
       },
       "resultIndex": null
      },
      {
       "dashboardResultIndex": 0,
       "elementNUID": "20e6aeec-d9f9-436a-8d32-355c4299a99d",
       "elementType": "command",
       "guid": "8cd890ee-7411-40fd-a74f-1f9e0231fd42",
       "options": {
        "autoScaleImg": false,
        "scale": 0,
        "showRunButton": true,
        "showTitle": true,
        "title": "Top Categories for Pins By Country",
        "titleAlign": "center"
       },
       "position": {
        "height": 9,
        "width": 19,
        "x": 0,
        "y": 0,
        "z": null
       },
       "resultIndex": null
      },
      {
       "dashboardResultIndex": 0,
       "elementNUID": "2db533a0-1396-423e-900e-e73ff5b6bdc9",
       "elementType": "command",
       "guid": "a0bcaa48-0271-4664-a440-4bfcc0e39100",
       "options": {
        "autoScaleImg": false,
        "scale": 0,
        "showRunButton": true,
        "showTitle": true,
        "title": "Median Follower Count Users Joined By Year",
        "titleAlign": "center"
       },
       "position": {
        "height": 4,
        "width": 16,
        "x": 0,
        "y": 46,
        "z": null
       },
       "resultIndex": null
      },
      {
       "dashboardResultIndex": 0,
       "elementNUID": "67fe23ce-2c78-40b7-8757-9f75054f4e35",
       "elementType": "command",
       "guid": "a533c127-0e04-4ab0-b14d-fa6c282adad3",
       "options": {
        "autoScaleImg": false,
        "scale": 0,
        "showRunButton": true,
        "showTitle": true,
        "title": "User's Country with Highest Number of Followers",
        "titleAlign": "center"
       },
       "position": {
        "height": 3,
        "width": 15,
        "x": 0,
        "y": 23,
        "z": null
       },
       "resultIndex": null
      },
      {
       "dashboardResultIndex": null,
       "elementNUID": "4e947d33-3191-43c3-b4d7-30c73a288374",
       "elementType": "command",
       "guid": "c820718a-1a43-43c0-b8c4-b3711c21ef39",
       "options": {
        "autoScaleImg": false,
        "scale": 0,
        "showRunButton": true,
        "showTitle": true,
        "title": "Median Follower Count by Age Group",
        "titleAlign": "center"
       },
       "position": {
        "height": 7,
        "width": 17,
        "x": 0,
        "y": 31,
        "z": null
       },
       "resultIndex": null
      },
      {
       "dashboardResultIndex": 0,
       "elementNUID": "9b31fc3d-8125-46bf-96f4-5bd802169d7e",
       "elementType": "command",
       "guid": "d6cc12b1-b351-4bc1-80df-6e943181d245",
       "options": {
        "autoScaleImg": false,
        "scale": 0,
        "showRunButton": true,
        "showTitle": true,
        "title": "Top Categories by Age Demographics",
        "titleAlign": "center"
       },
       "position": {
        "height": 5,
        "width": 15,
        "x": 0,
        "y": 26,
        "z": null
       },
       "resultIndex": null
      }
     ],
     "globalVars": {},
     "guid": "",
     "layoutOption": {
      "grid": true,
      "stack": true
     },
     "nuid": "6469ba24-30ed-4b86-a15c-3db82a819ed3",
     "origId": 1745578344368207,
     "title": "Insights into Pins",
     "version": "DashboardViewV1",
     "width": 1024
    }
   ],
   "language": "python",
   "notebookMetadata": {
    "pythonIndentUnit": 4
   },
   "notebookName": "0a1d8948160f_PinterestDataPipeline",
   "widgets": {}
  },
  "language_info": {
   "name": "python"
  }
 },
 "nbformat": 4,
 "nbformat_minor": 0
}
