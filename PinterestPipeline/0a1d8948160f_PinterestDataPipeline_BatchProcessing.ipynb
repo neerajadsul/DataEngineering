{
 "cells": [
  {
   "cell_type": "code",
   "execution_count": 0,
   "metadata": {
    "application/vnd.databricks.v1+cell": {
     "cellMetadata": {
      "byteLimit": 2048000,
      "rowLimit": 10000
     },
     "inputWidgets": {},
     "nuid": "d4660950-e295-4637-9176-4490759c3409",
     "showTitle": false,
     "title": ""
    }
   },
   "outputs": [
    {
     "output_type": "display_data",
     "data": {
      "text/html": [
       "<style scoped>\n",
       "  .ansiout {\n",
       "    display: block;\n",
       "    unicode-bidi: embed;\n",
       "    white-space: pre-wrap;\n",
       "    word-wrap: break-word;\n",
       "    word-break: break-all;\n",
       "    font-family: \"Menlo\", \"Monaco\", \"Consolas\", \"Ubuntu Mono\", \"Source Code Pro\", monospace;\n",
       "    font-size: 13px;\n",
       "    color: #555;\n",
       "    margin-left: 4px;\n",
       "    line-height: 19px;\n",
       "  }\n",
       "</style>\n",
       "<div class=\"ansiout\"></div>"
      ]
     },
     "metadata": {
      "application/vnd.databricks.v1+output": {
       "addedWidgets": {},
       "arguments": {},
       "data": "<div class=\"ansiout\"></div>",
       "datasetInfos": [],
       "metadata": {},
       "removedWidgets": [],
       "type": "html"
      }
     },
     "output_type": "display_data"
    }
   ],
   "source": [
    "# pyspark functions\n",
    "from pyspark.sql.functions import *\n",
    "from pyspark.sql.types import IntegerType\n",
    "import pyspark\n",
    "# URL processing\n",
    "import urllib"
   ]
  },
  {
   "cell_type": "code",
   "execution_count": 0,
   "metadata": {
    "application/vnd.databricks.v1+cell": {
     "cellMetadata": {
      "byteLimit": 2048000,
      "rowLimit": 10000
     },
     "inputWidgets": {},
     "nuid": "56dce305-dedb-4c41-b17c-838b7f7427dd",
     "showTitle": false,
     "title": ""
    }
   },
   "outputs": [
    {
     "output_type": "display_data",
     "data": {
      "text/html": [
       "<style scoped>\n",
       "  .ansiout {\n",
       "    display: block;\n",
       "    unicode-bidi: embed;\n",
       "    white-space: pre-wrap;\n",
       "    word-wrap: break-word;\n",
       "    word-break: break-all;\n",
       "    font-family: \"Menlo\", \"Monaco\", \"Consolas\", \"Ubuntu Mono\", \"Source Code Pro\", monospace;\n",
       "    font-size: 13px;\n",
       "    color: #555;\n",
       "    margin-left: 4px;\n",
       "    line-height: 19px;\n",
       "  }\n",
       "</style>\n",
       "<div class=\"ansiout\"></div>"
      ]
     },
     "metadata": {
      "application/vnd.databricks.v1+output": {
       "addedWidgets": {},
       "arguments": {},
       "data": "<div class=\"ansiout\"></div>",
       "datasetInfos": [],
       "metadata": {},
       "removedWidgets": [],
       "type": "html"
      }
     },
     "output_type": "display_data"
    }
   ],
   "source": [
    "%run \"/Users/neeraj.adsul@gmail.com/aws_connector\""
   ]
  },
  {
   "cell_type": "code",
   "execution_count": 0,
   "metadata": {
    "application/vnd.databricks.v1+cell": {
     "cellMetadata": {
      "byteLimit": 2048000,
      "rowLimit": 10000
     },
     "inputWidgets": {},
     "nuid": "d7821d58-d03d-406c-9a32-52274067c1b1",
     "showTitle": false,
     "title": ""
    }
   },
   "outputs": [],
   "source": [
    "%run \"/Users/neeraj.adsul@gmail.com/pinterest_data_cleaning\""
   ]
  },
  {
   "cell_type": "markdown",
   "metadata": {
    "application/vnd.databricks.v1+cell": {
     "cellMetadata": {
      "byteLimit": 2048000,
      "rowLimit": 10000
     },
     "inputWidgets": {},
     "nuid": "8eac560b-c873-4db0-9767-729c89ea0631",
     "showTitle": false,
     "title": ""
    }
   },
   "source": [
    "## Connect and Mount S3 Bucket to Databricks File System"
   ]
  },
  {
   "cell_type": "code",
   "execution_count": 0,
   "metadata": {
    "application/vnd.databricks.v1+cell": {
     "cellMetadata": {
      "byteLimit": 2048000,
      "rowLimit": 10000
     },
     "inputWidgets": {},
     "nuid": "bf7d4c1a-8084-413b-a315-27c05bc0529f",
     "showTitle": false,
     "title": ""
    }
   },
   "outputs": [
    {
     "output_type": "display_data",
     "data": {
      "text/html": [
       "<style scoped>\n",
       "  .ansiout {\n",
       "    display: block;\n",
       "    unicode-bidi: embed;\n",
       "    white-space: pre-wrap;\n",
       "    word-wrap: break-word;\n",
       "    word-break: break-all;\n",
       "    font-family: \"Menlo\", \"Monaco\", \"Consolas\", \"Ubuntu Mono\", \"Source Code Pro\", monospace;\n",
       "    font-size: 13px;\n",
       "    color: #555;\n",
       "    margin-left: 4px;\n",
       "    line-height: 19px;\n",
       "  }\n",
       "</style>\n",
       "<div class=\"ansiout\">user-0a1d8948160f-bucket is already mounted.\n",
       "</div>"
      ]
     },
     "metadata": {
      "application/vnd.databricks.v1+output": {
       "addedWidgets": {},
       "arguments": {},
       "data": "<div class=\"ansiout\">user-0a1d8948160f-bucket is already mounted.\n</div>",
       "datasetInfos": [],
       "metadata": {},
       "removedWidgets": [],
       "type": "html"
      }
     },
     "output_type": "display_data"
    },
    {
     "output_type": "display_data",
     "data": {
      "text/html": [
       "<style scoped>\n",
       "  .ansiout {\n",
       "    display: block;\n",
       "    unicode-bidi: embed;\n",
       "    white-space: pre-wrap;\n",
       "    word-wrap: break-word;\n",
       "    word-break: break-all;\n",
       "    font-family: \"Menlo\", \"Monaco\", \"Consolas\", \"Ubuntu Mono\", \"Source Code Pro\", monospace;\n",
       "    font-size: 13px;\n",
       "    color: #555;\n",
       "    margin-left: 4px;\n",
       "    line-height: 19px;\n",
       "  }\n",
       "</style>\n",
       "<div class=\"ansiout\"></div>"
      ]
     },
     "metadata": {
      "application/vnd.databricks.v1+output": {
       "addedWidgets": {},
       "arguments": {},
       "data": "<div class=\"ansiout\"></div>",
       "datasetInfos": [],
       "metadata": {},
       "removedWidgets": [],
       "type": "html"
      }
     },
     "output_type": "display_data"
    },
    {
     "output_type": "display_data",
     "data": {
      "text/html": [
       "<style scoped>\n",
       "  .ansiout {\n",
       "    display: block;\n",
       "    unicode-bidi: embed;\n",
       "    white-space: pre-wrap;\n",
       "    word-wrap: break-word;\n",
       "    word-break: break-all;\n",
       "    font-family: \"Menlo\", \"Monaco\", \"Consolas\", \"Ubuntu Mono\", \"Source Code Pro\", monospace;\n",
       "    font-size: 13px;\n",
       "    color: #555;\n",
       "    margin-left: 4px;\n",
       "    line-height: 19px;\n",
       "  }\n",
       "</style>\n",
       "<div class=\"ansiout\"></div>"
      ]
     },
     "metadata": {
      "application/vnd.databricks.v1+output": {
       "addedWidgets": {},
       "arguments": {},
       "data": "<div class=\"ansiout\"></div>",
       "datasetInfos": [],
       "metadata": {},
       "removedWidgets": [],
       "type": "html"
      }
     },
     "output_type": "display_data"
    },
    {
     "output_type": "display_data",
     "data": {
      "text/html": [
       "<style scoped>\n",
       "  .ansiout {\n",
       "    display: block;\n",
       "    unicode-bidi: embed;\n",
       "    white-space: pre-wrap;\n",
       "    word-wrap: break-word;\n",
       "    word-break: break-all;\n",
       "    font-family: \"Menlo\", \"Monaco\", \"Consolas\", \"Ubuntu Mono\", \"Source Code Pro\", monospace;\n",
       "    font-size: 13px;\n",
       "    color: #555;\n",
       "    margin-left: 4px;\n",
       "    line-height: 19px;\n",
       "  }\n",
       "</style>\n",
       "<div class=\"ansiout\"></div>"
      ]
     },
     "metadata": {
      "application/vnd.databricks.v1+output": {
       "addedWidgets": {},
       "arguments": {},
       "data": "<div class=\"ansiout\"></div>",
       "datasetInfos": [],
       "metadata": {},
       "removedWidgets": [],
       "type": "html"
      }
     },
     "output_type": "display_data"
    },
    {
     "output_type": "display_data",
     "data": {
      "text/html": [
       "<style scoped>\n",
       "  .ansiout {\n",
       "    display: block;\n",
       "    unicode-bidi: embed;\n",
       "    white-space: pre-wrap;\n",
       "    word-wrap: break-word;\n",
       "    word-break: break-all;\n",
       "    font-family: \"Menlo\", \"Monaco\", \"Consolas\", \"Ubuntu Mono\", \"Source Code Pro\", monospace;\n",
       "    font-size: 13px;\n",
       "    color: #555;\n",
       "    margin-left: 4px;\n",
       "    line-height: 19px;\n",
       "  }\n",
       "</style>\n",
       "<div class=\"ansiout\"></div>"
      ]
     },
     "metadata": {
      "application/vnd.databricks.v1+output": {
       "addedWidgets": {},
       "arguments": {},
       "data": "<div class=\"ansiout\"></div>",
       "datasetInfos": [],
       "metadata": {},
       "removedWidgets": [],
       "type": "html"
      }
     },
     "output_type": "display_data"
    }
   ],
   "source": [
    "MOUNT_NAME = '/mnt/pin_pipe'\n",
    "s3_conn = S3Connector(\n",
    "    bucket_name='user-0a1d8948160f-bucket',\n",
    "    mount_name=MOUNT_NAME,\n",
    "    credential_file='authentication_credentials.csv')\n",
    "s3_conn.mount()"
   ]
  },
  {
   "cell_type": "code",
   "execution_count": 0,
   "metadata": {
    "application/vnd.databricks.v1+cell": {
     "cellMetadata": {
      "byteLimit": 2048000,
      "rowLimit": 10000
     },
     "inputWidgets": {},
     "nuid": "423e0143-99a9-4b39-bf94-c29b263435f8",
     "showTitle": false,
     "title": ""
    }
   },
   "outputs": [
    {
     "output_type": "display_data",
     "data": {
      "text/html": [
       "<style scoped>\n",
       "  .ansiout {\n",
       "    display: block;\n",
       "    unicode-bidi: embed;\n",
       "    white-space: pre-wrap;\n",
       "    word-wrap: break-word;\n",
       "    word-break: break-all;\n",
       "    font-family: \"Menlo\", \"Monaco\", \"Consolas\", \"Ubuntu Mono\", \"Source Code Pro\", monospace;\n",
       "    font-size: 13px;\n",
       "    color: #555;\n",
       "    margin-left: 4px;\n",
       "    line-height: 19px;\n",
       "  }\n",
       "</style>\n",
       "<div class=\"ansiout\">1724\n",
       "1724\n",
       "1724\n",
       "</div>"
      ]
     },
     "metadata": {
      "application/vnd.databricks.v1+output": {
       "addedWidgets": {},
       "arguments": {},
       "data": "<div class=\"ansiout\">1724\n1724\n1724\n</div>",
       "datasetInfos": [],
       "metadata": {},
       "removedWidgets": [],
       "type": "html"
      }
     },
     "output_type": "display_data"
    },
    {
     "output_type": "display_data",
     "data": {
      "text/html": [
       "<style scoped>\n",
       "  .ansiout {\n",
       "    display: block;\n",
       "    unicode-bidi: embed;\n",
       "    white-space: pre-wrap;\n",
       "    word-wrap: break-word;\n",
       "    word-break: break-all;\n",
       "    font-family: \"Menlo\", \"Monaco\", \"Consolas\", \"Ubuntu Mono\", \"Source Code Pro\", monospace;\n",
       "    font-size: 13px;\n",
       "    color: #555;\n",
       "    margin-left: 4px;\n",
       "    line-height: 19px;\n",
       "  }\n",
       "</style>\n",
       "<div class=\"ansiout\"></div>"
      ]
     },
     "metadata": {
      "application/vnd.databricks.v1+output": {
       "addedWidgets": {},
       "arguments": {},
       "data": "<div class=\"ansiout\"></div>",
       "datasetInfos": [],
       "metadata": {},
       "removedWidgets": [],
       "type": "html"
      }
     },
     "output_type": "display_data"
    }
   ],
   "source": [
    "pin_data_location = f\"{MOUNT_NAME}/topics/0a1d8948160f.pin/partition=0/\"\n",
    "geo_data_location = f\"{MOUNT_NAME}/topics/0a1d8948160f.geo/partition=0/\"\n",
    "user_data_location = f\"{MOUNT_NAME}/topics/0a1d8948160f.user/partition=0/\"\n",
    "print(len(dbutils.fs.ls(pin_data_location)))\n",
    "print(len(dbutils.fs.ls(geo_data_location)))\n",
    "print(len(dbutils.fs.ls(user_data_location)))\n"
   ]
  },
  {
   "cell_type": "markdown",
   "metadata": {
    "application/vnd.databricks.v1+cell": {
     "cellMetadata": {
      "byteLimit": 2048000,
      "rowLimit": 10000
     },
     "inputWidgets": {},
     "nuid": "065b18fd-ca93-4c78-81fb-8c0b38d7d259",
     "showTitle": false,
     "title": ""
    }
   },
   "source": [
    "## Read All Data for pinterest posts from S3"
   ]
  },
  {
   "cell_type": "code",
   "execution_count": 0,
   "metadata": {
    "application/vnd.databricks.v1+cell": {
     "cellMetadata": {
      "byteLimit": 2048000,
      "rowLimit": 10000
     },
     "inputWidgets": {},
     "nuid": "e9cc787f-1261-4fc8-bdc8-6535080ee857",
     "showTitle": false,
     "title": ""
    }
   },
   "outputs": [
    {
     "output_type": "display_data",
     "data": {
      "text/html": [
       "<style scoped>\n",
       "  .ansiout {\n",
       "    display: block;\n",
       "    unicode-bidi: embed;\n",
       "    white-space: pre-wrap;\n",
       "    word-wrap: break-word;\n",
       "    word-break: break-all;\n",
       "    font-family: \"Menlo\", \"Monaco\", \"Consolas\", \"Ubuntu Mono\", \"Source Code Pro\", monospace;\n",
       "    font-size: 13px;\n",
       "    color: #555;\n",
       "    margin-left: 4px;\n",
       "    line-height: 19px;\n",
       "  }\n",
       "</style>\n",
       "<div class=\"ansiout\"></div>"
      ]
     },
     "metadata": {
      "application/vnd.databricks.v1+output": {
       "addedWidgets": {},
       "arguments": {},
       "data": "<div class=\"ansiout\"></div>",
       "datasetInfos": [],
       "metadata": {},
       "removedWidgets": [],
       "type": "html"
      }
     },
     "output_type": "display_data"
    }
   ],
   "source": [
    "df_pin = prepare_dataframe(pin_data_location)\n",
    "df_geo = prepare_dataframe(geo_data_location)\n",
    "df_user = prepare_dataframe(user_data_location)"
   ]
  },
  {
   "cell_type": "markdown",
   "metadata": {
    "application/vnd.databricks.v1+cell": {
     "cellMetadata": {
      "byteLimit": 2048000,
      "rowLimit": 10000
     },
     "inputWidgets": {},
     "nuid": "403b55e3-d532-44cd-9695-9afa85979b24",
     "showTitle": false,
     "title": ""
    }
   },
   "source": [
    "## Clean pin, geo and user post dataframes"
   ]
  },
  {
   "cell_type": "code",
   "execution_count": 0,
   "metadata": {
    "application/vnd.databricks.v1+cell": {
     "cellMetadata": {
      "byteLimit": 2048000,
      "rowLimit": 10000
     },
     "inputWidgets": {},
     "nuid": "f3c28890-624a-449c-a34d-9bf1fc80e85a",
     "showTitle": false,
     "title": ""
    }
   },
   "outputs": [
    {
     "output_type": "display_data",
     "data": {
      "text/html": [
       "<style scoped>\n",
       "  .ansiout {\n",
       "    display: block;\n",
       "    unicode-bidi: embed;\n",
       "    white-space: pre-wrap;\n",
       "    word-wrap: break-word;\n",
       "    word-break: break-all;\n",
       "    font-family: \"Menlo\", \"Monaco\", \"Consolas\", \"Ubuntu Mono\", \"Source Code Pro\", monospace;\n",
       "    font-size: 13px;\n",
       "    color: #555;\n",
       "    margin-left: 4px;\n",
       "    line-height: 19px;\n",
       "  }\n",
       "</style>\n",
       "<div class=\"ansiout\"></div>"
      ]
     },
     "metadata": {
      "application/vnd.databricks.v1+output": {
       "addedWidgets": {},
       "arguments": {},
       "data": "<div class=\"ansiout\"></div>",
       "datasetInfos": [],
       "metadata": {},
       "removedWidgets": [],
       "type": "html"
      }
     },
     "output_type": "display_data"
    }
   ],
   "source": [
    "df_pin = clean_pin_dataframe(df_pin)\n",
    "df_geo = clean_geo_dataframe(df_geo)\n",
    "df_user = clean_user_dataframe(df_user)"
   ]
  },
  {
   "cell_type": "markdown",
   "metadata": {
    "application/vnd.databricks.v1+cell": {
     "cellMetadata": {
      "byteLimit": 2048000,
      "rowLimit": 10000
     },
     "inputWidgets": {},
     "nuid": "e2831949-0a7f-4f46-9ed5-b5de5cb9e117",
     "showTitle": false,
     "title": ""
    }
   },
   "source": [
    "## Analytics Queries"
   ]
  },
  {
   "cell_type": "code",
   "execution_count": 0,
   "metadata": {
    "application/vnd.databricks.v1+cell": {
     "cellMetadata": {
      "byteLimit": 2048000,
      "rowLimit": 10000
     },
     "inputWidgets": {},
     "nuid": "40a5c682-8fed-400b-bbf3-ee99d37b0464",
     "showTitle": false,
     "title": ""
    }
   },
   "outputs": [
    {
     "output_type": "display_data",
     "data": {
      "text/html": [
       "<style scoped>\n",
       "  .ansiout {\n",
       "    display: block;\n",
       "    unicode-bidi: embed;\n",
       "    white-space: pre-wrap;\n",
       "    word-wrap: break-word;\n",
       "    word-break: break-all;\n",
       "    font-family: \"Menlo\", \"Monaco\", \"Consolas\", \"Ubuntu Mono\", \"Source Code Pro\", monospace;\n",
       "    font-size: 13px;\n",
       "    color: #555;\n",
       "    margin-left: 4px;\n",
       "    line-height: 19px;\n",
       "  }\n",
       "</style>\n",
       "<div class=\"ansiout\">df_pin: \n",
       " [&#39;ind&#39;, &#39;unique_id&#39;, &#39;title&#39;, &#39;description&#39;, &#39;follower_count&#39;, &#39;poster_name&#39;, &#39;tag_list&#39;, &#39;is_image_or_video&#39;, &#39;image_src&#39;, &#39;save_location&#39;, &#39;category&#39;]\n",
       "df_geo: \n",
       " [&#39;ind&#39;, &#39;country&#39;, &#39;coordinates&#39;, &#39;timestamp&#39;]\n",
       "df_user: \n",
       " [&#39;ind&#39;, &#39;user_name&#39;, &#39;age&#39;, &#39;date_joined&#39;]\n",
       "</div>"
      ]
     },
     "metadata": {
      "application/vnd.databricks.v1+output": {
       "addedWidgets": {},
       "arguments": {},
       "data": "<div class=\"ansiout\">df_pin: \n [&#39;ind&#39;, &#39;unique_id&#39;, &#39;title&#39;, &#39;description&#39;, &#39;follower_count&#39;, &#39;poster_name&#39;, &#39;tag_list&#39;, &#39;is_image_or_video&#39;, &#39;image_src&#39;, &#39;save_location&#39;, &#39;category&#39;]\ndf_geo: \n [&#39;ind&#39;, &#39;country&#39;, &#39;coordinates&#39;, &#39;timestamp&#39;]\ndf_user: \n [&#39;ind&#39;, &#39;user_name&#39;, &#39;age&#39;, &#39;date_joined&#39;]\n</div>",
       "datasetInfos": [],
       "metadata": {},
       "removedWidgets": [],
       "type": "html"
      }
     },
     "output_type": "display_data"
    }
   ],
   "source": [
    "print('df_pin: \\n', df_pin.columns)\n",
    "print('df_geo: \\n', df_geo.columns)\n",
    "print('df_user: \\n', df_user.columns)"
   ]
  },
  {
   "cell_type": "markdown",
   "metadata": {
    "application/vnd.databricks.v1+cell": {
     "cellMetadata": {
      "byteLimit": 2048000,
      "rowLimit": 10000
     },
     "inputWidgets": {},
     "nuid": "9c9e137a-8ae1-4b55-8106-6631c22adf4a",
     "showTitle": false,
     "title": ""
    }
   },
   "source": [
    "### M7-T4 Find the most popular Pinterest category people post to based on their country.\n",
    "\n",
    "Your query should return a DataFrame that contains the following columns:\n",
    "- country\n",
    "- category\n",
    "- category_count, a new column containing the desired query output"
   ]
  },
  {
   "cell_type": "code",
   "execution_count": 0,
   "metadata": {
    "application/vnd.databricks.v1+cell": {
     "cellMetadata": {
      "byteLimit": 2048000,
      "rowLimit": 10000
     },
     "inputWidgets": {},
     "nuid": "20e6aeec-d9f9-436a-8d32-355c4299a99d",
     "showTitle": false,
     "title": ""
    }
   },
   "outputs": [
    {
     "output_type": "display_data",
     "data": {
      "text/html": [
       "<style scoped>\n",
       "  .table-result-container {\n",
       "    max-height: 300px;\n",
       "    overflow: auto;\n",
       "  }\n",
       "  table, th, td {\n",
       "    border: 1px solid black;\n",
       "    border-collapse: collapse;\n",
       "  }\n",
       "  th, td {\n",
       "    padding: 5px;\n",
       "  }\n",
       "  th {\n",
       "    text-align: left;\n",
       "  }\n",
       "</style><div class='table-result-container'><table class='table-result'><thead style='background-color: white'><tr><th>country</th><th>category</th><th>category_count</th></tr></thead><tbody><tr><td>Afghanistan</td><td>education</td><td>13</td></tr><tr><td>Albania</td><td>art</td><td>28</td></tr><tr><td>Algeria</td><td>quotes</td><td>39</td></tr><tr><td>American Samoa</td><td>tattoos</td><td>20</td></tr><tr><td>Andorra</td><td>tattoos</td><td>8</td></tr><tr><td>Angola</td><td>finance</td><td>3</td></tr><tr><td>Anguilla</td><td>education</td><td>4</td></tr><tr><td>Antarctica (the territory South of 60 deg S)</td><td>christmas</td><td>8</td></tr><tr><td>Antigua and Barbuda</td><td>vehicles</td><td>3</td></tr><tr><td>Argentina</td><td>tattoos</td><td>9</td></tr><tr><td>Armenia</td><td>vehicles</td><td>5</td></tr><tr><td>Aruba</td><td>art</td><td>11</td></tr><tr><td>Australia</td><td>travel</td><td>2</td></tr><tr><td>Austria</td><td>tattoos</td><td>6</td></tr><tr><td>Azerbaijan</td><td>finance</td><td>6</td></tr><tr><td>Bahamas</td><td>event-planning</td><td>3</td></tr><tr><td>Bahrain</td><td>home-decor</td><td>3</td></tr><tr><td>Bangladesh</td><td>christmas</td><td>9</td></tr><tr><td>Barbados</td><td>art</td><td>6</td></tr><tr><td>Belarus</td><td>beauty</td><td>3</td></tr><tr><td>Belgium</td><td>diy-and-crafts</td><td>4</td></tr><tr><td>Belize</td><td>travel</td><td>4</td></tr><tr><td>Benin</td><td>vehicles</td><td>2</td></tr><tr><td>Bermuda</td><td>tattoos</td><td>4</td></tr><tr><td>Bhutan</td><td>beauty</td><td>4</td></tr><tr><td>Bolivia</td><td>home-decor</td><td>4</td></tr><tr><td>Bosnia and Herzegovina</td><td>tattoos</td><td>4</td></tr><tr><td>Botswana</td><td>home-decor</td><td>4</td></tr><tr><td>Bouvet Island (Bouvetoya)</td><td>finance</td><td>4</td></tr><tr><td>Brazil</td><td>home-decor</td><td>3</td></tr><tr><td>British Indian Ocean Territory (Chagos Archipelago)</td><td>tattoos</td><td>1</td></tr><tr><td>British Virgin Islands</td><td>christmas</td><td>6</td></tr><tr><td>Brunei Darussalam</td><td>event-planning</td><td>3</td></tr><tr><td>Bulgaria</td><td>education</td><td>4</td></tr><tr><td>Burkina Faso</td><td>vehicles</td><td>3</td></tr><tr><td>Burundi</td><td>mens-fashion</td><td>4</td></tr><tr><td>Cambodia</td><td>vehicles</td><td>3</td></tr><tr><td>Cameroon</td><td>beauty</td><td>3</td></tr><tr><td>Canada</td><td>travel</td><td>1</td></tr><tr><td>Cape Verde</td><td>education</td><td>1</td></tr><tr><td>Cayman Islands</td><td>christmas</td><td>3</td></tr><tr><td>Central African Republic</td><td>mens-fashion</td><td>3</td></tr><tr><td>Chad</td><td>diy-and-crafts</td><td>4</td></tr><tr><td>Chile</td><td>travel</td><td>2</td></tr><tr><td>China</td><td>home-decor</td><td>1</td></tr><tr><td>Christmas Island</td><td>travel</td><td>3</td></tr><tr><td>Cocos (Keeling) Islands</td><td>christmas</td><td>3</td></tr><tr><td>Colombia</td><td>christmas</td><td>4</td></tr><tr><td>Comoros</td><td>diy-and-crafts</td><td>3</td></tr><tr><td>Congo</td><td>diy-and-crafts</td><td>4</td></tr><tr><td>Cook Islands</td><td>education</td><td>1</td></tr><tr><td>Costa Rica</td><td>home-decor</td><td>4</td></tr><tr><td>Cote d'Ivoire</td><td>christmas</td><td>3</td></tr><tr><td>Croatia</td><td>finance</td><td>2</td></tr><tr><td>Cuba</td><td>diy-and-crafts</td><td>4</td></tr><tr><td>Cyprus</td><td>vehicles</td><td>1</td></tr><tr><td>Czech Republic</td><td>travel</td><td>4</td></tr><tr><td>Denmark</td><td>christmas</td><td>1</td></tr><tr><td>Djibouti</td><td>christmas</td><td>4</td></tr><tr><td>Dominica</td><td>event-planning</td><td>2</td></tr><tr><td>Dominican Republic</td><td>home-decor</td><td>2</td></tr><tr><td>Ecuador</td><td>travel</td><td>2</td></tr><tr><td>Egypt</td><td>travel</td><td>2</td></tr><tr><td>El Salvador</td><td>vehicles</td><td>1</td></tr><tr><td>Equatorial Guinea</td><td>quotes</td><td>2</td></tr><tr><td>Eritrea</td><td>finance</td><td>1</td></tr><tr><td>Estonia</td><td>vehicles</td><td>1</td></tr><tr><td>Ethiopia</td><td>travel</td><td>1</td></tr><tr><td>Falkland Islands (Malvinas)</td><td>education</td><td>1</td></tr><tr><td>Faroe Islands</td><td>event-planning</td><td>4</td></tr><tr><td>Fiji</td><td>home-decor</td><td>2</td></tr><tr><td>Finland</td><td>finance</td><td>3</td></tr><tr><td>France</td><td>art</td><td>2</td></tr><tr><td>French Guiana</td><td>finance</td><td>3</td></tr><tr><td>French Polynesia</td><td>event-planning</td><td>4</td></tr><tr><td>French Southern Territories</td><td>christmas</td><td>2</td></tr><tr><td>Gabon</td><td>travel</td><td>2</td></tr><tr><td>Gambia</td><td>finance</td><td>1</td></tr><tr><td>Georgia</td><td>education</td><td>2</td></tr><tr><td>Germany</td><td>travel</td><td>2</td></tr><tr><td>Ghana</td><td>beauty</td><td>1</td></tr><tr><td>Gibraltar</td><td>diy-and-crafts</td><td>1</td></tr><tr><td>Greece</td><td>travel</td><td>1</td></tr><tr><td>Greenland</td><td>travel</td><td>3</td></tr><tr><td>Grenada</td><td>mens-fashion</td><td>2</td></tr><tr><td>Guadeloupe</td><td>christmas</td><td>2</td></tr><tr><td>Guam</td><td>vehicles</td><td>1</td></tr><tr><td>Guatemala</td><td>vehicles</td><td>3</td></tr><tr><td>Guernsey</td><td>tattoos</td><td>1</td></tr><tr><td>Guinea</td><td>vehicles</td><td>1</td></tr><tr><td>Guinea-Bissau</td><td>travel</td><td>4</td></tr><tr><td>Guyana</td><td>vehicles</td><td>2</td></tr><tr><td>Haiti</td><td>event-planning</td><td>2</td></tr><tr><td>Heard Island and McDonald Islands</td><td>travel</td><td>1</td></tr><tr><td>Holy See (Vatican City State)</td><td>home-decor</td><td>2</td></tr><tr><td>Honduras</td><td>beauty</td><td>2</td></tr><tr><td>Hong Kong</td><td>education</td><td>3</td></tr><tr><td>Hungary</td><td>christmas</td><td>3</td></tr><tr><td>Iceland</td><td>tattoos</td><td>2</td></tr><tr><td>India</td><td>tattoos</td><td>2</td></tr><tr><td>Indonesia</td><td>quotes</td><td>1</td></tr><tr><td>Iran</td><td>art</td><td>3</td></tr><tr><td>Iraq</td><td>christmas</td><td>3</td></tr><tr><td>Ireland</td><td>event-planning</td><td>1</td></tr><tr><td>Isle of Man</td><td>vehicles</td><td>1</td></tr><tr><td>Israel</td><td>education</td><td>3</td></tr><tr><td>Italy</td><td>vehicles</td><td>2</td></tr><tr><td>Jamaica</td><td>education</td><td>2</td></tr><tr><td>Japan</td><td>tattoos</td><td>1</td></tr><tr><td>Jersey</td><td>vehicles</td><td>2</td></tr><tr><td>Jordan</td><td>beauty</td><td>2</td></tr><tr><td>Kazakhstan</td><td>christmas</td><td>2</td></tr><tr><td>Kenya</td><td>mens-fashion</td><td>2</td></tr><tr><td>Kiribati</td><td>vehicles</td><td>1</td></tr><tr><td>Korea</td><td>art</td><td>4</td></tr><tr><td>Kuwait</td><td>travel</td><td>2</td></tr><tr><td>Kyrgyz Republic</td><td>diy-and-crafts</td><td>1</td></tr><tr><td>Lao People's Democratic Republic</td><td>vehicles</td><td>1</td></tr><tr><td>Latvia</td><td>travel</td><td>3</td></tr><tr><td>Lebanon</td><td>quotes</td><td>2</td></tr><tr><td>Liberia</td><td>quotes</td><td>1</td></tr><tr><td>Libyan Arab Jamahiriya</td><td>mens-fashion</td><td>1</td></tr><tr><td>Liechtenstein</td><td>home-decor</td><td>2</td></tr><tr><td>Lithuania</td><td>mens-fashion</td><td>2</td></tr><tr><td>Luxembourg</td><td>home-decor</td><td>1</td></tr><tr><td>Macao</td><td>vehicles</td><td>1</td></tr><tr><td>Macedonia</td><td>quotes</td><td>1</td></tr><tr><td>Madagascar</td><td>beauty</td><td>3</td></tr><tr><td>Malawi</td><td>travel</td><td>3</td></tr><tr><td>Malaysia</td><td>education</td><td>1</td></tr><tr><td>Maldives</td><td>tattoos</td><td>1</td></tr><tr><td>Mali</td><td>vehicles</td><td>1</td></tr><tr><td>Malta</td><td>event-planning</td><td>2</td></tr><tr><td>Marshall Islands</td><td>art</td><td>1</td></tr><tr><td>Martinique</td><td>home-decor</td><td>1</td></tr><tr><td>Mauritius</td><td>quotes</td><td>1</td></tr><tr><td>Mayotte</td><td>mens-fashion</td><td>1</td></tr><tr><td>Mexico</td><td>home-decor</td><td>1</td></tr><tr><td>Micronesia</td><td>vehicles</td><td>3</td></tr><tr><td>Moldova</td><td>christmas</td><td>1</td></tr><tr><td>Monaco</td><td>event-planning</td><td>1</td></tr><tr><td>Mongolia</td><td>mens-fashion</td><td>2</td></tr><tr><td>Montenegro</td><td>quotes</td><td>1</td></tr><tr><td>Montserrat</td><td>vehicles</td><td>2</td></tr><tr><td>Morocco</td><td>mens-fashion</td><td>2</td></tr><tr><td>Mozambique</td><td>home-decor</td><td>1</td></tr><tr><td>Myanmar</td><td>mens-fashion</td><td>2</td></tr><tr><td>Namibia</td><td>beauty</td><td>2</td></tr><tr><td>Nauru</td><td>tattoos</td><td>1</td></tr><tr><td>Nepal</td><td>quotes</td><td>1</td></tr><tr><td>Netherlands</td><td>home-decor</td><td>2</td></tr><tr><td>Netherlands Antilles</td><td>mens-fashion</td><td>1</td></tr><tr><td>New Caledonia</td><td>quotes</td><td>2</td></tr><tr><td>New Zealand</td><td>travel</td><td>1</td></tr><tr><td>Nicaragua</td><td>diy-and-crafts</td><td>1</td></tr><tr><td>Niger</td><td>beauty</td><td>1</td></tr><tr><td>Nigeria</td><td>christmas</td><td>1</td></tr><tr><td>Niue</td><td>tattoos</td><td>2</td></tr><tr><td>Northern Mariana Islands</td><td>education</td><td>1</td></tr><tr><td>Norway</td><td>travel</td><td>1</td></tr><tr><td>Oman</td><td>travel</td><td>1</td></tr><tr><td>Pakistan</td><td>vehicles</td><td>2</td></tr><tr><td>Palau</td><td>event-planning</td><td>1</td></tr><tr><td>Palestinian Territory</td><td>christmas</td><td>1</td></tr><tr><td>Panama</td><td>vehicles</td><td>1</td></tr><tr><td>Papua New Guinea</td><td>travel</td><td>2</td></tr><tr><td>Paraguay</td><td>home-decor</td><td>3</td></tr><tr><td>Peru</td><td>travel</td><td>2</td></tr><tr><td>Philippines</td><td>travel</td><td>1</td></tr><tr><td>Pitcairn Islands</td><td>finance</td><td>2</td></tr><tr><td>Poland</td><td>beauty</td><td>1</td></tr><tr><td>Portugal</td><td>travel</td><td>1</td></tr><tr><td>Puerto Rico</td><td>vehicles</td><td>1</td></tr><tr><td>Qatar</td><td>travel</td><td>1</td></tr><tr><td>Reunion</td><td>home-decor</td><td>2</td></tr><tr><td>Romania</td><td>mens-fashion</td><td>2</td></tr><tr><td>Russian Federation</td><td>christmas</td><td>3</td></tr><tr><td>Saint Barthelemy</td><td>education</td><td>1</td></tr><tr><td>Saint Helena</td><td>beauty</td><td>2</td></tr><tr><td>Saint Kitts and Nevis</td><td>beauty</td><td>3</td></tr><tr><td>Saint Lucia</td><td>christmas</td><td>1</td></tr><tr><td>Saint Martin</td><td>quotes</td><td>1</td></tr><tr><td>Saint Pierre and Miquelon</td><td>vehicles</td><td>1</td></tr><tr><td>Saint Vincent and the Grenadines</td><td>vehicles</td><td>1</td></tr><tr><td>Samoa</td><td>mens-fashion</td><td>2</td></tr><tr><td>Sao Tome and Principe</td><td>vehicles</td><td>1</td></tr><tr><td>Saudi Arabia</td><td>mens-fashion</td><td>1</td></tr><tr><td>Senegal</td><td>vehicles</td><td>1</td></tr><tr><td>Seychelles</td><td>travel</td><td>1</td></tr><tr><td>Sierra Leone</td><td>beauty</td><td>2</td></tr><tr><td>Singapore</td><td>art</td><td>2</td></tr><tr><td>Slovakia (Slovak Republic)</td><td>quotes</td><td>1</td></tr><tr><td>Slovenia</td><td>finance</td><td>1</td></tr><tr><td>Solomon Islands</td><td>event-planning</td><td>2</td></tr><tr><td>Somalia</td><td>quotes</td><td>1</td></tr><tr><td>South Africa</td><td>beauty</td><td>3</td></tr><tr><td>South Georgia and the South Sandwich Islands</td><td>travel</td><td>2</td></tr><tr><td>Spain</td><td>event-planning</td><td>1</td></tr><tr><td>Sri Lanka</td><td>vehicles</td><td>1</td></tr><tr><td>Sudan</td><td>art</td><td>1</td></tr><tr><td>Svalbard & Jan Mayen Islands</td><td>travel</td><td>2</td></tr><tr><td>Swaziland</td><td>travel</td><td>2</td></tr><tr><td>Sweden</td><td>mens-fashion</td><td>1</td></tr><tr><td>Switzerland</td><td>quotes</td><td>2</td></tr><tr><td>Syrian Arab Republic</td><td>home-decor</td><td>2</td></tr><tr><td>Taiwan</td><td>vehicles</td><td>4</td></tr><tr><td>Tajikistan</td><td>event-planning</td><td>3</td></tr><tr><td>Tanzania</td><td>event-planning</td><td>2</td></tr><tr><td>Thailand</td><td>beauty</td><td>1</td></tr><tr><td>Timor-Leste</td><td>travel</td><td>1</td></tr><tr><td>Togo</td><td>travel</td><td>1</td></tr><tr><td>Tokelau</td><td>quotes</td><td>2</td></tr><tr><td>Tonga</td><td>vehicles</td><td>1</td></tr><tr><td>Trinidad and Tobago</td><td>diy-and-crafts</td><td>2</td></tr><tr><td>Tunisia</td><td>home-decor</td><td>1</td></tr><tr><td>Turkey</td><td>mens-fashion</td><td>1</td></tr><tr><td>Turkmenistan</td><td>travel</td><td>2</td></tr><tr><td>Turks and Caicos Islands</td><td>travel</td><td>1</td></tr><tr><td>Tuvalu</td><td>diy-and-crafts</td><td>1</td></tr><tr><td>Uganda</td><td>beauty</td><td>2</td></tr><tr><td>Ukraine</td><td>tattoos</td><td>1</td></tr><tr><td>United Arab Emirates</td><td>vehicles</td><td>2</td></tr><tr><td>United Kingdom</td><td>home-decor</td><td>2</td></tr><tr><td>United States Virgin Islands</td><td>quotes</td><td>3</td></tr><tr><td>United States of America</td><td>travel</td><td>1</td></tr><tr><td>Uruguay</td><td>vehicles</td><td>1</td></tr><tr><td>Uzbekistan</td><td>vehicles</td><td>1</td></tr><tr><td>Vanuatu</td><td>travel</td><td>1</td></tr><tr><td>Venezuela</td><td>finance</td><td>3</td></tr><tr><td>Vietnam</td><td>mens-fashion</td><td>1</td></tr><tr><td>Wallis and Futuna</td><td>travel</td><td>1</td></tr><tr><td>Western Sahara</td><td>tattoos</td><td>1</td></tr><tr><td>Yemen</td><td>diy-and-crafts</td><td>1</td></tr><tr><td>Zambia</td><td>event-planning</td><td>1</td></tr><tr><td>Zimbabwe</td><td>christmas</td><td>1</td></tr></tbody></table></div>"
      ]
     },
     "metadata": {
      "application/vnd.databricks.v1+output": {
       "addedWidgets": {},
       "aggData": [],
       "aggError": "",
       "aggOverflow": false,
       "aggSchema": [],
       "aggSeriesLimitReached": false,
       "aggType": "",
       "arguments": {},
       "columnCustomDisplayInfos": {},
       "data": [
        [
         "Afghanistan",
         "education",
         13
        ],
        [
         "Albania",
         "art",
         28
        ],
        [
         "Algeria",
         "quotes",
         39
        ],
        [
         "American Samoa",
         "tattoos",
         20
        ],
        [
         "Andorra",
         "tattoos",
         8
        ],
        [
         "Angola",
         "finance",
         3
        ],
        [
         "Anguilla",
         "education",
         4
        ],
        [
         "Antarctica (the territory South of 60 deg S)",
         "christmas",
         8
        ],
        [
         "Antigua and Barbuda",
         "vehicles",
         3
        ],
        [
         "Argentina",
         "tattoos",
         9
        ],
        [
         "Armenia",
         "vehicles",
         5
        ],
        [
         "Aruba",
         "art",
         11
        ],
        [
         "Australia",
         "travel",
         2
        ],
        [
         "Austria",
         "tattoos",
         6
        ],
        [
         "Azerbaijan",
         "finance",
         6
        ],
        [
         "Bahamas",
         "event-planning",
         3
        ],
        [
         "Bahrain",
         "home-decor",
         3
        ],
        [
         "Bangladesh",
         "christmas",
         9
        ],
        [
         "Barbados",
         "art",
         6
        ],
        [
         "Belarus",
         "beauty",
         3
        ],
        [
         "Belgium",
         "diy-and-crafts",
         4
        ],
        [
         "Belize",
         "travel",
         4
        ],
        [
         "Benin",
         "vehicles",
         2
        ],
        [
         "Bermuda",
         "tattoos",
         4
        ],
        [
         "Bhutan",
         "beauty",
         4
        ],
        [
         "Bolivia",
         "home-decor",
         4
        ],
        [
         "Bosnia and Herzegovina",
         "tattoos",
         4
        ],
        [
         "Botswana",
         "home-decor",
         4
        ],
        [
         "Bouvet Island (Bouvetoya)",
         "finance",
         4
        ],
        [
         "Brazil",
         "home-decor",
         3
        ],
        [
         "British Indian Ocean Territory (Chagos Archipelago)",
         "tattoos",
         1
        ],
        [
         "British Virgin Islands",
         "christmas",
         6
        ],
        [
         "Brunei Darussalam",
         "event-planning",
         3
        ],
        [
         "Bulgaria",
         "education",
         4
        ],
        [
         "Burkina Faso",
         "vehicles",
         3
        ],
        [
         "Burundi",
         "mens-fashion",
         4
        ],
        [
         "Cambodia",
         "vehicles",
         3
        ],
        [
         "Cameroon",
         "beauty",
         3
        ],
        [
         "Canada",
         "travel",
         1
        ],
        [
         "Cape Verde",
         "education",
         1
        ],
        [
         "Cayman Islands",
         "christmas",
         3
        ],
        [
         "Central African Republic",
         "mens-fashion",
         3
        ],
        [
         "Chad",
         "diy-and-crafts",
         4
        ],
        [
         "Chile",
         "travel",
         2
        ],
        [
         "China",
         "home-decor",
         1
        ],
        [
         "Christmas Island",
         "travel",
         3
        ],
        [
         "Cocos (Keeling) Islands",
         "christmas",
         3
        ],
        [
         "Colombia",
         "christmas",
         4
        ],
        [
         "Comoros",
         "diy-and-crafts",
         3
        ],
        [
         "Congo",
         "diy-and-crafts",
         4
        ],
        [
         "Cook Islands",
         "education",
         1
        ],
        [
         "Costa Rica",
         "home-decor",
         4
        ],
        [
         "Cote d'Ivoire",
         "christmas",
         3
        ],
        [
         "Croatia",
         "finance",
         2
        ],
        [
         "Cuba",
         "diy-and-crafts",
         4
        ],
        [
         "Cyprus",
         "vehicles",
         1
        ],
        [
         "Czech Republic",
         "travel",
         4
        ],
        [
         "Denmark",
         "christmas",
         1
        ],
        [
         "Djibouti",
         "christmas",
         4
        ],
        [
         "Dominica",
         "event-planning",
         2
        ],
        [
         "Dominican Republic",
         "home-decor",
         2
        ],
        [
         "Ecuador",
         "travel",
         2
        ],
        [
         "Egypt",
         "travel",
         2
        ],
        [
         "El Salvador",
         "vehicles",
         1
        ],
        [
         "Equatorial Guinea",
         "quotes",
         2
        ],
        [
         "Eritrea",
         "finance",
         1
        ],
        [
         "Estonia",
         "vehicles",
         1
        ],
        [
         "Ethiopia",
         "travel",
         1
        ],
        [
         "Falkland Islands (Malvinas)",
         "education",
         1
        ],
        [
         "Faroe Islands",
         "event-planning",
         4
        ],
        [
         "Fiji",
         "home-decor",
         2
        ],
        [
         "Finland",
         "finance",
         3
        ],
        [
         "France",
         "art",
         2
        ],
        [
         "French Guiana",
         "finance",
         3
        ],
        [
         "French Polynesia",
         "event-planning",
         4
        ],
        [
         "French Southern Territories",
         "christmas",
         2
        ],
        [
         "Gabon",
         "travel",
         2
        ],
        [
         "Gambia",
         "finance",
         1
        ],
        [
         "Georgia",
         "education",
         2
        ],
        [
         "Germany",
         "travel",
         2
        ],
        [
         "Ghana",
         "beauty",
         1
        ],
        [
         "Gibraltar",
         "diy-and-crafts",
         1
        ],
        [
         "Greece",
         "travel",
         1
        ],
        [
         "Greenland",
         "travel",
         3
        ],
        [
         "Grenada",
         "mens-fashion",
         2
        ],
        [
         "Guadeloupe",
         "christmas",
         2
        ],
        [
         "Guam",
         "vehicles",
         1
        ],
        [
         "Guatemala",
         "vehicles",
         3
        ],
        [
         "Guernsey",
         "tattoos",
         1
        ],
        [
         "Guinea",
         "vehicles",
         1
        ],
        [
         "Guinea-Bissau",
         "travel",
         4
        ],
        [
         "Guyana",
         "vehicles",
         2
        ],
        [
         "Haiti",
         "event-planning",
         2
        ],
        [
         "Heard Island and McDonald Islands",
         "travel",
         1
        ],
        [
         "Holy See (Vatican City State)",
         "home-decor",
         2
        ],
        [
         "Honduras",
         "beauty",
         2
        ],
        [
         "Hong Kong",
         "education",
         3
        ],
        [
         "Hungary",
         "christmas",
         3
        ],
        [
         "Iceland",
         "tattoos",
         2
        ],
        [
         "India",
         "tattoos",
         2
        ],
        [
         "Indonesia",
         "quotes",
         1
        ],
        [
         "Iran",
         "art",
         3
        ],
        [
         "Iraq",
         "christmas",
         3
        ],
        [
         "Ireland",
         "event-planning",
         1
        ],
        [
         "Isle of Man",
         "vehicles",
         1
        ],
        [
         "Israel",
         "education",
         3
        ],
        [
         "Italy",
         "vehicles",
         2
        ],
        [
         "Jamaica",
         "education",
         2
        ],
        [
         "Japan",
         "tattoos",
         1
        ],
        [
         "Jersey",
         "vehicles",
         2
        ],
        [
         "Jordan",
         "beauty",
         2
        ],
        [
         "Kazakhstan",
         "christmas",
         2
        ],
        [
         "Kenya",
         "mens-fashion",
         2
        ],
        [
         "Kiribati",
         "vehicles",
         1
        ],
        [
         "Korea",
         "art",
         4
        ],
        [
         "Kuwait",
         "travel",
         2
        ],
        [
         "Kyrgyz Republic",
         "diy-and-crafts",
         1
        ],
        [
         "Lao People's Democratic Republic",
         "vehicles",
         1
        ],
        [
         "Latvia",
         "travel",
         3
        ],
        [
         "Lebanon",
         "quotes",
         2
        ],
        [
         "Liberia",
         "quotes",
         1
        ],
        [
         "Libyan Arab Jamahiriya",
         "mens-fashion",
         1
        ],
        [
         "Liechtenstein",
         "home-decor",
         2
        ],
        [
         "Lithuania",
         "mens-fashion",
         2
        ],
        [
         "Luxembourg",
         "home-decor",
         1
        ],
        [
         "Macao",
         "vehicles",
         1
        ],
        [
         "Macedonia",
         "quotes",
         1
        ],
        [
         "Madagascar",
         "beauty",
         3
        ],
        [
         "Malawi",
         "travel",
         3
        ],
        [
         "Malaysia",
         "education",
         1
        ],
        [
         "Maldives",
         "tattoos",
         1
        ],
        [
         "Mali",
         "vehicles",
         1
        ],
        [
         "Malta",
         "event-planning",
         2
        ],
        [
         "Marshall Islands",
         "art",
         1
        ],
        [
         "Martinique",
         "home-decor",
         1
        ],
        [
         "Mauritius",
         "quotes",
         1
        ],
        [
         "Mayotte",
         "mens-fashion",
         1
        ],
        [
         "Mexico",
         "home-decor",
         1
        ],
        [
         "Micronesia",
         "vehicles",
         3
        ],
        [
         "Moldova",
         "christmas",
         1
        ],
        [
         "Monaco",
         "event-planning",
         1
        ],
        [
         "Mongolia",
         "mens-fashion",
         2
        ],
        [
         "Montenegro",
         "quotes",
         1
        ],
        [
         "Montserrat",
         "vehicles",
         2
        ],
        [
         "Morocco",
         "mens-fashion",
         2
        ],
        [
         "Mozambique",
         "home-decor",
         1
        ],
        [
         "Myanmar",
         "mens-fashion",
         2
        ],
        [
         "Namibia",
         "beauty",
         2
        ],
        [
         "Nauru",
         "tattoos",
         1
        ],
        [
         "Nepal",
         "quotes",
         1
        ],
        [
         "Netherlands",
         "home-decor",
         2
        ],
        [
         "Netherlands Antilles",
         "mens-fashion",
         1
        ],
        [
         "New Caledonia",
         "quotes",
         2
        ],
        [
         "New Zealand",
         "travel",
         1
        ],
        [
         "Nicaragua",
         "diy-and-crafts",
         1
        ],
        [
         "Niger",
         "beauty",
         1
        ],
        [
         "Nigeria",
         "christmas",
         1
        ],
        [
         "Niue",
         "tattoos",
         2
        ],
        [
         "Northern Mariana Islands",
         "education",
         1
        ],
        [
         "Norway",
         "travel",
         1
        ],
        [
         "Oman",
         "travel",
         1
        ],
        [
         "Pakistan",
         "vehicles",
         2
        ],
        [
         "Palau",
         "event-planning",
         1
        ],
        [
         "Palestinian Territory",
         "christmas",
         1
        ],
        [
         "Panama",
         "vehicles",
         1
        ],
        [
         "Papua New Guinea",
         "travel",
         2
        ],
        [
         "Paraguay",
         "home-decor",
         3
        ],
        [
         "Peru",
         "travel",
         2
        ],
        [
         "Philippines",
         "travel",
         1
        ],
        [
         "Pitcairn Islands",
         "finance",
         2
        ],
        [
         "Poland",
         "beauty",
         1
        ],
        [
         "Portugal",
         "travel",
         1
        ],
        [
         "Puerto Rico",
         "vehicles",
         1
        ],
        [
         "Qatar",
         "travel",
         1
        ],
        [
         "Reunion",
         "home-decor",
         2
        ],
        [
         "Romania",
         "mens-fashion",
         2
        ],
        [
         "Russian Federation",
         "christmas",
         3
        ],
        [
         "Saint Barthelemy",
         "education",
         1
        ],
        [
         "Saint Helena",
         "beauty",
         2
        ],
        [
         "Saint Kitts and Nevis",
         "beauty",
         3
        ],
        [
         "Saint Lucia",
         "christmas",
         1
        ],
        [
         "Saint Martin",
         "quotes",
         1
        ],
        [
         "Saint Pierre and Miquelon",
         "vehicles",
         1
        ],
        [
         "Saint Vincent and the Grenadines",
         "vehicles",
         1
        ],
        [
         "Samoa",
         "mens-fashion",
         2
        ],
        [
         "Sao Tome and Principe",
         "vehicles",
         1
        ],
        [
         "Saudi Arabia",
         "mens-fashion",
         1
        ],
        [
         "Senegal",
         "vehicles",
         1
        ],
        [
         "Seychelles",
         "travel",
         1
        ],
        [
         "Sierra Leone",
         "beauty",
         2
        ],
        [
         "Singapore",
         "art",
         2
        ],
        [
         "Slovakia (Slovak Republic)",
         "quotes",
         1
        ],
        [
         "Slovenia",
         "finance",
         1
        ],
        [
         "Solomon Islands",
         "event-planning",
         2
        ],
        [
         "Somalia",
         "quotes",
         1
        ],
        [
         "South Africa",
         "beauty",
         3
        ],
        [
         "South Georgia and the South Sandwich Islands",
         "travel",
         2
        ],
        [
         "Spain",
         "event-planning",
         1
        ],
        [
         "Sri Lanka",
         "vehicles",
         1
        ],
        [
         "Sudan",
         "art",
         1
        ],
        [
         "Svalbard & Jan Mayen Islands",
         "travel",
         2
        ],
        [
         "Swaziland",
         "travel",
         2
        ],
        [
         "Sweden",
         "mens-fashion",
         1
        ],
        [
         "Switzerland",
         "quotes",
         2
        ],
        [
         "Syrian Arab Republic",
         "home-decor",
         2
        ],
        [
         "Taiwan",
         "vehicles",
         4
        ],
        [
         "Tajikistan",
         "event-planning",
         3
        ],
        [
         "Tanzania",
         "event-planning",
         2
        ],
        [
         "Thailand",
         "beauty",
         1
        ],
        [
         "Timor-Leste",
         "travel",
         1
        ],
        [
         "Togo",
         "travel",
         1
        ],
        [
         "Tokelau",
         "quotes",
         2
        ],
        [
         "Tonga",
         "vehicles",
         1
        ],
        [
         "Trinidad and Tobago",
         "diy-and-crafts",
         2
        ],
        [
         "Tunisia",
         "home-decor",
         1
        ],
        [
         "Turkey",
         "mens-fashion",
         1
        ],
        [
         "Turkmenistan",
         "travel",
         2
        ],
        [
         "Turks and Caicos Islands",
         "travel",
         1
        ],
        [
         "Tuvalu",
         "diy-and-crafts",
         1
        ],
        [
         "Uganda",
         "beauty",
         2
        ],
        [
         "Ukraine",
         "tattoos",
         1
        ],
        [
         "United Arab Emirates",
         "vehicles",
         2
        ],
        [
         "United Kingdom",
         "home-decor",
         2
        ],
        [
         "United States Virgin Islands",
         "quotes",
         3
        ],
        [
         "United States of America",
         "travel",
         1
        ],
        [
         "Uruguay",
         "vehicles",
         1
        ],
        [
         "Uzbekistan",
         "vehicles",
         1
        ],
        [
         "Vanuatu",
         "travel",
         1
        ],
        [
         "Venezuela",
         "finance",
         3
        ],
        [
         "Vietnam",
         "mens-fashion",
         1
        ],
        [
         "Wallis and Futuna",
         "travel",
         1
        ],
        [
         "Western Sahara",
         "tattoos",
         1
        ],
        [
         "Yemen",
         "diy-and-crafts",
         1
        ],
        [
         "Zambia",
         "event-planning",
         1
        ],
        [
         "Zimbabwe",
         "christmas",
         1
        ]
       ],
       "datasetInfos": [],
       "dbfsResultPath": null,
       "isJsonSchema": true,
       "metadata": {},
       "overflow": false,
       "plotOptions": {
        "customPlotOptions": {},
        "displayType": "table",
        "pivotAggregation": null,
        "pivotColumns": null,
        "xColumns": null,
        "yColumns": null
       },
       "removedWidgets": [],
       "schema": [
        {
         "metadata": "{}",
         "name": "country",
         "type": "\"string\""
        },
        {
         "metadata": "{}",
         "name": "category",
         "type": "\"string\""
        },
        {
         "metadata": "{}",
         "name": "category_count",
         "type": "\"long\""
        }
       ],
       "type": "table"
      }
     },
     "output_type": "display_data"
    }
   ],
   "source": [
    "# First we inner join two dataframes on index of the post\n",
    "# Count the posts grouped by country and category to get\n",
    "# a table showing total number of posts per category for each country\n",
    "joined = df_pin.join(df_geo, 'ind') \\\n",
    "    .groupBy('country', 'category') \\\n",
    "    .agg(count('*').alias('category_count')) \\\n",
    "    .sort('country', 'category', 'category_count', ascending=False) \\\n",
    "# display(joined)\n",
    "# Now we need to only pick top category for each country therefore\n",
    "# we partition the joined dataframe it by country using a Windowing function \n",
    "# and then sort within each partition by number of posts for each category\n",
    "# Using this, we create a new column in joined dataframe which has this\n",
    "# sorted and partitioned results from highest to lowest leading to highest number of posts\n",
    "# to row 1 for each partition\n",
    "window = pyspark.sql.Window.partitionBy('country').orderBy(desc('category_count'))\n",
    "ranked = joined.withColumn('rank', row_number().over(window))\n",
    "# display(ranked)\n",
    "# Finally, we filter the results picking only the row 1 for each country\n",
    "top_category_per_country = ranked.filter(col('rank')==1).select('country', 'category', 'category_count')\n",
    "display(top_category_per_country)"
   ]
  },
  {
   "cell_type": "markdown",
   "metadata": {
    "application/vnd.databricks.v1+cell": {
     "cellMetadata": {
      "byteLimit": 2048000,
      "rowLimit": 10000
     },
     "inputWidgets": {},
     "nuid": "d539f44e-38df-4aad-b4ba-cae857b75943",
     "showTitle": false,
     "title": ""
    }
   },
   "source": [
    "### M7-T5 Find most popular category each year\n",
    "Find how many posts each category had between 2018 and 2022.\n",
    "\n",
    "Your query should return a DataFrame that contains the following columns:\n",
    "\n",
    "- `post_year`, a new column that contains only the year from the timestamp column\n",
    "- `category`\n",
    "- `category_count`, a new column containing the desired query output\n"
   ]
  },
  {
   "cell_type": "code",
   "execution_count": 0,
   "metadata": {
    "application/vnd.databricks.v1+cell": {
     "cellMetadata": {
      "byteLimit": 2048000,
      "rowLimit": 10000
     },
     "inputWidgets": {},
     "nuid": "b0da4485-39e0-46b0-83e5-e2aca65d9aed",
     "showTitle": false,
     "title": ""
    }
   },
   "outputs": [
    {
     "output_type": "display_data",
     "data": {
      "text/html": [
       "<style scoped>\n",
       "  .table-result-container {\n",
       "    max-height: 300px;\n",
       "    overflow: auto;\n",
       "  }\n",
       "  table, th, td {\n",
       "    border: 1px solid black;\n",
       "    border-collapse: collapse;\n",
       "  }\n",
       "  th, td {\n",
       "    padding: 5px;\n",
       "  }\n",
       "  th {\n",
       "    text-align: left;\n",
       "  }\n",
       "</style><div class='table-result-container'><table class='table-result'><thead style='background-color: white'><tr><th>post_year</th><th>category</th><th>category_count</th></tr></thead><tbody><tr><td>2022</td><td>christmas</td><td>34</td></tr><tr><td>2022</td><td>beauty</td><td>31</td></tr><tr><td>2022</td><td>quotes</td><td>27</td></tr><tr><td>2022</td><td>education</td><td>26</td></tr><tr><td>2022</td><td>tattoos</td><td>25</td></tr><tr><td>2022</td><td>art</td><td>19</td></tr><tr><td>2022</td><td>diy-and-crafts</td><td>18</td></tr><tr><td>2022</td><td>travel</td><td>16</td></tr><tr><td>2022</td><td>home-decor</td><td>14</td></tr><tr><td>2022</td><td>mens-fashion</td><td>14</td></tr><tr><td>2022</td><td>event-planning</td><td>14</td></tr><tr><td>2022</td><td>finance</td><td>13</td></tr><tr><td>2022</td><td>vehicles</td><td>12</td></tr><tr><td>2021</td><td>christmas</td><td>32</td></tr><tr><td>2021</td><td>home-decor</td><td>31</td></tr><tr><td>2021</td><td>event-planning</td><td>29</td></tr><tr><td>2021</td><td>travel</td><td>27</td></tr><tr><td>2021</td><td>mens-fashion</td><td>26</td></tr><tr><td>2021</td><td>beauty</td><td>25</td></tr><tr><td>2021</td><td>education</td><td>25</td></tr><tr><td>2021</td><td>art</td><td>25</td></tr><tr><td>2021</td><td>tattoos</td><td>23</td></tr><tr><td>2021</td><td>vehicles</td><td>23</td></tr><tr><td>2021</td><td>quotes</td><td>22</td></tr><tr><td>2021</td><td>finance</td><td>20</td></tr><tr><td>2021</td><td>diy-and-crafts</td><td>19</td></tr><tr><td>2020</td><td>diy-and-crafts</td><td>39</td></tr><tr><td>2020</td><td>home-decor</td><td>34</td></tr><tr><td>2020</td><td>travel</td><td>34</td></tr><tr><td>2020</td><td>mens-fashion</td><td>31</td></tr><tr><td>2020</td><td>tattoos</td><td>26</td></tr><tr><td>2020</td><td>christmas</td><td>25</td></tr><tr><td>2020</td><td>vehicles</td><td>24</td></tr><tr><td>2020</td><td>beauty</td><td>24</td></tr><tr><td>2020</td><td>art</td><td>23</td></tr><tr><td>2020</td><td>quotes</td><td>22</td></tr><tr><td>2020</td><td>education</td><td>22</td></tr><tr><td>2020</td><td>event-planning</td><td>22</td></tr><tr><td>2020</td><td>finance</td><td>19</td></tr><tr><td>2019</td><td>christmas</td><td>30</td></tr><tr><td>2019</td><td>quotes</td><td>28</td></tr><tr><td>2019</td><td>art</td><td>27</td></tr><tr><td>2019</td><td>home-decor</td><td>27</td></tr><tr><td>2019</td><td>education</td><td>26</td></tr><tr><td>2019</td><td>beauty</td><td>25</td></tr><tr><td>2019</td><td>vehicles</td><td>24</td></tr><tr><td>2019</td><td>mens-fashion</td><td>23</td></tr><tr><td>2019</td><td>tattoos</td><td>23</td></tr><tr><td>2019</td><td>event-planning</td><td>22</td></tr><tr><td>2019</td><td>travel</td><td>21</td></tr><tr><td>2019</td><td>diy-and-crafts</td><td>20</td></tr><tr><td>2019</td><td>finance</td><td>17</td></tr><tr><td>2018</td><td>travel</td><td>47</td></tr><tr><td>2018</td><td>christmas</td><td>44</td></tr><tr><td>2018</td><td>home-decor</td><td>38</td></tr><tr><td>2018</td><td>tattoos</td><td>31</td></tr><tr><td>2018</td><td>mens-fashion</td><td>29</td></tr><tr><td>2018</td><td>art</td><td>28</td></tr><tr><td>2018</td><td>diy-and-crafts</td><td>27</td></tr><tr><td>2018</td><td>finance</td><td>26</td></tr><tr><td>2018</td><td>beauty</td><td>26</td></tr><tr><td>2018</td><td>vehicles</td><td>24</td></tr><tr><td>2018</td><td>event-planning</td><td>23</td></tr><tr><td>2018</td><td>education</td><td>22</td></tr><tr><td>2018</td><td>quotes</td><td>20</td></tr><tr><td>2017</td><td>event-planning</td><td>10</td></tr><tr><td>2017</td><td>diy-and-crafts</td><td>10</td></tr><tr><td>2017</td><td>quotes</td><td>9</td></tr><tr><td>2017</td><td>christmas</td><td>7</td></tr><tr><td>2017</td><td>art</td><td>7</td></tr><tr><td>2017</td><td>travel</td><td>7</td></tr><tr><td>2017</td><td>vehicles</td><td>6</td></tr><tr><td>2017</td><td>beauty</td><td>5</td></tr><tr><td>2017</td><td>mens-fashion</td><td>5</td></tr><tr><td>2017</td><td>tattoos</td><td>4</td></tr><tr><td>2017</td><td>education</td><td>3</td></tr><tr><td>2017</td><td>finance</td><td>3</td></tr><tr><td>2017</td><td>home-decor</td><td>2</td></tr></tbody></table></div>"
      ]
     },
     "metadata": {
      "application/vnd.databricks.v1+output": {
       "addedWidgets": {},
       "aggData": [],
       "aggError": "",
       "aggOverflow": false,
       "aggSchema": [],
       "aggSeriesLimitReached": false,
       "aggType": "",
       "arguments": {},
       "columnCustomDisplayInfos": {},
       "data": [
        [
         2022,
         "christmas",
         34
        ],
        [
         2022,
         "beauty",
         31
        ],
        [
         2022,
         "quotes",
         27
        ],
        [
         2022,
         "education",
         26
        ],
        [
         2022,
         "tattoos",
         25
        ],
        [
         2022,
         "art",
         19
        ],
        [
         2022,
         "diy-and-crafts",
         18
        ],
        [
         2022,
         "travel",
         16
        ],
        [
         2022,
         "home-decor",
         14
        ],
        [
         2022,
         "mens-fashion",
         14
        ],
        [
         2022,
         "event-planning",
         14
        ],
        [
         2022,
         "finance",
         13
        ],
        [
         2022,
         "vehicles",
         12
        ],
        [
         2021,
         "christmas",
         32
        ],
        [
         2021,
         "home-decor",
         31
        ],
        [
         2021,
         "event-planning",
         29
        ],
        [
         2021,
         "travel",
         27
        ],
        [
         2021,
         "mens-fashion",
         26
        ],
        [
         2021,
         "beauty",
         25
        ],
        [
         2021,
         "education",
         25
        ],
        [
         2021,
         "art",
         25
        ],
        [
         2021,
         "tattoos",
         23
        ],
        [
         2021,
         "vehicles",
         23
        ],
        [
         2021,
         "quotes",
         22
        ],
        [
         2021,
         "finance",
         20
        ],
        [
         2021,
         "diy-and-crafts",
         19
        ],
        [
         2020,
         "diy-and-crafts",
         39
        ],
        [
         2020,
         "home-decor",
         34
        ],
        [
         2020,
         "travel",
         34
        ],
        [
         2020,
         "mens-fashion",
         31
        ],
        [
         2020,
         "tattoos",
         26
        ],
        [
         2020,
         "christmas",
         25
        ],
        [
         2020,
         "vehicles",
         24
        ],
        [
         2020,
         "beauty",
         24
        ],
        [
         2020,
         "art",
         23
        ],
        [
         2020,
         "quotes",
         22
        ],
        [
         2020,
         "education",
         22
        ],
        [
         2020,
         "event-planning",
         22
        ],
        [
         2020,
         "finance",
         19
        ],
        [
         2019,
         "christmas",
         30
        ],
        [
         2019,
         "quotes",
         28
        ],
        [
         2019,
         "art",
         27
        ],
        [
         2019,
         "home-decor",
         27
        ],
        [
         2019,
         "education",
         26
        ],
        [
         2019,
         "beauty",
         25
        ],
        [
         2019,
         "vehicles",
         24
        ],
        [
         2019,
         "mens-fashion",
         23
        ],
        [
         2019,
         "tattoos",
         23
        ],
        [
         2019,
         "event-planning",
         22
        ],
        [
         2019,
         "travel",
         21
        ],
        [
         2019,
         "diy-and-crafts",
         20
        ],
        [
         2019,
         "finance",
         17
        ],
        [
         2018,
         "travel",
         47
        ],
        [
         2018,
         "christmas",
         44
        ],
        [
         2018,
         "home-decor",
         38
        ],
        [
         2018,
         "tattoos",
         31
        ],
        [
         2018,
         "mens-fashion",
         29
        ],
        [
         2018,
         "art",
         28
        ],
        [
         2018,
         "diy-and-crafts",
         27
        ],
        [
         2018,
         "finance",
         26
        ],
        [
         2018,
         "beauty",
         26
        ],
        [
         2018,
         "vehicles",
         24
        ],
        [
         2018,
         "event-planning",
         23
        ],
        [
         2018,
         "education",
         22
        ],
        [
         2018,
         "quotes",
         20
        ],
        [
         2017,
         "event-planning",
         10
        ],
        [
         2017,
         "diy-and-crafts",
         10
        ],
        [
         2017,
         "quotes",
         9
        ],
        [
         2017,
         "christmas",
         7
        ],
        [
         2017,
         "art",
         7
        ],
        [
         2017,
         "travel",
         7
        ],
        [
         2017,
         "vehicles",
         6
        ],
        [
         2017,
         "beauty",
         5
        ],
        [
         2017,
         "mens-fashion",
         5
        ],
        [
         2017,
         "tattoos",
         4
        ],
        [
         2017,
         "education",
         3
        ],
        [
         2017,
         "finance",
         3
        ],
        [
         2017,
         "home-decor",
         2
        ]
       ],
       "datasetInfos": [],
       "dbfsResultPath": null,
       "isJsonSchema": true,
       "metadata": {},
       "overflow": false,
       "plotOptions": {
        "customPlotOptions": {},
        "displayType": "table",
        "pivotAggregation": null,
        "pivotColumns": null,
        "xColumns": null,
        "yColumns": null
       },
       "removedWidgets": [],
       "schema": [
        {
         "metadata": "{}",
         "name": "post_year",
         "type": "\"integer\""
        },
        {
         "metadata": "{}",
         "name": "category",
         "type": "\"string\""
        },
        {
         "metadata": "{}",
         "name": "category_count",
         "type": "\"long\""
        }
       ],
       "type": "table"
      }
     },
     "output_type": "display_data"
    }
   ],
   "source": [
    "# First we join the dataframes containing posts and geolocation data on index\n",
    "# Grouping by the category\n",
    "joined = df_pin.join(\n",
    "    df_geo.filter(df_geo.timestamp > lit('2017')).filter(df_geo.timestamp < lit('2023')), 'ind'\n",
    "    ).groupBy(year('timestamp').alias('post_year'), 'category')\\\n",
    "    .agg(count('*').alias('category_count')).orderBy('post_year', 'category_count', ascending=False)\n",
    "display(joined)"
   ]
  },
  {
   "cell_type": "markdown",
   "metadata": {
    "application/vnd.databricks.v1+cell": {
     "cellMetadata": {
      "byteLimit": 2048000,
      "rowLimit": 10000
     },
     "inputWidgets": {},
     "nuid": "d10baeec-7b31-4edc-8815-b9bac5b1c27b",
     "showTitle": false,
     "title": ""
    }
   },
   "source": [
    "### M7-T6 User with most followers and the country"
   ]
  },
  {
   "cell_type": "markdown",
   "metadata": {
    "application/vnd.databricks.v1+cell": {
     "cellMetadata": {
      "byteLimit": 2048000,
      "rowLimit": 10000
     },
     "inputWidgets": {},
     "nuid": "d1149381-2a2b-4d87-a385-0d1180e7acf4",
     "showTitle": false,
     "title": ""
    }
   },
   "source": [
    "#### Step 1: For each country find the user with the most followers.\n",
    "\n",
    "Your query should return a DataFrame that contains the following columns:\n",
    "\n",
    "`country`\n",
    "`poster_name`\n",
    "`follower_count`"
   ]
  },
  {
   "cell_type": "code",
   "execution_count": 0,
   "metadata": {
    "application/vnd.databricks.v1+cell": {
     "cellMetadata": {
      "byteLimit": 2048000,
      "rowLimit": 10000
     },
     "inputWidgets": {},
     "nuid": "3b98c45c-3f20-4347-839b-fc19c69bb467",
     "showTitle": false,
     "title": ""
    }
   },
   "outputs": [
    {
     "output_type": "display_data",
     "data": {
      "text/html": [
       "<style scoped>\n",
       "  .ansiout {\n",
       "    display: block;\n",
       "    unicode-bidi: embed;\n",
       "    white-space: pre-wrap;\n",
       "    word-wrap: break-word;\n",
       "    word-break: break-all;\n",
       "    font-family: \"Menlo\", \"Monaco\", \"Consolas\", \"Ubuntu Mono\", \"Source Code Pro\", monospace;\n",
       "    font-size: 13px;\n",
       "    color: #555;\n",
       "    margin-left: 4px;\n",
       "    line-height: 19px;\n",
       "  }\n",
       "</style>\n",
       "<div class=\"ansiout\"></div>"
      ]
     },
     "metadata": {
      "application/vnd.databricks.v1+output": {
       "addedWidgets": {},
       "arguments": {},
       "data": "<div class=\"ansiout\"></div>",
       "datasetInfos": [],
       "metadata": {},
       "removedWidgets": [],
       "type": "html"
      }
     },
     "output_type": "display_data"
    }
   ],
   "source": [
    "# The query has same pattern as previous M7-T5\n",
    "joined = df_pin.join(df_geo, 'ind').groupby('poster_name', 'country').agg(sum('follower_count').alias('follower_count'))\n",
    "window = pyspark.sql.Window.partitionBy('country').orderBy(desc('follower_count'))\n",
    "ranked = joined.withColumn('rank', row_number().over(window))\n",
    "top_user_by_follower_per_country = ranked.filter(col('rank')==1).select('country', 'poster_name', 'follower_count')"
   ]
  },
  {
   "cell_type": "code",
   "execution_count": 0,
   "metadata": {
    "application/vnd.databricks.v1+cell": {
     "cellMetadata": {
      "byteLimit": 2048000,
      "rowLimit": 10000
     },
     "inputWidgets": {},
     "nuid": "7b1e9d09-1bb8-4f1b-9e25-aab35fadc461",
     "showTitle": false,
     "title": ""
    }
   },
   "outputs": [
    {
     "output_type": "display_data",
     "data": {
      "text/html": [
       "<style scoped>\n",
       "  .table-result-container {\n",
       "    max-height: 300px;\n",
       "    overflow: auto;\n",
       "  }\n",
       "  table, th, td {\n",
       "    border: 1px solid black;\n",
       "    border-collapse: collapse;\n",
       "  }\n",
       "  th, td {\n",
       "    padding: 5px;\n",
       "  }\n",
       "  th {\n",
       "    text-align: left;\n",
       "  }\n",
       "</style><div class='table-result-container'><table class='table-result'><thead style='background-color: white'><tr><th>country</th><th>poster_name</th><th>follower_count</th></tr></thead><tbody><tr><td>Afghanistan</td><td>Walmart</td><td>24000000</td></tr><tr><td>Albania</td><td>The Minds Journal</td><td>80000000</td></tr><tr><td>Algeria</td><td>YourTango</td><td>35796000</td></tr><tr><td>American Samoa</td><td>Mamas Uncut</td><td>72000000</td></tr><tr><td>Andorra</td><td>Our Mindful Life</td><td>2090000</td></tr><tr><td>Angola</td><td>Tastemade</td><td>8000000</td></tr><tr><td>Anguilla</td><td>We Heart It</td><td>45000000</td></tr><tr><td>Antarctica (the territory South of 60 deg S)</td><td>HikenDip</td><td>5501000</td></tr><tr><td>Antigua and Barbuda</td><td>Only In Your State</td><td>802000</td></tr><tr><td>Argentina</td><td>Next Luxury</td><td>4000000</td></tr><tr><td>Armenia</td><td>DIYnCrafts.Com</td><td>5222000</td></tr><tr><td>Aruba</td><td>One Kindesign</td><td>1971000</td></tr><tr><td>Australia</td><td>Mujer de 10 </td><td>2000000</td></tr><tr><td>Austria</td><td>Allwomenstalk - girl rules </td><td>2439000</td></tr><tr><td>Azerbaijan</td><td>Style Me Pretty</td><td>18000000</td></tr><tr><td>Bahamas</td><td>Handmade Charlotte</td><td>948000</td></tr><tr><td>Bahrain</td><td>Decor Home Ideas</td><td>576000</td></tr><tr><td>Bangladesh</td><td>Better Homes and Gardens</td><td>12000000</td></tr><tr><td>Barbados</td><td>The Creativity Exchange</td><td>1640000</td></tr><tr><td>Belarus</td><td>Prudent Penny Pincher - Home Decor, Organization, Crafts, Recipes</td><td>3239000</td></tr><tr><td>Belgium</td><td>The Krazy Coupon Lady</td><td>1732000</td></tr><tr><td>Belize</td><td>Julia Berolzheimer</td><td>1197000</td></tr><tr><td>Benin</td><td>Penny Pinchin Mom |  Budget, Get out of Debt, Save Money & More!</td><td>113000</td></tr><tr><td>Bermuda</td><td>Life on Summerhill | Home, Holiday Decor & DIY Website</td><td>92000</td></tr><tr><td>Bhutan</td><td>Esquire Magazine</td><td>130000</td></tr><tr><td>Bolivia</td><td>Squarespace</td><td>328000</td></tr><tr><td>Bosnia and Herzegovina</td><td>5-Minute Crafts Family</td><td>1110000</td></tr><tr><td>Botswana</td><td>GloryInvestingShow</td><td>196000</td></tr><tr><td>Bouvet Island (Bouvetoya)</td><td>POPSUGAR</td><td>10000000</td></tr><tr><td>Brazil</td><td>The Country Chic Cottage - DIY, Cricut, crafts, recipes, decor</td><td>602000</td></tr><tr><td>British Indian Ocean Territory (Chagos Archipelago)</td><td>ZestVine</td><td>85000</td></tr><tr><td>British Virgin Islands</td><td>The WHOot</td><td>1000000</td></tr><tr><td>Brunei Darussalam</td><td>Games 4 Learning</td><td>180000</td></tr><tr><td>Bulgaria</td><td>Half Baked Harvest</td><td>1824000</td></tr><tr><td>Burkina Faso</td><td>Behance</td><td>18000000</td></tr><tr><td>Burundi</td><td>Macho Moda</td><td>2480000</td></tr><tr><td>Cambodia</td><td>Catch My Party</td><td>2000000</td></tr><tr><td>Cameroon</td><td>Made to be a Momma</td><td>85000</td></tr><tr><td>Canada</td><td>Giorgenti New York</td><td>258000</td></tr><tr><td>Cape Verde</td><td>RT Lifestyle Magazine | Travel, DIY, Recipes, Fitness & More</td><td>43000</td></tr><tr><td>Cayman Islands</td><td>How Wee Learn</td><td>1532000</td></tr><tr><td>Central African Republic</td><td>The Crazy Craft Lady</td><td>315000</td></tr><tr><td>Chad</td><td>Glued To My Crafts</td><td>904000</td></tr><tr><td>Chile</td><td>TODAY Show</td><td>426000</td></tr><tr><td>China</td><td>Money Saving Mom</td><td>560000</td></tr><tr><td>Christmas Island</td><td>Instructables</td><td>6000000</td></tr><tr><td>Cocos (Keeling) Islands</td><td>MorningChores</td><td>357000</td></tr><tr><td>Colombia</td><td>Abbi Kirsten at CC Designs | Paper Flower Templates & Tutorials </td><td>297000</td></tr><tr><td>Comoros</td><td>Easy Peasy and Fun</td><td>3000000</td></tr><tr><td>Congo</td><td>We Fashion Trends</td><td>467000</td></tr><tr><td>Cook Islands</td><td>SeedTime (Money Tips)</td><td>77000</td></tr><tr><td>Costa Rica</td><td>Liz Marie</td><td>1236000</td></tr><tr><td>Cote d'Ivoire</td><td>Stacy Risenmay</td><td>200000</td></tr><tr><td>Croatia</td><td>Meraki Lane</td><td>546000</td></tr><tr><td>Cuba</td><td>Cuded Art & Design</td><td>1000000</td></tr><tr><td>Cyprus</td><td>wordlessTech</td><td>113000</td></tr><tr><td>Czech Republic</td><td>MyLuxePoint</td><td>121000</td></tr><tr><td>Denmark</td><td>Kelley Nan</td><td>59000</td></tr><tr><td>Djibouti</td><td>Instrupix | Lilly Childers</td><td>1100000</td></tr><tr><td>Dominica</td><td>Dove Cottage Blog | DIY, Crafting & Interiors On A Budget</td><td>8000</td></tr><tr><td>Dominican Republic</td><td>My Modern Met</td><td>3000000</td></tr><tr><td>Ecuador</td><td>RebelsMarket</td><td>326000</td></tr><tr><td>Egypt</td><td>Nancy / Artsy Chicks Rule®</td><td>143000</td></tr><tr><td>El Salvador</td><td>Power of Positivity</td><td>221000</td></tr><tr><td>Equatorial Guinea</td><td>Meg O.</td><td>99000</td></tr><tr><td>Eritrea</td><td>Kelly @ Redefined Mom</td><td>192000</td></tr><tr><td>Estonia</td><td>Morgan |  Modernly Morgan</td><td>13000</td></tr><tr><td>Ethiopia</td><td>Ideal Home</td><td>671000</td></tr><tr><td>Falkland Islands (Malvinas)</td><td>Hallstrom Home</td><td>91000</td></tr><tr><td>Faroe Islands</td><td>British Vogue</td><td>1000000</td></tr><tr><td>Fiji</td><td>By Sophia Lee</td><td>152000</td></tr><tr><td>Finland</td><td>Buggy and Buddy</td><td>185000</td></tr><tr><td>France</td><td>Miss DeCarbo</td><td>29000</td></tr><tr><td>French Guiana</td><td>Commitment Connection</td><td>51000</td></tr><tr><td>French Polynesia</td><td>Hunker</td><td>279000</td></tr><tr><td>French Southern Territories</td><td>Natural Beach Living</td><td>113000</td></tr><tr><td>Gabon</td><td>SHAPE</td><td>637000</td></tr><tr><td>Gambia</td><td>Handy Little Me | free knitting patterns | crochet | crafts</td><td>66000</td></tr><tr><td>Georgia</td><td>Susie Allison | Busy Toddler</td><td>203000</td></tr><tr><td>Germany</td><td>Azuro Republic</td><td>122000</td></tr><tr><td>Ghana</td><td>Face Yoga Expert | Danielle Collins</td><td>9000</td></tr><tr><td>Gibraltar</td><td>Top Inspired</td><td>855000</td></tr><tr><td>Greece</td><td>Sheryl @ Teaching 2 and 3 Year Olds</td><td>123000</td></tr><tr><td>Greenland</td><td>kickassthings.com</td><td>202000</td></tr><tr><td>Grenada</td><td>Bustle.com</td><td>821000</td></tr><tr><td>Guadeloupe</td><td>Jess Abbott | The Sewing Rabbit</td><td>123000</td></tr><tr><td>Guam</td><td>imgur</td><td>4000000</td></tr><tr><td>Guatemala</td><td>Homedit.com</td><td>965000</td></tr><tr><td>Guernsey</td><td>TattooMagz</td><td>32000</td></tr><tr><td>Guinea</td><td>Pine and Prospect Home</td><td>11000</td></tr><tr><td>Guinea-Bissau</td><td>tavernatravels | travel blogger</td><td>22000</td></tr><tr><td>Guyana</td><td>Lofaris Backdrop</td><td>19000</td></tr><tr><td>Haiti</td><td>No Time For Flash Cards</td><td>610000</td></tr><tr><td>Heard Island and McDonald Islands</td><td>TANIA MARAS</td><td>45000</td></tr><tr><td>Holy See (Vatican City State)</td><td>ELLE France</td><td>1000000</td></tr><tr><td>Honduras</td><td>Mad in Crafts</td><td>106000</td></tr><tr><td>Hong Kong</td><td>Inu Etc - Entrepreneurship, Online Business, Blogging Tips</td><td>15000</td></tr><tr><td>Hungary</td><td>Simply2Moms</td><td>42000</td></tr><tr><td>Iceland</td><td>PositiveMed</td><td>371000</td></tr><tr><td>India</td><td>Fabbon</td><td>36000</td></tr><tr><td>Indonesia</td><td>Kathleen Hall Lapchak</td><td>2000</td></tr><tr><td>Iran</td><td>Yourwillbearwitness</td><td>33000</td></tr><tr><td>Iraq</td><td>House Beautiful</td><td>2626000</td></tr><tr><td>Ireland</td><td>Home & Kitchen</td><td>105000</td></tr><tr><td>Isle of Man</td><td>Abbotts At Home</td><td>52000</td></tr><tr><td>Israel</td><td>Fun With Mama - Kids Crafts And Activity Ideas</td><td>40000</td></tr><tr><td>Italy</td><td>Setting for Four</td><td>435000</td></tr><tr><td>Jamaica</td><td>Kidz Entertainment, Inc.</td><td>18000</td></tr><tr><td>Japan</td><td>Tim Guan</td><td>10000</td></tr><tr><td>Jersey</td><td>Bebe Burns-Bruglio</td><td>1000</td></tr><tr><td>Jordan</td><td>Stockpiling Moms</td><td>243000</td></tr><tr><td>Kazakhstan</td><td>Christina Maria - DIY Home Improvement + Decor</td><td>75000</td></tr><tr><td>Kenya</td><td>notonthehighstreet.com</td><td>750000</td></tr><tr><td>Kiribati</td><td>De Bautizos</td><td>9000</td></tr><tr><td>Korea</td><td>Society6</td><td>1000000</td></tr><tr><td>Kuwait</td><td>Green Wedding Shoes</td><td>2000000</td></tr><tr><td>Kyrgyz Republic</td><td>Gladiis Moreno </td><td>77000</td></tr><tr><td>Lao People's Democratic Republic</td><td>My Perfect Itinerary | Travel Photography & Travel Itineraries</td><td>7000</td></tr><tr><td>Latvia</td><td>Royal Fashionist</td><td>188000</td></tr><tr><td>Lebanon</td><td>EtsyUK</td><td>1268000</td></tr><tr><td>Liberia</td><td>Freundin</td><td>267000</td></tr><tr><td>Libyan Arab Jamahiriya</td><td>miss coco</td><td>157000</td></tr><tr><td>Liechtenstein</td><td>Vampirefreaks</td><td>54000</td></tr><tr><td>Lithuania</td><td>The Bespoke ELA Classroom</td><td>10000</td></tr><tr><td>Luxembourg</td><td>Flaticz</td><td>7000</td></tr><tr><td>Macao</td><td>The Idea Room</td><td>405000</td></tr><tr><td>Macedonia</td><td>Kiwi tandon</td><td>19000</td></tr><tr><td>Madagascar</td><td>OTOKOMAE/男前研究所</td><td>244000</td></tr><tr><td>Malawi</td><td>Avenly Lane | Beauty, Fashion & Travel Inspiration</td><td>42000</td></tr><tr><td>Malaysia</td><td>Julie Dee</td><td>3000</td></tr><tr><td>Maldives</td><td>Parents</td><td>416000</td></tr><tr><td>Mali</td><td>VAHL</td><td>2000</td></tr><tr><td>Malta</td><td>Eventdesign Hussenverleih24</td><td>3000</td></tr><tr><td>Marshall Islands</td><td>Susan Hartley</td><td>7000</td></tr><tr><td>Martinique</td><td>NurtureStore</td><td>344000</td></tr><tr><td>Mauritius</td><td>Sofia Battaglia Foret | MENTAL HEALTH + RELATIONSHIPS</td><td>9000</td></tr><tr><td>Mayotte</td><td>Outfit Trends</td><td>328000</td></tr><tr><td>Mexico</td><td>Light and Dwell Interiors</td><td>20000</td></tr><tr><td>Micronesia</td><td>Brighter Craft | Art, Crafts & Food Recipes</td><td>156000</td></tr><tr><td>Moldova</td><td>Sengerson - DIY and Affordable Home Decor</td><td>13000</td></tr><tr><td>Monaco</td><td>VitalSource</td><td>216000</td></tr><tr><td>Mongolia</td><td>ZAFUL</td><td>1786000</td></tr><tr><td>Montenegro</td><td>SARAH SONG</td><td>323</td></tr><tr><td>Montserrat</td><td>Addie Welch Collins</td><td>518</td></tr><tr><td>Morocco</td><td>PLAY & LEARN with Growing a Jeweled Rose</td><td>439000</td></tr><tr><td>Mozambique</td><td>Stylin by Aylin</td><td>83000</td></tr><tr><td>Myanmar</td><td>Jen Rizzo/Jennifer Rizzo Design Company</td><td>99000</td></tr><tr><td>Namibia</td><td>Snappy Gourmet</td><td>168000</td></tr><tr><td>Nauru</td><td>Femme Actuelle</td><td>303000</td></tr><tr><td>Nepal</td><td>Christie @Childhood101</td><td>444000</td></tr><tr><td>Netherlands</td><td>Tracie Kiernan | Step By Step Painting |</td><td>308000</td></tr><tr><td>Netherlands Antilles</td><td>cristina sigala</td><td>329</td></tr><tr><td>New Caledonia</td><td>Afam Uche | Personal Growth | Self Care + Self Improvement</td><td>184000</td></tr><tr><td>New Zealand</td><td>Kristina Windsor</td><td>158</td></tr><tr><td>Nicaragua</td><td>DIY Projects For Teens | Teen Crafts & Room Decor</td><td>175000</td></tr><tr><td>Niger</td><td>Well+Good</td><td>333000</td></tr><tr><td>Nigeria</td><td>eyelashdance</td><td>164</td></tr><tr><td>Niue</td><td>DesignBump</td><td>39000</td></tr><tr><td>Northern Mariana Islands</td><td>My Special Learners</td><td>2000</td></tr><tr><td>Norway</td><td>Androf | Best DIY & Ideas | Unique Drawing | Amazing Art</td><td>544000</td></tr><tr><td>Oman</td><td>Travel Melodies | Family Travel | Travel Tips | Travel Guides</td><td>14000</td></tr><tr><td>Pakistan</td><td>Homeschool On</td><td>40000</td></tr><tr><td>Palau</td><td>BlushingDrops | Custom Wedding Backdrops</td><td>5000</td></tr><tr><td>Palestinian Territory</td><td>Laurel</td><td>4000</td></tr><tr><td>Panama</td><td>Furyan</td><td>0</td></tr><tr><td>Papua New Guinea</td><td>MODwedding</td><td>766000</td></tr><tr><td>Paraguay</td><td>Godiygo</td><td>120000</td></tr><tr><td>Peru</td><td>Dainty Dress Diaries</td><td>34000</td></tr><tr><td>Philippines</td><td>Moms and Munchkins</td><td>68000</td></tr><tr><td>Pitcairn Islands</td><td>Marla Meridith</td><td>671000</td></tr><tr><td>Poland</td><td>Bliss & Sass</td><td>24</td></tr><tr><td>Portugal</td><td>Lindsey Blogs</td><td>29000</td></tr><tr><td>Puerto Rico</td><td>Survival Life </td><td>354000</td></tr><tr><td>Qatar</td><td>Dreaming in DIY</td><td>66000</td></tr><tr><td>Reunion</td><td>My List Of Lists</td><td>297000</td></tr><tr><td>Romania</td><td>WearManStyle</td><td>2000</td></tr><tr><td>Russian Federation</td><td>decor8 HOLLY BECKER</td><td>418000</td></tr><tr><td>Saint Barthelemy</td><td>Jenny Morris | Faith & Good Works</td><td>5000</td></tr><tr><td>Saint Helena</td><td>The Pamper Place</td><td>656</td></tr><tr><td>Saint Kitts and Nevis</td><td>vintagetopia</td><td>171000</td></tr><tr><td>Saint Lucia</td><td>Mama Instincts®</td><td>27000</td></tr><tr><td>Saint Martin</td><td>Just Jamila</td><td>188</td></tr><tr><td>Saint Pierre and Miquelon</td><td>BC Creatives // Self Care, Blogging & Work From Home Tips ✨</td><td>10000</td></tr><tr><td>Saint Vincent and the Grenadines</td><td>SHTFPreparedness</td><td>380000</td></tr><tr><td>Samoa</td><td>The Believers Group</td><td>1000</td></tr><tr><td>Sao Tome and Principe</td><td>Bill Roush</td><td>4000</td></tr><tr><td>Saudi Arabia</td><td>Fashion Activation</td><td>598000</td></tr><tr><td>Senegal</td><td>LLG Events</td><td>9000</td></tr><tr><td>Seychelles</td><td>Through Kelsey's Lens | Travel Blog</td><td>5000</td></tr><tr><td>Sierra Leone</td><td>Tyler Schmitt</td><td>22000</td></tr><tr><td>Singapore</td><td>Jenna Rainey | Watercolor Tutorials + Creative Entrepreneur Tips</td><td>30000</td></tr><tr><td>Slovakia (Slovak Republic)</td><td>1-Minute Bible Love Notes</td><td>123000</td></tr><tr><td>Slovenia</td><td>Adrienne Wiggins</td><td>12000</td></tr><tr><td>Solomon Islands</td><td>Modern Wedding</td><td>116000</td></tr><tr><td>Somalia</td><td>Cutesy Crafts</td><td>216000</td></tr><tr><td>South Africa</td><td>Wholeheartedly Laura | Biz Coach for Heart-Centred Coaches</td><td>94000</td></tr><tr><td>South Georgia and the South Sandwich Islands</td><td>THE WEDDING CREST LAB | Hand Painted Wedding Invitations</td><td>1606</td></tr><tr><td>Spain</td><td>Thought Catalog</td><td>91000</td></tr><tr><td>Sri Lanka</td><td>Erin O'Neil</td><td>380</td></tr><tr><td>Sudan</td><td>Havvanur</td><td>6</td></tr><tr><td>Svalbard & Jan Mayen Islands</td><td>Brandywine Boutique</td><td>77000</td></tr><tr><td>Swaziland</td><td>Eighteen25</td><td>167000</td></tr><tr><td>Sweden</td><td>John Hdez</td><td>1000</td></tr><tr><td>Switzerland</td><td>Melissa (Melly Sews)</td><td>205000</td></tr><tr><td>Syrian Arab Republic</td><td>Chasing Foxes</td><td>460000</td></tr><tr><td>Taiwan</td><td>What The Car Media</td><td>40000</td></tr><tr><td>Tajikistan</td><td>Fantabulosity</td><td>95000</td></tr><tr><td>Tanzania</td><td>This N That with Olivia LLC</td><td>28000</td></tr><tr><td>Thailand</td><td>Glow And Me</td><td>16</td></tr><tr><td>Timor-Leste</td><td>The Modern Female Hiker</td><td>6000</td></tr><tr><td>Togo</td><td>Jess | Backpack With Me</td><td>3000</td></tr><tr><td>Tokelau</td><td>BackYardChickens.com</td><td>298000</td></tr><tr><td>Tonga</td><td>Jackie Beck</td><td>27000</td></tr><tr><td>Trinidad and Tobago</td><td>Anne @ Left Brain Craft Brain</td><td>47000</td></tr><tr><td>Tunisia</td><td>DecorKate</td><td>5000</td></tr><tr><td>Turkey</td><td>Stef | Marketing, Branding & Mindset Coach</td><td>3000</td></tr><tr><td>Turkmenistan</td><td>Bubbly Moments</td><td>44000</td></tr><tr><td>Turks and Caicos Islands</td><td>Let's Eat Cake</td><td>19000</td></tr><tr><td>Tuvalu</td><td>DIY Fidgets!!</td><td>803</td></tr><tr><td>Uganda</td><td>Lauren McBride</td><td>84000</td></tr><tr><td>Ukraine</td><td>Jekyll | Home Decor Ideas & DIY</td><td>21000</td></tr><tr><td>United Arab Emirates</td><td>Aesop Socrates</td><td>2</td></tr><tr><td>United Kingdom</td><td>Eluxe Magazine</td><td>32000</td></tr><tr><td>United States Virgin Islands</td><td>Attraction Candles</td><td>2000</td></tr><tr><td>United States of America</td><td>L A U R I ✨.</td><td>20</td></tr><tr><td>Uruguay</td><td>Erin | Mother's Niche</td><td>97000</td></tr><tr><td>Uzbekistan</td><td>Michael Johnson</td><td>15</td></tr><tr><td>Vanuatu</td><td>The Wandering Lens - Travel Guides + Photography Prints</td><td>4000</td></tr><tr><td>Venezuela</td><td>Self Tattoo</td><td>16000</td></tr><tr><td>Vietnam</td><td>Daicy Swartz</td><td>9000</td></tr><tr><td>Wallis and Futuna</td><td>TripSavvy</td><td>55000</td></tr><tr><td>Western Sahara</td><td>Ideas en 5 Minutos Chicas</td><td>489000</td></tr><tr><td>Yemen</td><td>NonSoloRiciclo</td><td>355000</td></tr><tr><td>Zambia</td><td>LaCart Tarjetas</td><td>1000</td></tr><tr><td>Zimbabwe</td><td>Crafted by the Hunts | Home DIY and Design</td><td>35000</td></tr></tbody></table></div>"
      ]
     },
     "metadata": {
      "application/vnd.databricks.v1+output": {
       "addedWidgets": {},
       "aggData": [],
       "aggError": "",
       "aggOverflow": false,
       "aggSchema": [],
       "aggSeriesLimitReached": false,
       "aggType": "",
       "arguments": {},
       "columnCustomDisplayInfos": {},
       "data": [
        [
         "Afghanistan",
         "Walmart",
         24000000
        ],
        [
         "Albania",
         "The Minds Journal",
         80000000
        ],
        [
         "Algeria",
         "YourTango",
         35796000
        ],
        [
         "American Samoa",
         "Mamas Uncut",
         72000000
        ],
        [
         "Andorra",
         "Our Mindful Life",
         2090000
        ],
        [
         "Angola",
         "Tastemade",
         8000000
        ],
        [
         "Anguilla",
         "We Heart It",
         45000000
        ],
        [
         "Antarctica (the territory South of 60 deg S)",
         "HikenDip",
         5501000
        ],
        [
         "Antigua and Barbuda",
         "Only In Your State",
         802000
        ],
        [
         "Argentina",
         "Next Luxury",
         4000000
        ],
        [
         "Armenia",
         "DIYnCrafts.Com",
         5222000
        ],
        [
         "Aruba",
         "One Kindesign",
         1971000
        ],
        [
         "Australia",
         "Mujer de 10 ",
         2000000
        ],
        [
         "Austria",
         "Allwomenstalk - girl rules ",
         2439000
        ],
        [
         "Azerbaijan",
         "Style Me Pretty",
         18000000
        ],
        [
         "Bahamas",
         "Handmade Charlotte",
         948000
        ],
        [
         "Bahrain",
         "Decor Home Ideas",
         576000
        ],
        [
         "Bangladesh",
         "Better Homes and Gardens",
         12000000
        ],
        [
         "Barbados",
         "The Creativity Exchange",
         1640000
        ],
        [
         "Belarus",
         "Prudent Penny Pincher - Home Decor, Organization, Crafts, Recipes",
         3239000
        ],
        [
         "Belgium",
         "The Krazy Coupon Lady",
         1732000
        ],
        [
         "Belize",
         "Julia Berolzheimer",
         1197000
        ],
        [
         "Benin",
         "Penny Pinchin Mom |  Budget, Get out of Debt, Save Money & More!",
         113000
        ],
        [
         "Bermuda",
         "Life on Summerhill | Home, Holiday Decor & DIY Website",
         92000
        ],
        [
         "Bhutan",
         "Esquire Magazine",
         130000
        ],
        [
         "Bolivia",
         "Squarespace",
         328000
        ],
        [
         "Bosnia and Herzegovina",
         "5-Minute Crafts Family",
         1110000
        ],
        [
         "Botswana",
         "GloryInvestingShow",
         196000
        ],
        [
         "Bouvet Island (Bouvetoya)",
         "POPSUGAR",
         10000000
        ],
        [
         "Brazil",
         "The Country Chic Cottage - DIY, Cricut, crafts, recipes, decor",
         602000
        ],
        [
         "British Indian Ocean Territory (Chagos Archipelago)",
         "ZestVine",
         85000
        ],
        [
         "British Virgin Islands",
         "The WHOot",
         1000000
        ],
        [
         "Brunei Darussalam",
         "Games 4 Learning",
         180000
        ],
        [
         "Bulgaria",
         "Half Baked Harvest",
         1824000
        ],
        [
         "Burkina Faso",
         "Behance",
         18000000
        ],
        [
         "Burundi",
         "Macho Moda",
         2480000
        ],
        [
         "Cambodia",
         "Catch My Party",
         2000000
        ],
        [
         "Cameroon",
         "Made to be a Momma",
         85000
        ],
        [
         "Canada",
         "Giorgenti New York",
         258000
        ],
        [
         "Cape Verde",
         "RT Lifestyle Magazine | Travel, DIY, Recipes, Fitness & More",
         43000
        ],
        [
         "Cayman Islands",
         "How Wee Learn",
         1532000
        ],
        [
         "Central African Republic",
         "The Crazy Craft Lady",
         315000
        ],
        [
         "Chad",
         "Glued To My Crafts",
         904000
        ],
        [
         "Chile",
         "TODAY Show",
         426000
        ],
        [
         "China",
         "Money Saving Mom",
         560000
        ],
        [
         "Christmas Island",
         "Instructables",
         6000000
        ],
        [
         "Cocos (Keeling) Islands",
         "MorningChores",
         357000
        ],
        [
         "Colombia",
         "Abbi Kirsten at CC Designs | Paper Flower Templates & Tutorials ",
         297000
        ],
        [
         "Comoros",
         "Easy Peasy and Fun",
         3000000
        ],
        [
         "Congo",
         "We Fashion Trends",
         467000
        ],
        [
         "Cook Islands",
         "SeedTime (Money Tips)",
         77000
        ],
        [
         "Costa Rica",
         "Liz Marie",
         1236000
        ],
        [
         "Cote d'Ivoire",
         "Stacy Risenmay",
         200000
        ],
        [
         "Croatia",
         "Meraki Lane",
         546000
        ],
        [
         "Cuba",
         "Cuded Art & Design",
         1000000
        ],
        [
         "Cyprus",
         "wordlessTech",
         113000
        ],
        [
         "Czech Republic",
         "MyLuxePoint",
         121000
        ],
        [
         "Denmark",
         "Kelley Nan",
         59000
        ],
        [
         "Djibouti",
         "Instrupix | Lilly Childers",
         1100000
        ],
        [
         "Dominica",
         "Dove Cottage Blog | DIY, Crafting & Interiors On A Budget",
         8000
        ],
        [
         "Dominican Republic",
         "My Modern Met",
         3000000
        ],
        [
         "Ecuador",
         "RebelsMarket",
         326000
        ],
        [
         "Egypt",
         "Nancy / Artsy Chicks Rule®",
         143000
        ],
        [
         "El Salvador",
         "Power of Positivity",
         221000
        ],
        [
         "Equatorial Guinea",
         "Meg O.",
         99000
        ],
        [
         "Eritrea",
         "Kelly @ Redefined Mom",
         192000
        ],
        [
         "Estonia",
         "Morgan |  Modernly Morgan",
         13000
        ],
        [
         "Ethiopia",
         "Ideal Home",
         671000
        ],
        [
         "Falkland Islands (Malvinas)",
         "Hallstrom Home",
         91000
        ],
        [
         "Faroe Islands",
         "British Vogue",
         1000000
        ],
        [
         "Fiji",
         "By Sophia Lee",
         152000
        ],
        [
         "Finland",
         "Buggy and Buddy",
         185000
        ],
        [
         "France",
         "Miss DeCarbo",
         29000
        ],
        [
         "French Guiana",
         "Commitment Connection",
         51000
        ],
        [
         "French Polynesia",
         "Hunker",
         279000
        ],
        [
         "French Southern Territories",
         "Natural Beach Living",
         113000
        ],
        [
         "Gabon",
         "SHAPE",
         637000
        ],
        [
         "Gambia",
         "Handy Little Me | free knitting patterns | crochet | crafts",
         66000
        ],
        [
         "Georgia",
         "Susie Allison | Busy Toddler",
         203000
        ],
        [
         "Germany",
         "Azuro Republic",
         122000
        ],
        [
         "Ghana",
         "Face Yoga Expert | Danielle Collins",
         9000
        ],
        [
         "Gibraltar",
         "Top Inspired",
         855000
        ],
        [
         "Greece",
         "Sheryl @ Teaching 2 and 3 Year Olds",
         123000
        ],
        [
         "Greenland",
         "kickassthings.com",
         202000
        ],
        [
         "Grenada",
         "Bustle.com",
         821000
        ],
        [
         "Guadeloupe",
         "Jess Abbott | The Sewing Rabbit",
         123000
        ],
        [
         "Guam",
         "imgur",
         4000000
        ],
        [
         "Guatemala",
         "Homedit.com",
         965000
        ],
        [
         "Guernsey",
         "TattooMagz",
         32000
        ],
        [
         "Guinea",
         "Pine and Prospect Home",
         11000
        ],
        [
         "Guinea-Bissau",
         "tavernatravels | travel blogger",
         22000
        ],
        [
         "Guyana",
         "Lofaris Backdrop",
         19000
        ],
        [
         "Haiti",
         "No Time For Flash Cards",
         610000
        ],
        [
         "Heard Island and McDonald Islands",
         "TANIA MARAS",
         45000
        ],
        [
         "Holy See (Vatican City State)",
         "ELLE France",
         1000000
        ],
        [
         "Honduras",
         "Mad in Crafts",
         106000
        ],
        [
         "Hong Kong",
         "Inu Etc - Entrepreneurship, Online Business, Blogging Tips",
         15000
        ],
        [
         "Hungary",
         "Simply2Moms",
         42000
        ],
        [
         "Iceland",
         "PositiveMed",
         371000
        ],
        [
         "India",
         "Fabbon",
         36000
        ],
        [
         "Indonesia",
         "Kathleen Hall Lapchak",
         2000
        ],
        [
         "Iran",
         "Yourwillbearwitness",
         33000
        ],
        [
         "Iraq",
         "House Beautiful",
         2626000
        ],
        [
         "Ireland",
         "Home & Kitchen",
         105000
        ],
        [
         "Isle of Man",
         "Abbotts At Home",
         52000
        ],
        [
         "Israel",
         "Fun With Mama - Kids Crafts And Activity Ideas",
         40000
        ],
        [
         "Italy",
         "Setting for Four",
         435000
        ],
        [
         "Jamaica",
         "Kidz Entertainment, Inc.",
         18000
        ],
        [
         "Japan",
         "Tim Guan",
         10000
        ],
        [
         "Jersey",
         "Bebe Burns-Bruglio",
         1000
        ],
        [
         "Jordan",
         "Stockpiling Moms",
         243000
        ],
        [
         "Kazakhstan",
         "Christina Maria - DIY Home Improvement + Decor",
         75000
        ],
        [
         "Kenya",
         "notonthehighstreet.com",
         750000
        ],
        [
         "Kiribati",
         "De Bautizos",
         9000
        ],
        [
         "Korea",
         "Society6",
         1000000
        ],
        [
         "Kuwait",
         "Green Wedding Shoes",
         2000000
        ],
        [
         "Kyrgyz Republic",
         "Gladiis Moreno ",
         77000
        ],
        [
         "Lao People's Democratic Republic",
         "My Perfect Itinerary | Travel Photography & Travel Itineraries",
         7000
        ],
        [
         "Latvia",
         "Royal Fashionist",
         188000
        ],
        [
         "Lebanon",
         "EtsyUK",
         1268000
        ],
        [
         "Liberia",
         "Freundin",
         267000
        ],
        [
         "Libyan Arab Jamahiriya",
         "miss coco",
         157000
        ],
        [
         "Liechtenstein",
         "Vampirefreaks",
         54000
        ],
        [
         "Lithuania",
         "The Bespoke ELA Classroom",
         10000
        ],
        [
         "Luxembourg",
         "Flaticz",
         7000
        ],
        [
         "Macao",
         "The Idea Room",
         405000
        ],
        [
         "Macedonia",
         "Kiwi tandon",
         19000
        ],
        [
         "Madagascar",
         "OTOKOMAE/男前研究所",
         244000
        ],
        [
         "Malawi",
         "Avenly Lane | Beauty, Fashion & Travel Inspiration",
         42000
        ],
        [
         "Malaysia",
         "Julie Dee",
         3000
        ],
        [
         "Maldives",
         "Parents",
         416000
        ],
        [
         "Mali",
         "VAHL",
         2000
        ],
        [
         "Malta",
         "Eventdesign Hussenverleih24",
         3000
        ],
        [
         "Marshall Islands",
         "Susan Hartley",
         7000
        ],
        [
         "Martinique",
         "NurtureStore",
         344000
        ],
        [
         "Mauritius",
         "Sofia Battaglia Foret | MENTAL HEALTH + RELATIONSHIPS",
         9000
        ],
        [
         "Mayotte",
         "Outfit Trends",
         328000
        ],
        [
         "Mexico",
         "Light and Dwell Interiors",
         20000
        ],
        [
         "Micronesia",
         "Brighter Craft | Art, Crafts & Food Recipes",
         156000
        ],
        [
         "Moldova",
         "Sengerson - DIY and Affordable Home Decor",
         13000
        ],
        [
         "Monaco",
         "VitalSource",
         216000
        ],
        [
         "Mongolia",
         "ZAFUL",
         1786000
        ],
        [
         "Montenegro",
         "SARAH SONG",
         323
        ],
        [
         "Montserrat",
         "Addie Welch Collins",
         518
        ],
        [
         "Morocco",
         "PLAY & LEARN with Growing a Jeweled Rose",
         439000
        ],
        [
         "Mozambique",
         "Stylin by Aylin",
         83000
        ],
        [
         "Myanmar",
         "Jen Rizzo/Jennifer Rizzo Design Company",
         99000
        ],
        [
         "Namibia",
         "Snappy Gourmet",
         168000
        ],
        [
         "Nauru",
         "Femme Actuelle",
         303000
        ],
        [
         "Nepal",
         "Christie @Childhood101",
         444000
        ],
        [
         "Netherlands",
         "Tracie Kiernan | Step By Step Painting |",
         308000
        ],
        [
         "Netherlands Antilles",
         "cristina sigala",
         329
        ],
        [
         "New Caledonia",
         "Afam Uche | Personal Growth | Self Care + Self Improvement",
         184000
        ],
        [
         "New Zealand",
         "Kristina Windsor",
         158
        ],
        [
         "Nicaragua",
         "DIY Projects For Teens | Teen Crafts & Room Decor",
         175000
        ],
        [
         "Niger",
         "Well+Good",
         333000
        ],
        [
         "Nigeria",
         "eyelashdance",
         164
        ],
        [
         "Niue",
         "DesignBump",
         39000
        ],
        [
         "Northern Mariana Islands",
         "My Special Learners",
         2000
        ],
        [
         "Norway",
         "Androf | Best DIY & Ideas | Unique Drawing | Amazing Art",
         544000
        ],
        [
         "Oman",
         "Travel Melodies | Family Travel | Travel Tips | Travel Guides",
         14000
        ],
        [
         "Pakistan",
         "Homeschool On",
         40000
        ],
        [
         "Palau",
         "BlushingDrops | Custom Wedding Backdrops",
         5000
        ],
        [
         "Palestinian Territory",
         "Laurel",
         4000
        ],
        [
         "Panama",
         "Furyan",
         0
        ],
        [
         "Papua New Guinea",
         "MODwedding",
         766000
        ],
        [
         "Paraguay",
         "Godiygo",
         120000
        ],
        [
         "Peru",
         "Dainty Dress Diaries",
         34000
        ],
        [
         "Philippines",
         "Moms and Munchkins",
         68000
        ],
        [
         "Pitcairn Islands",
         "Marla Meridith",
         671000
        ],
        [
         "Poland",
         "Bliss & Sass",
         24
        ],
        [
         "Portugal",
         "Lindsey Blogs",
         29000
        ],
        [
         "Puerto Rico",
         "Survival Life ",
         354000
        ],
        [
         "Qatar",
         "Dreaming in DIY",
         66000
        ],
        [
         "Reunion",
         "My List Of Lists",
         297000
        ],
        [
         "Romania",
         "WearManStyle",
         2000
        ],
        [
         "Russian Federation",
         "decor8 HOLLY BECKER",
         418000
        ],
        [
         "Saint Barthelemy",
         "Jenny Morris | Faith & Good Works",
         5000
        ],
        [
         "Saint Helena",
         "The Pamper Place",
         656
        ],
        [
         "Saint Kitts and Nevis",
         "vintagetopia",
         171000
        ],
        [
         "Saint Lucia",
         "Mama Instincts®",
         27000
        ],
        [
         "Saint Martin",
         "Just Jamila",
         188
        ],
        [
         "Saint Pierre and Miquelon",
         "BC Creatives // Self Care, Blogging & Work From Home Tips ✨",
         10000
        ],
        [
         "Saint Vincent and the Grenadines",
         "SHTFPreparedness",
         380000
        ],
        [
         "Samoa",
         "The Believers Group",
         1000
        ],
        [
         "Sao Tome and Principe",
         "Bill Roush",
         4000
        ],
        [
         "Saudi Arabia",
         "Fashion Activation",
         598000
        ],
        [
         "Senegal",
         "LLG Events",
         9000
        ],
        [
         "Seychelles",
         "Through Kelsey's Lens | Travel Blog",
         5000
        ],
        [
         "Sierra Leone",
         "Tyler Schmitt",
         22000
        ],
        [
         "Singapore",
         "Jenna Rainey | Watercolor Tutorials + Creative Entrepreneur Tips",
         30000
        ],
        [
         "Slovakia (Slovak Republic)",
         "1-Minute Bible Love Notes",
         123000
        ],
        [
         "Slovenia",
         "Adrienne Wiggins",
         12000
        ],
        [
         "Solomon Islands",
         "Modern Wedding",
         116000
        ],
        [
         "Somalia",
         "Cutesy Crafts",
         216000
        ],
        [
         "South Africa",
         "Wholeheartedly Laura | Biz Coach for Heart-Centred Coaches",
         94000
        ],
        [
         "South Georgia and the South Sandwich Islands",
         "THE WEDDING CREST LAB | Hand Painted Wedding Invitations",
         1606
        ],
        [
         "Spain",
         "Thought Catalog",
         91000
        ],
        [
         "Sri Lanka",
         "Erin O'Neil",
         380
        ],
        [
         "Sudan",
         "Havvanur",
         6
        ],
        [
         "Svalbard & Jan Mayen Islands",
         "Brandywine Boutique",
         77000
        ],
        [
         "Swaziland",
         "Eighteen25",
         167000
        ],
        [
         "Sweden",
         "John Hdez",
         1000
        ],
        [
         "Switzerland",
         "Melissa (Melly Sews)",
         205000
        ],
        [
         "Syrian Arab Republic",
         "Chasing Foxes",
         460000
        ],
        [
         "Taiwan",
         "What The Car Media",
         40000
        ],
        [
         "Tajikistan",
         "Fantabulosity",
         95000
        ],
        [
         "Tanzania",
         "This N That with Olivia LLC",
         28000
        ],
        [
         "Thailand",
         "Glow And Me",
         16
        ],
        [
         "Timor-Leste",
         "The Modern Female Hiker",
         6000
        ],
        [
         "Togo",
         "Jess | Backpack With Me",
         3000
        ],
        [
         "Tokelau",
         "BackYardChickens.com",
         298000
        ],
        [
         "Tonga",
         "Jackie Beck",
         27000
        ],
        [
         "Trinidad and Tobago",
         "Anne @ Left Brain Craft Brain",
         47000
        ],
        [
         "Tunisia",
         "DecorKate",
         5000
        ],
        [
         "Turkey",
         "Stef | Marketing, Branding & Mindset Coach",
         3000
        ],
        [
         "Turkmenistan",
         "Bubbly Moments",
         44000
        ],
        [
         "Turks and Caicos Islands",
         "Let's Eat Cake",
         19000
        ],
        [
         "Tuvalu",
         "DIY Fidgets!!",
         803
        ],
        [
         "Uganda",
         "Lauren McBride",
         84000
        ],
        [
         "Ukraine",
         "Jekyll | Home Decor Ideas & DIY",
         21000
        ],
        [
         "United Arab Emirates",
         "Aesop Socrates",
         2
        ],
        [
         "United Kingdom",
         "Eluxe Magazine",
         32000
        ],
        [
         "United States Virgin Islands",
         "Attraction Candles",
         2000
        ],
        [
         "United States of America",
         "L A U R I ✨.",
         20
        ],
        [
         "Uruguay",
         "Erin | Mother's Niche",
         97000
        ],
        [
         "Uzbekistan",
         "Michael Johnson",
         15
        ],
        [
         "Vanuatu",
         "The Wandering Lens - Travel Guides + Photography Prints",
         4000
        ],
        [
         "Venezuela",
         "Self Tattoo",
         16000
        ],
        [
         "Vietnam",
         "Daicy Swartz",
         9000
        ],
        [
         "Wallis and Futuna",
         "TripSavvy",
         55000
        ],
        [
         "Western Sahara",
         "Ideas en 5 Minutos Chicas",
         489000
        ],
        [
         "Yemen",
         "NonSoloRiciclo",
         355000
        ],
        [
         "Zambia",
         "LaCart Tarjetas",
         1000
        ],
        [
         "Zimbabwe",
         "Crafted by the Hunts | Home DIY and Design",
         35000
        ]
       ],
       "datasetInfos": [],
       "dbfsResultPath": null,
       "isJsonSchema": true,
       "metadata": {},
       "overflow": false,
       "plotOptions": {
        "customPlotOptions": {},
        "displayType": "table",
        "pivotAggregation": null,
        "pivotColumns": null,
        "xColumns": null,
        "yColumns": null
       },
       "removedWidgets": [],
       "schema": [
        {
         "metadata": "{}",
         "name": "country",
         "type": "\"string\""
        },
        {
         "metadata": "{}",
         "name": "poster_name",
         "type": "\"string\""
        },
        {
         "metadata": "{}",
         "name": "follower_count",
         "type": "\"long\""
        }
       ],
       "type": "table"
      }
     },
     "output_type": "display_data"
    }
   ],
   "source": [
    "display(top_user_by_follower_per_country)"
   ]
  },
  {
   "cell_type": "markdown",
   "metadata": {
    "application/vnd.databricks.v1+cell": {
     "cellMetadata": {
      "byteLimit": 2048000,
      "rowLimit": 10000
     },
     "inputWidgets": {},
     "nuid": "5f5aa630-0945-4e96-b903-3e0a862b3437",
     "showTitle": false,
     "title": ""
    }
   },
   "source": [
    "#### Step 2: Based on the above query, find the country with the user with most followers.\n",
    "\n",
    "Your query should return a DataFrame that contains the following columns:\n",
    "\n",
    "`country`\n",
    "`follower_count`\n",
    "\n",
    "This DataFrame should have only one entry."
   ]
  },
  {
   "cell_type": "code",
   "execution_count": 0,
   "metadata": {
    "application/vnd.databricks.v1+cell": {
     "cellMetadata": {
      "byteLimit": 2048000,
      "rowLimit": 10000
     },
     "inputWidgets": {},
     "nuid": "5314c775-fe9e-461b-bad2-3c80e3882345",
     "showTitle": false,
     "title": ""
    }
   },
   "outputs": [
    {
     "output_type": "display_data",
     "data": {
      "text/html": [
       "<style scoped>\n",
       "  .ansiout {\n",
       "    display: block;\n",
       "    unicode-bidi: embed;\n",
       "    white-space: pre-wrap;\n",
       "    word-wrap: break-word;\n",
       "    word-break: break-all;\n",
       "    font-family: \"Menlo\", \"Monaco\", \"Consolas\", \"Ubuntu Mono\", \"Source Code Pro\", monospace;\n",
       "    font-size: 13px;\n",
       "    color: #555;\n",
       "    margin-left: 4px;\n",
       "    line-height: 19px;\n",
       "  }\n",
       "</style>\n",
       "<div class=\"ansiout\"></div>"
      ]
     },
     "metadata": {
      "application/vnd.databricks.v1+output": {
       "addedWidgets": {},
       "arguments": {},
       "data": "<div class=\"ansiout\"></div>",
       "datasetInfos": [],
       "metadata": {},
       "removedWidgets": [],
       "type": "html"
      }
     },
     "output_type": "display_data"
    }
   ],
   "source": [
    "user_country_most_followers = top_user_by_follower_per_country.select('country', 'follower_count')\\\n",
    "    .orderBy('follower_count', ascending=False)"
   ]
  },
  {
   "cell_type": "code",
   "execution_count": 0,
   "metadata": {
    "application/vnd.databricks.v1+cell": {
     "cellMetadata": {
      "byteLimit": 2048000,
      "rowLimit": 10000
     },
     "inputWidgets": {},
     "nuid": "67fe23ce-2c78-40b7-8757-9f75054f4e35",
     "showTitle": false,
     "title": ""
    }
   },
   "outputs": [
    {
     "output_type": "display_data",
     "data": {
      "text/html": [
       "<style scoped>\n",
       "  .table-result-container {\n",
       "    max-height: 300px;\n",
       "    overflow: auto;\n",
       "  }\n",
       "  table, th, td {\n",
       "    border: 1px solid black;\n",
       "    border-collapse: collapse;\n",
       "  }\n",
       "  th, td {\n",
       "    padding: 5px;\n",
       "  }\n",
       "  th {\n",
       "    text-align: left;\n",
       "  }\n",
       "</style><div class='table-result-container'><table class='table-result'><thead style='background-color: white'><tr><th>country</th><th>follower_count</th></tr></thead><tbody><tr><td>Albania</td><td>80000000</td></tr></tbody></table></div>"
      ]
     },
     "metadata": {
      "application/vnd.databricks.v1+output": {
       "addedWidgets": {},
       "aggData": [],
       "aggError": "",
       "aggOverflow": false,
       "aggSchema": [],
       "aggSeriesLimitReached": false,
       "aggType": "",
       "arguments": {},
       "columnCustomDisplayInfos": {},
       "data": [
        [
         "Albania",
         80000000
        ]
       ],
       "datasetInfos": [],
       "dbfsResultPath": null,
       "isJsonSchema": true,
       "metadata": {},
       "overflow": false,
       "plotOptions": {
        "customPlotOptions": {},
        "displayType": "table",
        "pivotAggregation": null,
        "pivotColumns": null,
        "xColumns": null,
        "yColumns": null
       },
       "removedWidgets": [],
       "schema": [
        {
         "metadata": "{}",
         "name": "country",
         "type": "\"string\""
        },
        {
         "metadata": "{}",
         "name": "follower_count",
         "type": "\"long\""
        }
       ],
       "type": "table"
      }
     },
     "output_type": "display_data"
    }
   ],
   "source": [
    "display(user_country_most_followers.limit(1))"
   ]
  },
  {
   "cell_type": "markdown",
   "metadata": {
    "application/vnd.databricks.v1+cell": {
     "cellMetadata": {
      "byteLimit": 2048000,
      "rowLimit": 10000
     },
     "inputWidgets": {},
     "nuid": "42d59bc9-b7cd-4e49-a83b-72c01fa64db9",
     "showTitle": false,
     "title": ""
    }
   },
   "source": [
    "### M7-T7 Most popular category for each age group\n",
    "#### What is the most popular category people post to based on the following age groups:\n",
    "\n",
    "* 18-24\n",
    "* 25-35\n",
    "* 36-50\n",
    "* +50\n",
    "\n",
    "Your query should return a DataFrame that contains the following columns:\\\n",
    "`age_group`, a new column based on the original age column \\\n",
    "`category` \\\n",
    "`category_count`, a new column containing the desired query output\n"
   ]
  },
  {
   "cell_type": "code",
   "execution_count": 0,
   "metadata": {
    "application/vnd.databricks.v1+cell": {
     "cellMetadata": {
      "byteLimit": 2048000,
      "rowLimit": 10000
     },
     "inputWidgets": {},
     "nuid": "b66ab0c2-99cb-4bd4-ab73-1346b2ba4793",
     "showTitle": false,
     "title": ""
    }
   },
   "outputs": [
    {
     "output_type": "display_data",
     "data": {
      "text/html": [
       "<style scoped>\n",
       "  .ansiout {\n",
       "    display: block;\n",
       "    unicode-bidi: embed;\n",
       "    white-space: pre-wrap;\n",
       "    word-wrap: break-word;\n",
       "    word-break: break-all;\n",
       "    font-family: \"Menlo\", \"Monaco\", \"Consolas\", \"Ubuntu Mono\", \"Source Code Pro\", monospace;\n",
       "    font-size: 13px;\n",
       "    color: #555;\n",
       "    margin-left: 4px;\n",
       "    line-height: 19px;\n",
       "  }\n",
       "</style>\n",
       "<div class=\"ansiout\"></div>"
      ]
     },
     "metadata": {
      "application/vnd.databricks.v1+output": {
       "addedWidgets": {},
       "arguments": {},
       "data": "<div class=\"ansiout\"></div>",
       "datasetInfos": [],
       "metadata": {},
       "removedWidgets": [],
       "type": "html"
      }
     },
     "output_type": "display_data"
    }
   ],
   "source": [
    "# Drop the columns not required to try increasing the speed\n",
    "joined = df_pin.join(df_user, 'ind')\n",
    "        # .drop('unique_id','title','description','follower_count','poster_name','tag_list',\n",
    "        #                                    'is_image_or_video', 'image_src', 'save_location','user_name', 'date_joined')\n"
   ]
  },
  {
   "cell_type": "code",
   "execution_count": 0,
   "metadata": {
    "application/vnd.databricks.v1+cell": {
     "cellMetadata": {
      "byteLimit": 2048000,
      "rowLimit": 10000
     },
     "inputWidgets": {},
     "nuid": "ae64927a-c33e-4d72-a2f2-1b70bd20b7d1",
     "showTitle": false,
     "title": ""
    }
   },
   "outputs": [
    {
     "output_type": "display_data",
     "data": {
      "text/html": [
       "<style scoped>\n",
       "  .ansiout {\n",
       "    display: block;\n",
       "    unicode-bidi: embed;\n",
       "    white-space: pre-wrap;\n",
       "    word-wrap: break-word;\n",
       "    word-break: break-all;\n",
       "    font-family: \"Menlo\", \"Monaco\", \"Consolas\", \"Ubuntu Mono\", \"Source Code Pro\", monospace;\n",
       "    font-size: 13px;\n",
       "    color: #555;\n",
       "    margin-left: 4px;\n",
       "    line-height: 19px;\n",
       "  }\n",
       "</style>\n",
       "<div class=\"ansiout\"></div>"
      ]
     },
     "metadata": {
      "application/vnd.databricks.v1+output": {
       "addedWidgets": {},
       "arguments": {},
       "data": "<div class=\"ansiout\"></div>",
       "datasetInfos": [],
       "metadata": {},
       "removedWidgets": [],
       "type": "html"
      }
     },
     "output_type": "display_data"
    }
   ],
   "source": [
    "age_demongraphics_categorical = joined.withColumn('age_group', \n",
    "                  when(joined.age.between(18, 24), lit('18-24')).otherwise(\n",
    "                      when(joined.age.between(25, 35), lit('25-35')).otherwise(\n",
    "                          when(joined.age.between(36, 50), lit('36-50')).otherwise(lit('50+'))\n",
    "                      )\n",
    "                  )\n",
    ").groupBy('age_group', 'category').agg(count('*').alias('category_count'))"
   ]
  },
  {
   "cell_type": "code",
   "execution_count": 0,
   "metadata": {
    "application/vnd.databricks.v1+cell": {
     "cellMetadata": {
      "byteLimit": 2048000,
      "rowLimit": 10000
     },
     "inputWidgets": {},
     "nuid": "0800831a-1437-44ed-b11b-630003c0f3b9",
     "showTitle": false,
     "title": ""
    }
   },
   "outputs": [
    {
     "output_type": "display_data",
     "data": {
      "text/html": [
       "<style scoped>\n",
       "  .ansiout {\n",
       "    display: block;\n",
       "    unicode-bidi: embed;\n",
       "    white-space: pre-wrap;\n",
       "    word-wrap: break-word;\n",
       "    word-break: break-all;\n",
       "    font-family: \"Menlo\", \"Monaco\", \"Consolas\", \"Ubuntu Mono\", \"Source Code Pro\", monospace;\n",
       "    font-size: 13px;\n",
       "    color: #555;\n",
       "    margin-left: 4px;\n",
       "    line-height: 19px;\n",
       "  }\n",
       "</style>\n",
       "<div class=\"ansiout\"></div>"
      ]
     },
     "metadata": {
      "application/vnd.databricks.v1+output": {
       "addedWidgets": {},
       "arguments": {},
       "data": "<div class=\"ansiout\"></div>",
       "datasetInfos": [],
       "metadata": {},
       "removedWidgets": [],
       "type": "html"
      }
     },
     "output_type": "display_data"
    }
   ],
   "source": [
    "window = pyspark.sql.Window.partitionBy('age_group').orderBy(desc('category_count'))\n",
    "ranked = age_demongraphics_categorical.withColumn('rank', row_number().over(window))\n",
    "top_category_by_age = ranked.filter(col('rank')==1).select('age_group', 'category', 'category_count')"
   ]
  },
  {
   "cell_type": "code",
   "execution_count": 0,
   "metadata": {
    "application/vnd.databricks.v1+cell": {
     "cellMetadata": {
      "byteLimit": 2048000,
      "rowLimit": 10000
     },
     "inputWidgets": {},
     "nuid": "9b31fc3d-8125-46bf-96f4-5bd802169d7e",
     "showTitle": false,
     "title": ""
    }
   },
   "outputs": [
    {
     "output_type": "display_data",
     "data": {
      "text/html": [
       "<style scoped>\n",
       "  .table-result-container {\n",
       "    max-height: 300px;\n",
       "    overflow: auto;\n",
       "  }\n",
       "  table, th, td {\n",
       "    border: 1px solid black;\n",
       "    border-collapse: collapse;\n",
       "  }\n",
       "  th, td {\n",
       "    padding: 5px;\n",
       "  }\n",
       "  th {\n",
       "    text-align: left;\n",
       "  }\n",
       "</style><div class='table-result-container'><table class='table-result'><thead style='background-color: white'><tr><th>age_group</th><th>category</th><th>category_count</th></tr></thead><tbody><tr><td>18-24</td><td>tattoos</td><td>83</td></tr><tr><td>25-35</td><td>christmas</td><td>62</td></tr><tr><td>36-50</td><td>travel</td><td>39</td></tr><tr><td>50+</td><td>travel</td><td>19</td></tr></tbody></table></div>"
      ]
     },
     "metadata": {
      "application/vnd.databricks.v1+output": {
       "addedWidgets": {},
       "aggData": [],
       "aggError": "",
       "aggOverflow": false,
       "aggSchema": [],
       "aggSeriesLimitReached": false,
       "aggType": "",
       "arguments": {},
       "columnCustomDisplayInfos": {},
       "data": [
        [
         "18-24",
         "tattoos",
         83
        ],
        [
         "25-35",
         "christmas",
         62
        ],
        [
         "36-50",
         "travel",
         39
        ],
        [
         "50+",
         "travel",
         19
        ]
       ],
       "datasetInfos": [],
       "dbfsResultPath": null,
       "isJsonSchema": true,
       "metadata": {},
       "overflow": false,
       "plotOptions": {
        "customPlotOptions": {},
        "displayType": "table",
        "pivotAggregation": null,
        "pivotColumns": null,
        "xColumns": null,
        "yColumns": null
       },
       "removedWidgets": [],
       "schema": [
        {
         "metadata": "{}",
         "name": "age_group",
         "type": "\"string\""
        },
        {
         "metadata": "{}",
         "name": "category",
         "type": "\"string\""
        },
        {
         "metadata": "{}",
         "name": "category_count",
         "type": "\"long\""
        }
       ],
       "type": "table"
      }
     },
     "output_type": "display_data"
    }
   ],
   "source": [
    "display(top_category_by_age)"
   ]
  },
  {
   "cell_type": "markdown",
   "metadata": {
    "application/vnd.databricks.v1+cell": {
     "cellMetadata": {
      "byteLimit": 2048000,
      "rowLimit": 10000
     },
     "inputWidgets": {},
     "nuid": "04ea8df1-fd25-4106-aa5c-0018018cb889",
     "showTitle": false,
     "title": ""
    }
   },
   "source": [
    "### M7-T8 Median Follower Count by Age Group\n",
    "What is the median follower count for users in the following age groups:\n",
    "\n",
    "* 18-24\n",
    "* 25-35\n",
    "* 36-50\n",
    "* +50\n",
    "\n",
    "Your query should return a DataFrame that contains the following columns:\n",
    "- `age_group`, a new column based on the original `age` column\n",
    "- `median_follower_count`, a new column containing the desired query output\n"
   ]
  },
  {
   "cell_type": "code",
   "execution_count": 0,
   "metadata": {
    "application/vnd.databricks.v1+cell": {
     "cellMetadata": {
      "byteLimit": 2048000,
      "rowLimit": 10000
     },
     "inputWidgets": {},
     "nuid": "2ba2474b-ae38-454c-957e-6961a739a0d8",
     "showTitle": false,
     "title": ""
    }
   },
   "outputs": [
    {
     "output_type": "display_data",
     "data": {
      "text/html": [
       "<style scoped>\n",
       "  .ansiout {\n",
       "    display: block;\n",
       "    unicode-bidi: embed;\n",
       "    white-space: pre-wrap;\n",
       "    word-wrap: break-word;\n",
       "    word-break: break-all;\n",
       "    font-family: \"Menlo\", \"Monaco\", \"Consolas\", \"Ubuntu Mono\", \"Source Code Pro\", monospace;\n",
       "    font-size: 13px;\n",
       "    color: #555;\n",
       "    margin-left: 4px;\n",
       "    line-height: 19px;\n",
       "  }\n",
       "</style>\n",
       "<div class=\"ansiout\"></div>"
      ]
     },
     "metadata": {
      "application/vnd.databricks.v1+output": {
       "addedWidgets": {},
       "arguments": {},
       "data": "<div class=\"ansiout\"></div>",
       "datasetInfos": [],
       "metadata": {},
       "removedWidgets": [],
       "type": "html"
      }
     },
     "output_type": "display_data"
    }
   ],
   "source": [
    "joined = df_pin.join(df_user, 'ind')\n",
    "followers_by_age = joined.withColumn('age_group', \n",
    "                when(joined.age.between(18, 24), lit('18-24')\n",
    "                     ).otherwise(\n",
    "                        when(joined.age.between(25, 35), lit('25-35')\n",
    "                             ).otherwise(\n",
    "                                when(joined.age.between(36, 50), lit('36-50')).otherwise(lit('50+'))\n",
    "                            )\n",
    "                    )\n",
    ").groupBy('age_group').agg(percentile_approx('follower_count', 0.5).alias('median_follower_count')).orderBy('age_group')"
   ]
  },
  {
   "cell_type": "code",
   "execution_count": 0,
   "metadata": {
    "application/vnd.databricks.v1+cell": {
     "cellMetadata": {
      "byteLimit": 2048000,
      "rowLimit": 10000
     },
     "inputWidgets": {},
     "nuid": "0e61b901-592f-40fd-b300-161159435182",
     "showTitle": false,
     "title": ""
    }
   },
   "outputs": [
    {
     "output_type": "display_data",
     "data": {
      "text/html": [
       "<style scoped>\n",
       "  .table-result-container {\n",
       "    max-height: 300px;\n",
       "    overflow: auto;\n",
       "  }\n",
       "  table, th, td {\n",
       "    border: 1px solid black;\n",
       "    border-collapse: collapse;\n",
       "  }\n",
       "  th, td {\n",
       "    padding: 5px;\n",
       "  }\n",
       "  th {\n",
       "    text-align: left;\n",
       "  }\n",
       "</style><div class='table-result-container'><table class='table-result'><thead style='background-color: white'><tr><th>age_group</th><th>median_follower_count</th></tr></thead><tbody><tr><td>18-24</td><td>188000</td></tr><tr><td>25-35</td><td>22000</td></tr><tr><td>36-50</td><td>9000</td></tr><tr><td>50+</td><td>2000</td></tr></tbody></table></div>"
      ]
     },
     "metadata": {
      "application/vnd.databricks.v1+output": {
       "addedWidgets": {},
       "aggData": [],
       "aggError": "",
       "aggOverflow": false,
       "aggSchema": [],
       "aggSeriesLimitReached": false,
       "aggType": "",
       "arguments": {},
       "columnCustomDisplayInfos": {},
       "data": [
        [
         "18-24",
         188000
        ],
        [
         "25-35",
         22000
        ],
        [
         "36-50",
         9000
        ],
        [
         "50+",
         2000
        ]
       ],
       "datasetInfos": [],
       "dbfsResultPath": null,
       "isJsonSchema": true,
       "metadata": {},
       "overflow": false,
       "plotOptions": {
        "customPlotOptions": {},
        "displayType": "table",
        "pivotAggregation": null,
        "pivotColumns": null,
        "xColumns": null,
        "yColumns": null
       },
       "removedWidgets": [],
       "schema": [
        {
         "metadata": "{}",
         "name": "age_group",
         "type": "\"string\""
        },
        {
         "metadata": "{}",
         "name": "median_follower_count",
         "type": "\"integer\""
        }
       ],
       "type": "table"
      }
     },
     "output_type": "display_data"
    },
    {
     "output_type": "display_data",
     "data": {
      "text/plain": [
       "Databricks visualization. Run in Databricks to view."
      ]
     },
     "metadata": {
      "application/vnd.databricks.v1.subcommand+json": {
       "bindings": {},
       "collapsed": false,
       "command": "%python\n__backend_agg_display_orig = display\n__backend_agg_dfs = []\ndef __backend_agg_display_new(df):\n    __backend_agg_df_modules = [\"pandas.core.frame\", \"databricks.koalas.frame\", \"pyspark.sql.dataframe\", \"pyspark.pandas.frame\", \"pyspark.sql.connect.dataframe\"]\n    if (type(df).__module__ in __backend_agg_df_modules and type(df).__name__ == 'DataFrame') or isinstance(df, list):\n        __backend_agg_dfs.append(df)\n\ndisplay = __backend_agg_display_new\n\ndef __backend_agg_user_code_fn():\n    import base64\n    exec(base64.standard_b64decode(\"ZGlzcGxheShmb2xsb3dlcnNfYnlfYWdlKQ==\").decode())\n\ntry:\n    # run user code\n    __backend_agg_user_code_fn()\n\n    #reset display function\n    display = __backend_agg_display_orig\n\n    if len(__backend_agg_dfs) > 0:\n        # create a temp view\n        if type(__backend_agg_dfs[0]).__module__ == \"databricks.koalas.frame\":\n            # koalas dataframe\n            __backend_agg_dfs[0].to_spark().createOrReplaceTempView(\"DatabricksView3a472d3\")\n        elif type(__backend_agg_dfs[0]).__module__ == \"pandas.core.frame\" or isinstance(__backend_agg_dfs[0], list):\n            # pandas dataframe\n            spark.createDataFrame(__backend_agg_dfs[0]).createOrReplaceTempView(\"DatabricksView3a472d3\")\n        else:\n            __backend_agg_dfs[0].createOrReplaceTempView(\"DatabricksView3a472d3\")\n        #run backend agg\n        display(spark.sql(\"\"\"WITH q AS (select * from DatabricksView3a472d3) SELECT `age_group`,SUM(`median_follower_count`) `column_c614b1774` FROM q GROUP BY `age_group`\"\"\"))\n    else:\n        displayHTML(\"dataframe no longer exists. If you're using dataframe.display(), use display(dataframe) instead.\")\n\n\nfinally:\n    spark.sql(\"drop view if exists DatabricksView3a472d3\")\n    display = __backend_agg_display_orig\n    del __backend_agg_display_new\n    del __backend_agg_display_orig\n    del __backend_agg_dfs\n    del __backend_agg_user_code_fn\n\n",
       "commandTitle": "Visualization 1",
       "commandType": "auto",
       "commandVersion": 0,
       "commentThread": [],
       "commentsVisible": false,
       "contentSha256Hex": null,
       "customPlotOptions": {
        "redashChart": [
         {
          "key": "type",
          "value": "CHART"
         },
         {
          "key": "options",
          "value": {
           "alignYAxesAtZero": true,
           "coefficient": 1,
           "columnConfigurationMap": {
            "x": {
             "column": "age_group",
             "id": "column_c614b1773"
            },
            "y": [
             {
              "column": "median_follower_count",
              "id": "column_c614b1774",
              "transform": "SUM"
             }
            ]
           },
           "dateTimeFormat": "DD/MM/YYYY HH:mm",
           "direction": {
            "type": "counterclockwise"
           },
           "error_y": {
            "type": "data",
            "visible": true
           },
           "globalSeriesType": "pie",
           "isAggregationOn": true,
           "legend": {
            "traceorder": "normal"
           },
           "missingValuesAsZero": true,
           "numberFormat": "0,0.[00000]",
           "percentFormat": "0[.]00%",
           "series": {
            "error_y": {
             "type": "data",
             "visible": true
            },
            "stacking": null
           },
           "seriesOptions": {
            "column_c614b1774": {
             "name": "median_follower_count",
             "type": "pie",
             "yAxis": 0
            }
           },
           "showDataLabels": true,
           "sizemode": "diameter",
           "sortX": true,
           "sortY": true,
           "swappedAxes": false,
           "textFormat": "",
           "useAggregationsUi": true,
           "valuesOptions": {},
           "version": 2,
           "xAxis": {
            "labels": {
             "enabled": true
            },
            "type": "-"
           },
           "yAxis": [
            {
             "type": "-"
            },
            {
             "opposite": true,
             "type": "-"
            }
           ]
          }
         }
        ]
       },
       "datasetPreviewNameToCmdIdMap": {},
       "diffDeletes": [],
       "diffInserts": [],
       "displayType": "redashChart",
       "error": null,
       "errorDetails": null,
       "errorSummary": null,
       "errorTraceType": null,
       "finishTime": 0,
       "globalVars": {},
       "guid": "",
       "height": "auto",
       "hideCommandCode": false,
       "hideCommandResult": false,
       "iPythonMetadata": null,
       "inputWidgets": {},
       "isLockedInExamMode": false,
       "latestUser": "a user",
       "latestUserId": null,
       "listResultMetadata": null,
       "metadata": {
        "byteLimit": 2048000,
        "rowLimit": 10000
       },
       "nuid": "5a087423-dc0c-4ada-b6af-92850d12c246",
       "origId": 0,
       "parentHierarchy": [],
       "pivotAggregation": null,
       "pivotColumns": null,
       "position": 9.499999940395355,
       "resultDbfsErrorMessage": null,
       "resultDbfsStatus": "INLINED_IN_TREE",
       "results": null,
       "showCommandTitle": false,
       "startTime": 0,
       "state": "finished",
       "streamStates": {},
       "subcommandOptions": {
        "queryPlan": {
         "groups": [
          {
           "column": "age_group",
           "type": "column"
          }
         ],
         "selects": [
          {
           "column": "age_group",
           "type": "column"
          },
          {
           "alias": "column_c614b1774",
           "args": [
            {
             "column": "median_follower_count",
             "type": "column"
            }
           ],
           "function": "SUM",
           "type": "function"
          }
         ]
        }
       },
       "submitTime": 0,
       "subtype": "tableResultSubCmd.visualization",
       "tableResultIndex": 0,
       "useConsistentColors": false,
       "version": "CommandV1",
       "width": "auto",
       "workflows": [],
       "xColumns": null,
       "yColumns": null
      }
     },
     "output_type": "display_data"
    },
    {
     "output_type": "display_data",
     "data": {
      "text/plain": [
       "Databricks visualization. Run in Databricks to view."
      ]
     },
     "metadata": {
      "application/vnd.databricks.v1.subcommand+json": {
       "bindings": {},
       "collapsed": false,
       "command": "%python\n__backend_agg_display_orig = display\n__backend_agg_dfs = []\ndef __backend_agg_display_new(df):\n    __backend_agg_df_modules = [\"pandas.core.frame\", \"databricks.koalas.frame\", \"pyspark.sql.dataframe\", \"pyspark.pandas.frame\", \"pyspark.sql.connect.dataframe\"]\n    if (type(df).__module__ in __backend_agg_df_modules and type(df).__name__ == 'DataFrame') or isinstance(df, list):\n        __backend_agg_dfs.append(df)\n\ndisplay = __backend_agg_display_new\n\ndef __backend_agg_user_code_fn():\n    import base64\n    exec(base64.standard_b64decode(\"ZGlzcGxheShmb2xsb3dlcnNfYnlfYWdlKQ==\").decode())\n\ntry:\n    # run user code\n    __backend_agg_user_code_fn()\n\n    #reset display function\n    display = __backend_agg_display_orig\n\n    if len(__backend_agg_dfs) > 0:\n        # create a temp view\n        if type(__backend_agg_dfs[0]).__module__ == \"databricks.koalas.frame\":\n            # koalas dataframe\n            __backend_agg_dfs[0].to_spark().createOrReplaceTempView(\"DatabricksViewcb645d2\")\n        elif type(__backend_agg_dfs[0]).__module__ == \"pandas.core.frame\" or isinstance(__backend_agg_dfs[0], list):\n            # pandas dataframe\n            spark.createDataFrame(__backend_agg_dfs[0]).createOrReplaceTempView(\"DatabricksViewcb645d2\")\n        else:\n            __backend_agg_dfs[0].createOrReplaceTempView(\"DatabricksViewcb645d2\")\n        #run backend agg\n        display(spark.sql(\"\"\"WITH q AS (select * from DatabricksViewcb645d2) SELECT `age_group`,SUM(`median_follower_count`) `column_c614b1776` FROM q GROUP BY `age_group`\"\"\"))\n    else:\n        displayHTML(\"dataframe no longer exists. If you're using dataframe.display(), use display(dataframe) instead.\")\n\n\nfinally:\n    spark.sql(\"drop view if exists DatabricksViewcb645d2\")\n    display = __backend_agg_display_orig\n    del __backend_agg_display_new\n    del __backend_agg_display_orig\n    del __backend_agg_dfs\n    del __backend_agg_user_code_fn\n\n",
       "commandTitle": "Visualization 2",
       "commandType": "auto",
       "commandVersion": 0,
       "commentThread": [],
       "commentsVisible": false,
       "contentSha256Hex": null,
       "customPlotOptions": {
        "redashChart": [
         {
          "key": "type",
          "value": "CHART"
         },
         {
          "key": "options",
          "value": {
           "alignYAxesAtZero": true,
           "coefficient": 1,
           "columnConfigurationMap": {
            "x": {
             "column": "age_group",
             "id": "column_c614b1775"
            },
            "y": [
             {
              "column": "median_follower_count",
              "id": "column_c614b1776",
              "transform": "SUM"
             }
            ]
           },
           "dateTimeFormat": "DD/MM/YYYY HH:mm",
           "direction": {
            "type": "counterclockwise"
           },
           "error_y": {
            "type": "data",
            "visible": true
           },
           "globalSeriesType": "column",
           "legend": {
            "traceorder": "normal"
           },
           "missingValuesAsZero": true,
           "numberFormat": "0,0.[00000]",
           "percentFormat": "0[.]00%",
           "series": {
            "error_y": {
             "type": "data",
             "visible": true
            },
            "stacking": null
           },
           "seriesOptions": {
            "column_c614b1776": {
             "name": "median_follower_count",
             "yAxis": 0
            }
           },
           "showDataLabels": false,
           "sizemode": "diameter",
           "sortX": true,
           "sortY": true,
           "swappedAxes": true,
           "textFormat": "",
           "useAggregationsUi": true,
           "valuesOptions": {},
           "version": 2,
           "xAxis": {
            "labels": {
             "enabled": true
            },
            "type": "-"
           },
           "yAxis": [
            {
             "type": "-"
            },
            {
             "opposite": true,
             "type": "-"
            }
           ]
          }
         }
        ]
       },
       "datasetPreviewNameToCmdIdMap": {},
       "diffDeletes": [],
       "diffInserts": [],
       "displayType": "redashChart",
       "error": null,
       "errorDetails": null,
       "errorSummary": null,
       "errorTraceType": null,
       "finishTime": 0,
       "globalVars": {},
       "guid": "",
       "height": "auto",
       "hideCommandCode": false,
       "hideCommandResult": false,
       "iPythonMetadata": null,
       "inputWidgets": {},
       "isLockedInExamMode": false,
       "latestUser": "a user",
       "latestUserId": null,
       "listResultMetadata": null,
       "metadata": {
        "byteLimit": 2048000,
        "rowLimit": 10000
       },
       "nuid": "4e947d33-3191-43c3-b4d7-30c73a288374",
       "origId": 0,
       "parentHierarchy": [],
       "pivotAggregation": null,
       "pivotColumns": null,
       "position": 10.499999940395355,
       "resultDbfsErrorMessage": null,
       "resultDbfsStatus": "INLINED_IN_TREE",
       "results": null,
       "showCommandTitle": false,
       "startTime": 0,
       "state": "finished",
       "streamStates": {},
       "subcommandOptions": {
        "queryPlan": {
         "groups": [
          {
           "column": "age_group",
           "type": "column"
          }
         ],
         "selects": [
          {
           "column": "age_group",
           "type": "column"
          },
          {
           "alias": "column_c614b1776",
           "args": [
            {
             "column": "median_follower_count",
             "type": "column"
            }
           ],
           "function": "SUM",
           "type": "function"
          }
         ]
        }
       },
       "submitTime": 0,
       "subtype": "tableResultSubCmd.visualization",
       "tableResultIndex": 0,
       "useConsistentColors": false,
       "version": "CommandV1",
       "width": "auto",
       "workflows": [],
       "xColumns": null,
       "yColumns": null
      }
     },
     "output_type": "display_data"
    }
   ],
   "source": [
    "display(followers_by_age)"
   ]
  },
  {
   "cell_type": "markdown",
   "metadata": {
    "application/vnd.databricks.v1+cell": {
     "cellMetadata": {
      "byteLimit": 2048000,
      "rowLimit": 10000
     },
     "inputWidgets": {},
     "nuid": "66f77e3a-ede4-4c7b-8273-7745701554ab",
     "showTitle": false,
     "title": ""
    }
   },
   "source": [
    "### M7-T9 Users Joining Per Year 2015 - 2020\n",
    "Find how many users have joined between 2015 and 2020.\n",
    "\n",
    "Your query should return a DataFrame that contains the following columns:\n",
    "\n",
    "* `post_year`, a new column that contains only the year from the timestamp column\n",
    "* `number_users_joined`, a new column containing the desired query output\n"
   ]
  },
  {
   "cell_type": "code",
   "execution_count": 0,
   "metadata": {
    "application/vnd.databricks.v1+cell": {
     "cellMetadata": {
      "byteLimit": 2048000,
      "rowLimit": 10000
     },
     "inputWidgets": {},
     "nuid": "0389f8de-f380-4929-a393-5d6ee9e4a9b5",
     "showTitle": false,
     "title": ""
    }
   },
   "outputs": [
    {
     "output_type": "display_data",
     "data": {
      "text/html": [
       "<style scoped>\n",
       "  .ansiout {\n",
       "    display: block;\n",
       "    unicode-bidi: embed;\n",
       "    white-space: pre-wrap;\n",
       "    word-wrap: break-word;\n",
       "    word-break: break-all;\n",
       "    font-family: \"Menlo\", \"Monaco\", \"Consolas\", \"Ubuntu Mono\", \"Source Code Pro\", monospace;\n",
       "    font-size: 13px;\n",
       "    color: #555;\n",
       "    margin-left: 4px;\n",
       "    line-height: 19px;\n",
       "  }\n",
       "</style>\n",
       "<div class=\"ansiout\"></div>"
      ]
     },
     "metadata": {
      "application/vnd.databricks.v1+output": {
       "addedWidgets": {},
       "arguments": {},
       "data": "<div class=\"ansiout\"></div>",
       "datasetInfos": [],
       "metadata": {},
       "removedWidgets": [],
       "type": "html"
      }
     },
     "output_type": "display_data"
    }
   ],
   "source": [
    "users_per_year = df_user.withColumn('post_year', year('date_joined'))\\\n",
    "    .groupBy('post_year') \\\n",
    "    .agg(count('user_name').alias('number_users_joined'))\n"
   ]
  },
  {
   "cell_type": "code",
   "execution_count": 0,
   "metadata": {
    "application/vnd.databricks.v1+cell": {
     "cellMetadata": {
      "byteLimit": 2048000,
      "rowLimit": 10000
     },
     "inputWidgets": {},
     "nuid": "8bf36207-56a8-4a55-9d41-5a4a74126c47",
     "showTitle": false,
     "title": ""
    }
   },
   "outputs": [
    {
     "output_type": "display_data",
     "data": {
      "text/html": [
       "<style scoped>\n",
       "  .table-result-container {\n",
       "    max-height: 300px;\n",
       "    overflow: auto;\n",
       "  }\n",
       "  table, th, td {\n",
       "    border: 1px solid black;\n",
       "    border-collapse: collapse;\n",
       "  }\n",
       "  th, td {\n",
       "    padding: 5px;\n",
       "  }\n",
       "  th {\n",
       "    text-align: left;\n",
       "  }\n",
       "</style><div class='table-result-container'><table class='table-result'><thead style='background-color: white'><tr><th>post_year</th><th>number_users_joined</th></tr></thead><tbody><tr><td>2015</td><td>714</td></tr><tr><td>2016</td><td>744</td></tr><tr><td>2017</td><td>266</td></tr></tbody></table></div>"
      ]
     },
     "metadata": {
      "application/vnd.databricks.v1+output": {
       "addedWidgets": {},
       "aggData": [],
       "aggError": "",
       "aggOverflow": false,
       "aggSchema": [],
       "aggSeriesLimitReached": false,
       "aggType": "",
       "arguments": {},
       "columnCustomDisplayInfos": {},
       "data": [
        [
         2015,
         714
        ],
        [
         2016,
         744
        ],
        [
         2017,
         266
        ]
       ],
       "datasetInfos": [],
       "dbfsResultPath": null,
       "isJsonSchema": true,
       "metadata": {},
       "overflow": false,
       "plotOptions": {
        "customPlotOptions": {},
        "displayType": "table",
        "pivotAggregation": null,
        "pivotColumns": null,
        "xColumns": null,
        "yColumns": null
       },
       "removedWidgets": [],
       "schema": [
        {
         "metadata": "{}",
         "name": "post_year",
         "type": "\"integer\""
        },
        {
         "metadata": "{}",
         "name": "number_users_joined",
         "type": "\"long\""
        }
       ],
       "type": "table"
      }
     },
     "output_type": "display_data"
    },
    {
     "output_type": "display_data",
     "data": {
      "text/plain": [
       "Databricks visualization. Run in Databricks to view."
      ]
     },
     "metadata": {
      "application/vnd.databricks.v1.subcommand+json": {
       "bindings": {},
       "collapsed": false,
       "command": "%python\n__backend_agg_display_orig = display\n__backend_agg_dfs = []\ndef __backend_agg_display_new(df):\n    __backend_agg_df_modules = [\"pandas.core.frame\", \"databricks.koalas.frame\", \"pyspark.sql.dataframe\", \"pyspark.pandas.frame\", \"pyspark.sql.connect.dataframe\"]\n    if (type(df).__module__ in __backend_agg_df_modules and type(df).__name__ == 'DataFrame') or isinstance(df, list):\n        __backend_agg_dfs.append(df)\n\ndisplay = __backend_agg_display_new\n\ndef __backend_agg_user_code_fn():\n    import base64\n    exec(base64.standard_b64decode(\"ZGlzcGxheSh1c2Vyc19wZXJfeWVhcik=\").decode())\n\ntry:\n    # run user code\n    __backend_agg_user_code_fn()\n\n    #reset display function\n    display = __backend_agg_display_orig\n\n    if len(__backend_agg_dfs) > 0:\n        # create a temp view\n        if type(__backend_agg_dfs[0]).__module__ == \"databricks.koalas.frame\":\n            # koalas dataframe\n            __backend_agg_dfs[0].to_spark().createOrReplaceTempView(\"DatabricksViewfe06efe\")\n        elif type(__backend_agg_dfs[0]).__module__ == \"pandas.core.frame\" or isinstance(__backend_agg_dfs[0], list):\n            # pandas dataframe\n            spark.createDataFrame(__backend_agg_dfs[0]).createOrReplaceTempView(\"DatabricksViewfe06efe\")\n        else:\n            __backend_agg_dfs[0].createOrReplaceTempView(\"DatabricksViewfe06efe\")\n        #run backend agg\n        display(spark.sql(\"\"\"WITH q AS (select * from DatabricksViewfe06efe) SELECT `post_year`,SUM(`number_users_joined`) `column_c614b1778` FROM q GROUP BY `post_year`\"\"\"))\n    else:\n        displayHTML(\"dataframe no longer exists. If you're using dataframe.display(), use display(dataframe) instead.\")\n\n\nfinally:\n    spark.sql(\"drop view if exists DatabricksViewfe06efe\")\n    display = __backend_agg_display_orig\n    del __backend_agg_display_new\n    del __backend_agg_display_orig\n    del __backend_agg_dfs\n    del __backend_agg_user_code_fn\n\n",
       "commandTitle": "Visualization 1",
       "commandType": "auto",
       "commandVersion": 0,
       "commentThread": [],
       "commentsVisible": false,
       "contentSha256Hex": null,
       "customPlotOptions": {
        "redashChart": [
         {
          "key": "type",
          "value": "CHART"
         },
         {
          "key": "options",
          "value": {
           "alignYAxesAtZero": true,
           "coefficient": 1,
           "columnConfigurationMap": {
            "x": {
             "column": "post_year",
             "id": "column_c614b1779"
            },
            "y": [
             {
              "column": "number_users_joined",
              "id": "column_c614b1778",
              "transform": "SUM"
             }
            ]
           },
           "dateTimeFormat": "DD/MM/YYYY HH:mm",
           "direction": {
            "type": "counterclockwise"
           },
           "error_y": {
            "type": "data",
            "visible": true
           },
           "globalSeriesType": "column",
           "isAggregationOn": true,
           "legend": {
            "traceorder": "normal"
           },
           "missingValuesAsZero": true,
           "numberFormat": "0,0.[00000]",
           "percentFormat": "0[.]00%",
           "series": {
            "error_y": {
             "type": "data",
             "visible": true
            },
            "stacking": null
           },
           "seriesOptions": {
            "column_c614b1778": {
             "name": "number_users_joined",
             "type": "column",
             "yAxis": 0
            }
           },
           "showDataLabels": false,
           "sizemode": "diameter",
           "sortX": true,
           "sortY": true,
           "swappedAxes": false,
           "textFormat": "",
           "useAggregationsUi": true,
           "valuesOptions": {},
           "version": 2,
           "xAxis": {
            "labels": {
             "enabled": true
            },
            "type": "category"
           },
           "yAxis": [
            {
             "type": "-"
            },
            {
             "opposite": true,
             "type": "-"
            }
           ]
          }
         }
        ]
       },
       "datasetPreviewNameToCmdIdMap": {},
       "diffDeletes": [],
       "diffInserts": [],
       "displayType": "redashChart",
       "error": null,
       "errorDetails": null,
       "errorSummary": null,
       "errorTraceType": null,
       "finishTime": 0,
       "globalVars": {},
       "guid": "",
       "height": "auto",
       "hideCommandCode": false,
       "hideCommandResult": false,
       "iPythonMetadata": null,
       "inputWidgets": {},
       "isLockedInExamMode": false,
       "latestUser": "a user",
       "latestUserId": null,
       "listResultMetadata": null,
       "metadata": {
        "byteLimit": 2048000,
        "rowLimit": 10000
       },
       "nuid": "01236d0b-57f6-439b-bdd8-8a88ab5780c6",
       "origId": 0,
       "parentHierarchy": [],
       "pivotAggregation": null,
       "pivotColumns": null,
       "position": 9.499999985098839,
       "resultDbfsErrorMessage": null,
       "resultDbfsStatus": "INLINED_IN_TREE",
       "results": null,
       "showCommandTitle": false,
       "startTime": 0,
       "state": "finished",
       "streamStates": {},
       "subcommandOptions": {
        "queryPlan": {
         "groups": [
          {
           "column": "post_year",
           "type": "column"
          }
         ],
         "selects": [
          {
           "column": "post_year",
           "type": "column"
          },
          {
           "alias": "column_c614b1778",
           "args": [
            {
             "column": "number_users_joined",
             "type": "column"
            }
           ],
           "function": "SUM",
           "type": "function"
          }
         ]
        }
       },
       "submitTime": 0,
       "subtype": "tableResultSubCmd.visualization",
       "tableResultIndex": 0,
       "useConsistentColors": false,
       "version": "CommandV1",
       "width": "auto",
       "workflows": [],
       "xColumns": null,
       "yColumns": null
      }
     },
     "output_type": "display_data"
    }
   ],
   "source": [
    "display(users_per_year)"
   ]
  },
  {
   "cell_type": "markdown",
   "metadata": {
    "application/vnd.databricks.v1+cell": {
     "cellMetadata": {
      "byteLimit": 2048000,
      "rowLimit": 10000
     },
     "inputWidgets": {},
     "nuid": "b15c48d7-348d-4a82-a063-d0aa01e3f604",
     "showTitle": false,
     "title": ""
    }
   },
   "source": [
    "### M7-T10 Median Follower Count of Users based On Joining Year\n",
    "Find the median follower count of users have joined between 2015 and 2020.\n",
    "Your query should return a DataFrame that contains the following columns:\n",
    "- `post_year`, a new column that contains only the year from the timestamp column\n",
    "- `median_follower_count`, a new column containing the desired query output\n"
   ]
  },
  {
   "cell_type": "code",
   "execution_count": 0,
   "metadata": {
    "application/vnd.databricks.v1+cell": {
     "cellMetadata": {
      "byteLimit": 2048000,
      "rowLimit": 10000
     },
     "inputWidgets": {},
     "nuid": "0b764dc4-ba14-4894-a6aa-ab1fbc5ea6a8",
     "showTitle": false,
     "title": ""
    }
   },
   "outputs": [
    {
     "output_type": "display_data",
     "data": {
      "text/html": [
       "<style scoped>\n",
       "  .ansiout {\n",
       "    display: block;\n",
       "    unicode-bidi: embed;\n",
       "    white-space: pre-wrap;\n",
       "    word-wrap: break-word;\n",
       "    word-break: break-all;\n",
       "    font-family: \"Menlo\", \"Monaco\", \"Consolas\", \"Ubuntu Mono\", \"Source Code Pro\", monospace;\n",
       "    font-size: 13px;\n",
       "    color: #555;\n",
       "    margin-left: 4px;\n",
       "    line-height: 19px;\n",
       "  }\n",
       "</style>\n",
       "<div class=\"ansiout\"></div>"
      ]
     },
     "metadata": {
      "application/vnd.databricks.v1+output": {
       "addedWidgets": {},
       "arguments": {},
       "data": "<div class=\"ansiout\"></div>",
       "datasetInfos": [],
       "metadata": {},
       "removedWidgets": [],
       "type": "html"
      }
     },
     "output_type": "display_data"
    }
   ],
   "source": [
    "joined = df_pin.join(df_user, 'ind')\\\n",
    "    .withColumn('post_year', year('date_joined'))\\\n",
    "    .groupBy('post_year')\\\n",
    "    .agg(percentile_approx('follower_count', 0.5).alias('median_follower_count'))\n",
    "    \n",
    "filtered = joined.filter(\n",
    "    joined.post_year.between(lit('2015'), lit('2020'))\n",
    ")"
   ]
  },
  {
   "cell_type": "code",
   "execution_count": 0,
   "metadata": {
    "application/vnd.databricks.v1+cell": {
     "cellMetadata": {
      "byteLimit": 2048000,
      "rowLimit": 10000
     },
     "inputWidgets": {},
     "nuid": "2db533a0-1396-423e-900e-e73ff5b6bdc9",
     "showTitle": false,
     "title": ""
    }
   },
   "outputs": [
    {
     "output_type": "display_data",
     "data": {
      "text/html": [
       "<style scoped>\n",
       "  .table-result-container {\n",
       "    max-height: 300px;\n",
       "    overflow: auto;\n",
       "  }\n",
       "  table, th, td {\n",
       "    border: 1px solid black;\n",
       "    border-collapse: collapse;\n",
       "  }\n",
       "  th, td {\n",
       "    padding: 5px;\n",
       "  }\n",
       "  th {\n",
       "    text-align: left;\n",
       "  }\n",
       "</style><div class='table-result-container'><table class='table-result'><thead style='background-color: white'><tr><th>post_year</th><th>median_follower_count</th></tr></thead><tbody><tr><td>2015</td><td>166000</td></tr><tr><td>2016</td><td>17000</td></tr><tr><td>2017</td><td>4000</td></tr></tbody></table></div>"
      ]
     },
     "metadata": {
      "application/vnd.databricks.v1+output": {
       "addedWidgets": {},
       "aggData": [],
       "aggError": "",
       "aggOverflow": false,
       "aggSchema": [],
       "aggSeriesLimitReached": false,
       "aggType": "",
       "arguments": {},
       "columnCustomDisplayInfos": {},
       "data": [
        [
         2015,
         166000
        ],
        [
         2016,
         17000
        ],
        [
         2017,
         4000
        ]
       ],
       "datasetInfos": [],
       "dbfsResultPath": null,
       "isJsonSchema": true,
       "metadata": {},
       "overflow": false,
       "plotOptions": {
        "customPlotOptions": {},
        "displayType": "table",
        "pivotAggregation": null,
        "pivotColumns": null,
        "xColumns": null,
        "yColumns": null
       },
       "removedWidgets": [],
       "schema": [
        {
         "metadata": "{}",
         "name": "post_year",
         "type": "\"integer\""
        },
        {
         "metadata": "{}",
         "name": "median_follower_count",
         "type": "\"integer\""
        }
       ],
       "type": "table"
      }
     },
     "output_type": "display_data"
    },
    {
     "output_type": "display_data",
     "data": {
      "text/plain": [
       "Databricks visualization. Run in Databricks to view."
      ]
     },
     "metadata": {
      "application/vnd.databricks.v1.subcommand+json": {
       "bindings": {},
       "collapsed": false,
       "command": "%python\n__backend_agg_display_orig = display\n__backend_agg_dfs = []\ndef __backend_agg_display_new(df):\n    __backend_agg_df_modules = [\"pandas.core.frame\", \"databricks.koalas.frame\", \"pyspark.sql.dataframe\", \"pyspark.pandas.frame\", \"pyspark.sql.connect.dataframe\"]\n    if (type(df).__module__ in __backend_agg_df_modules and type(df).__name__ == 'DataFrame') or isinstance(df, list):\n        __backend_agg_dfs.append(df)\n\ndisplay = __backend_agg_display_new\n\ndef __backend_agg_user_code_fn():\n    import base64\n    exec(base64.standard_b64decode(\"ZGlzcGxheShmaWx0ZXJlZCk=\").decode())\n\ntry:\n    # run user code\n    __backend_agg_user_code_fn()\n\n    #reset display function\n    display = __backend_agg_display_orig\n\n    if len(__backend_agg_dfs) > 0:\n        # create a temp view\n        if type(__backend_agg_dfs[0]).__module__ == \"databricks.koalas.frame\":\n            # koalas dataframe\n            __backend_agg_dfs[0].to_spark().createOrReplaceTempView(\"DatabricksView1f5c278\")\n        elif type(__backend_agg_dfs[0]).__module__ == \"pandas.core.frame\" or isinstance(__backend_agg_dfs[0], list):\n            # pandas dataframe\n            spark.createDataFrame(__backend_agg_dfs[0]).createOrReplaceTempView(\"DatabricksView1f5c278\")\n        else:\n            __backend_agg_dfs[0].createOrReplaceTempView(\"DatabricksView1f5c278\")\n        #run backend agg\n        display(spark.sql(\"\"\"WITH q AS (select * from DatabricksView1f5c278) SELECT `post_year`,SUM(`median_follower_count`) `column_63a4b2032` FROM q GROUP BY `post_year`\"\"\"))\n    else:\n        displayHTML(\"dataframe no longer exists. If you're using dataframe.display(), use display(dataframe) instead.\")\n\n\nfinally:\n    spark.sql(\"drop view if exists DatabricksView1f5c278\")\n    display = __backend_agg_display_orig\n    del __backend_agg_display_new\n    del __backend_agg_display_orig\n    del __backend_agg_dfs\n    del __backend_agg_user_code_fn\n\n",
       "commandTitle": "Visualization 1",
       "commandType": "auto",
       "commandVersion": 0,
       "commentThread": [],
       "commentsVisible": false,
       "contentSha256Hex": null,
       "customPlotOptions": {
        "redashChart": [
         {
          "key": "type",
          "value": "CHART"
         },
         {
          "key": "options",
          "value": {
           "alignYAxesAtZero": true,
           "coefficient": 1,
           "columnConfigurationMap": {
            "x": {
             "column": "post_year",
             "id": "column_63a4b2031"
            },
            "y": [
             {
              "column": "median_follower_count",
              "id": "column_63a4b2032",
              "transform": "SUM"
             }
            ]
           },
           "dateTimeFormat": "DD/MM/YYYY HH:mm",
           "direction": {
            "type": "counterclockwise"
           },
           "error_y": {
            "type": "data",
            "visible": true
           },
           "globalSeriesType": "column",
           "isAggregationOn": true,
           "legend": {
            "traceorder": "normal"
           },
           "missingValuesAsZero": true,
           "numberFormat": "0,0.[00000]",
           "percentFormat": "0[.]00%",
           "series": {
            "error_y": {
             "type": "data",
             "visible": true
            },
            "stacking": null
           },
           "seriesOptions": {
            "column_63a4b2032": {
             "name": "median_follower_count",
             "type": "column",
             "yAxis": 0
            }
           },
           "showDataLabels": false,
           "sizemode": "diameter",
           "sortX": true,
           "sortY": true,
           "swappedAxes": true,
           "textFormat": "",
           "useAggregationsUi": true,
           "valuesOptions": {},
           "version": 2,
           "xAxis": {
            "labels": {
             "enabled": true
            },
            "type": "-"
           },
           "yAxis": [
            {
             "type": "-"
            },
            {
             "opposite": true,
             "type": "-"
            }
           ]
          }
         }
        ]
       },
       "datasetPreviewNameToCmdIdMap": {},
       "diffDeletes": [],
       "diffInserts": [],
       "displayType": "redashChart",
       "error": null,
       "errorDetails": null,
       "errorSummary": null,
       "errorTraceType": null,
       "finishTime": 0,
       "globalVars": {},
       "guid": "",
       "height": "auto",
       "hideCommandCode": false,
       "hideCommandResult": false,
       "iPythonMetadata": null,
       "inputWidgets": {},
       "isLockedInExamMode": false,
       "latestUser": "a user",
       "latestUserId": null,
       "listResultMetadata": null,
       "metadata": {
        "byteLimit": 2048000,
        "rowLimit": 10000
       },
       "nuid": "0bac36a0-f12c-4aa1-ac7e-9cbe60e3f7dd",
       "origId": 0,
       "parentHierarchy": [],
       "pivotAggregation": null,
       "pivotColumns": null,
       "position": 9.499999998137355,
       "resultDbfsErrorMessage": null,
       "resultDbfsStatus": "INLINED_IN_TREE",
       "results": null,
       "showCommandTitle": false,
       "startTime": 0,
       "state": "finished",
       "streamStates": {},
       "subcommandOptions": {
        "queryPlan": {
         "groups": [
          {
           "column": "post_year",
           "type": "column"
          }
         ],
         "selects": [
          {
           "column": "post_year",
           "type": "column"
          },
          {
           "alias": "column_63a4b2032",
           "args": [
            {
             "column": "median_follower_count",
             "type": "column"
            }
           ],
           "function": "SUM",
           "type": "function"
          }
         ]
        }
       },
       "submitTime": 0,
       "subtype": "tableResultSubCmd.visualization",
       "tableResultIndex": 0,
       "useConsistentColors": false,
       "version": "CommandV1",
       "width": "auto",
       "workflows": [],
       "xColumns": null,
       "yColumns": null
      }
     },
     "output_type": "display_data"
    }
   ],
   "source": [
    "display(filtered)"
   ]
  },
  {
   "cell_type": "markdown",
   "metadata": {
    "application/vnd.databricks.v1+cell": {
     "cellMetadata": {
      "byteLimit": 2048000,
      "rowLimit": 10000
     },
     "inputWidgets": {},
     "nuid": "5800138d-1816-4072-ac55-2d3f75bd93d0",
     "showTitle": false,
     "title": ""
    }
   },
   "source": [
    "### M7-T11 The median follower count of users based on their joining year and age group\n",
    "Find the median follower count of users that have joined between 2015 and 2020, based on which age group they are part of.\\\n",
    "Your query should return a DataFrame that contains the following columns:\n",
    "\n",
    "- `age_group`, a new column based on the original `age` column\n",
    "    * 18-24\n",
    "    * 25-35\n",
    "    * 36-50\n",
    "    * +50\n",
    "- `post_year`, a new column that contains only the year from the timestamp column\n",
    "- `median_follower_count`, a new column containing the desired query output\n"
   ]
  },
  {
   "cell_type": "code",
   "execution_count": 0,
   "metadata": {
    "application/vnd.databricks.v1+cell": {
     "cellMetadata": {
      "byteLimit": 2048000,
      "rowLimit": 10000
     },
     "inputWidgets": {},
     "nuid": "13bc4fdc-b80b-4fd4-ae42-3e87d8c5d398",
     "showTitle": false,
     "title": ""
    }
   },
   "outputs": [
    {
     "output_type": "display_data",
     "data": {
      "text/html": [
       "<style scoped>\n",
       "  .ansiout {\n",
       "    display: block;\n",
       "    unicode-bidi: embed;\n",
       "    white-space: pre-wrap;\n",
       "    word-wrap: break-word;\n",
       "    word-break: break-all;\n",
       "    font-family: \"Menlo\", \"Monaco\", \"Consolas\", \"Ubuntu Mono\", \"Source Code Pro\", monospace;\n",
       "    font-size: 13px;\n",
       "    color: #555;\n",
       "    margin-left: 4px;\n",
       "    line-height: 19px;\n",
       "  }\n",
       "</style>\n",
       "<div class=\"ansiout\"></div>"
      ]
     },
     "metadata": {
      "application/vnd.databricks.v1+output": {
       "addedWidgets": {},
       "arguments": {},
       "data": "<div class=\"ansiout\"></div>",
       "datasetInfos": [],
       "metadata": {},
       "removedWidgets": [],
       "type": "html"
      }
     },
     "output_type": "display_data"
    }
   ],
   "source": [
    "joined = df_pin.join(df_user, 'ind').withColumn('post_year', year('date_joined'))\n",
    "followers_by_age_by_joined_year = joined.withColumn('age_group', \n",
    "                when(joined.age.between(18, 24), lit('18-24')\n",
    "                     ).otherwise(\n",
    "                        when(joined.age.between(25, 35), lit('25-35')\n",
    "                             ).otherwise(\n",
    "                                when(joined.age.between(36, 50), lit('36-50')).otherwise(lit('50+'))\n",
    "                            )\n",
    "                    )\n",
    ").groupBy('age_group', 'post_year')\\\n",
    "  .agg(percentile_approx('follower_count', 0.5).alias('median_follower_count'))\\\n",
    "    .orderBy('age_group')"
   ]
  },
  {
   "cell_type": "code",
   "execution_count": 0,
   "metadata": {
    "application/vnd.databricks.v1+cell": {
     "cellMetadata": {
      "byteLimit": 2048000,
      "rowLimit": 10000
     },
     "inputWidgets": {},
     "nuid": "16301e45-ca47-4c50-807a-5261a3cf6e4f",
     "showTitle": false,
     "title": ""
    }
   },
   "outputs": [
    {
     "output_type": "display_data",
     "data": {
      "text/html": [
       "<style scoped>\n",
       "  .table-result-container {\n",
       "    max-height: 300px;\n",
       "    overflow: auto;\n",
       "  }\n",
       "  table, th, td {\n",
       "    border: 1px solid black;\n",
       "    border-collapse: collapse;\n",
       "  }\n",
       "  th, td {\n",
       "    padding: 5px;\n",
       "  }\n",
       "  th {\n",
       "    text-align: left;\n",
       "  }\n",
       "</style><div class='table-result-container'><table class='table-result'><thead style='background-color: white'><tr><th>age_group</th><th>post_year</th><th>median_follower_count</th></tr></thead><tbody><tr><td>18-24</td><td>2015</td><td>401000</td></tr><tr><td>18-24</td><td>2016</td><td>56000</td></tr><tr><td>18-24</td><td>2017</td><td>2000</td></tr><tr><td>25-35</td><td>2017</td><td>5000</td></tr><tr><td>25-35</td><td>2015</td><td>33000</td></tr><tr><td>25-35</td><td>2016</td><td>22000</td></tr><tr><td>36-50</td><td>2015</td><td>27000</td></tr><tr><td>36-50</td><td>2017</td><td>5000</td></tr><tr><td>36-50</td><td>2016</td><td>8000</td></tr><tr><td>50+</td><td>2017</td><td>3000</td></tr><tr><td>50+</td><td>2015</td><td>5000</td></tr><tr><td>50+</td><td>2016</td><td>1000</td></tr></tbody></table></div>"
      ]
     },
     "metadata": {
      "application/vnd.databricks.v1+output": {
       "addedWidgets": {},
       "aggData": [],
       "aggError": "",
       "aggOverflow": false,
       "aggSchema": [],
       "aggSeriesLimitReached": false,
       "aggType": "",
       "arguments": {},
       "columnCustomDisplayInfos": {},
       "data": [
        [
         "18-24",
         2015,
         401000
        ],
        [
         "18-24",
         2016,
         56000
        ],
        [
         "18-24",
         2017,
         2000
        ],
        [
         "25-35",
         2017,
         5000
        ],
        [
         "25-35",
         2015,
         33000
        ],
        [
         "25-35",
         2016,
         22000
        ],
        [
         "36-50",
         2015,
         27000
        ],
        [
         "36-50",
         2017,
         5000
        ],
        [
         "36-50",
         2016,
         8000
        ],
        [
         "50+",
         2017,
         3000
        ],
        [
         "50+",
         2015,
         5000
        ],
        [
         "50+",
         2016,
         1000
        ]
       ],
       "datasetInfos": [],
       "dbfsResultPath": null,
       "isJsonSchema": true,
       "metadata": {},
       "overflow": false,
       "plotOptions": {
        "customPlotOptions": {},
        "displayType": "table",
        "pivotAggregation": null,
        "pivotColumns": null,
        "xColumns": null,
        "yColumns": null
       },
       "removedWidgets": [],
       "schema": [
        {
         "metadata": "{}",
         "name": "age_group",
         "type": "\"string\""
        },
        {
         "metadata": "{}",
         "name": "post_year",
         "type": "\"integer\""
        },
        {
         "metadata": "{}",
         "name": "median_follower_count",
         "type": "\"integer\""
        }
       ],
       "type": "table"
      }
     },
     "output_type": "display_data"
    }
   ],
   "source": [
    "display(followers_by_age_by_joined_year)"
   ]
  },
  {
   "cell_type": "markdown",
   "metadata": {
    "application/vnd.databricks.v1+cell": {
     "cellMetadata": {
      "byteLimit": 2048000,
      "rowLimit": 10000
     },
     "inputWidgets": {},
     "nuid": "defc9a78-e923-4926-8401-91194fe63dec",
     "showTitle": false,
     "title": ""
    }
   },
   "source": [
    "## Unmount S3 Bucket"
   ]
  },
  {
   "cell_type": "code",
   "execution_count": 0,
   "metadata": {
    "application/vnd.databricks.v1+cell": {
     "cellMetadata": {
      "byteLimit": 2048000,
      "rowLimit": 10000
     },
     "inputWidgets": {},
     "nuid": "c1460a27-12f0-47af-8d86-55a69bb34b83",
     "showTitle": false,
     "title": ""
    }
   },
   "outputs": [
    {
     "output_type": "display_data",
     "data": {
      "text/html": [
       "<style scoped>\n",
       "  .ansiout {\n",
       "    display: block;\n",
       "    unicode-bidi: embed;\n",
       "    white-space: pre-wrap;\n",
       "    word-wrap: break-word;\n",
       "    word-break: break-all;\n",
       "    font-family: \"Menlo\", \"Monaco\", \"Consolas\", \"Ubuntu Mono\", \"Source Code Pro\", monospace;\n",
       "    font-size: 13px;\n",
       "    color: #555;\n",
       "    margin-left: 4px;\n",
       "    line-height: 19px;\n",
       "  }\n",
       "</style>\n",
       "<div class=\"ansiout\">/mnt/pin_pipe has been unmounted.\n",
       "Out[87]: True</div>"
      ]
     },
     "metadata": {
      "application/vnd.databricks.v1+output": {
       "addedWidgets": {},
       "arguments": {},
       "data": "<div class=\"ansiout\">/mnt/pin_pipe has been unmounted.\nOut[87]: True</div>",
       "datasetInfos": [],
       "metadata": {},
       "removedWidgets": [],
       "type": "html"
      }
     },
     "output_type": "display_data"
    }
   ],
   "source": [
    "dbutils.fs.unmount(\"/mnt/pin_pipe\")\n",
    "# dbutils.fs.unmount(\"/mnt\")"
   ]
  },
  {
   "cell_type": "code",
   "execution_count": 0,
   "metadata": {
    "application/vnd.databricks.v1+cell": {
     "cellMetadata": {
      "byteLimit": 2048000,
      "rowLimit": 10000
     },
     "inputWidgets": {},
     "nuid": "2bffb61d-f91a-424a-bab1-551bca24296f",
     "showTitle": false,
     "title": ""
    }
   },
   "outputs": [],
   "source": []
  }
 ],
 "metadata": {
  "application/vnd.databricks.v1+notebook": {
   "dashboards": [
    {
     "elements": [
      {
       "dashboardResultIndex": 0,
       "elementNUID": "b0da4485-39e0-46b0-83e5-e2aca65d9aed",
       "elementType": "command",
       "guid": "2ec950d4-edd2-4550-9760-a79e76073bc6",
       "options": {
        "autoScaleImg": false,
        "scale": 0,
        "showRunButton": true,
        "showTitle": true,
        "title": "Number of Posts per Category from 2018 to 2022",
        "titleAlign": "center"
       },
       "position": {
        "height": 8,
        "width": 19,
        "x": 0,
        "y": 9,
        "z": null
       },
       "resultIndex": null
      },
      {
       "dashboardResultIndex": null,
       "elementNUID": "01236d0b-57f6-439b-bdd8-8a88ab5780c6",
       "elementType": "command",
       "guid": "8913e525-91dd-4d22-a1d1-5fa9d7cc2a1f",
       "options": null,
       "position": {
        "height": 7,
        "width": 12,
        "x": 12,
        "y": 32,
        "z": null
       },
       "resultIndex": null
      },
      {
       "dashboardResultIndex": 0,
       "elementNUID": "7b1e9d09-1bb8-4f1b-9e25-aab35fadc461",
       "elementType": "command",
       "guid": "8b4eae88-bb11-4055-ae66-027e5d845d5e",
       "options": {
        "autoScaleImg": false,
        "scale": 0,
        "showRunButton": true,
        "showTitle": true,
        "title": "Countrywise Top Users by Number of Followers",
        "titleAlign": "center"
       },
       "position": {
        "height": 6,
        "width": 19,
        "x": 0,
        "y": 17,
        "z": null
       },
       "resultIndex": null
      },
      {
       "dashboardResultIndex": 0,
       "elementNUID": "20e6aeec-d9f9-436a-8d32-355c4299a99d",
       "elementType": "command",
       "guid": "8cd890ee-7411-40fd-a74f-1f9e0231fd42",
       "options": {
        "autoScaleImg": false,
        "scale": 0,
        "showRunButton": true,
        "showTitle": true,
        "title": "Top Categories for Pins By Country",
        "titleAlign": "center"
       },
       "position": {
        "height": 9,
        "width": 19,
        "x": 0,
        "y": 0,
        "z": null
       },
       "resultIndex": null
      },
      {
       "dashboardResultIndex": 0,
       "elementNUID": "2db533a0-1396-423e-900e-e73ff5b6bdc9",
       "elementType": "command",
       "guid": "a0bcaa48-0271-4664-a440-4bfcc0e39100",
       "options": {
        "autoScaleImg": false,
        "scale": 0,
        "showRunButton": true,
        "showTitle": true,
        "title": "Median Follower Count Users Joined By Year",
        "titleAlign": "center"
       },
       "position": {
        "height": 4,
        "width": 17,
        "x": 0,
        "y": 39,
        "z": null
       },
       "resultIndex": null
      },
      {
       "dashboardResultIndex": 0,
       "elementNUID": "67fe23ce-2c78-40b7-8757-9f75054f4e35",
       "elementType": "command",
       "guid": "a533c127-0e04-4ab0-b14d-fa6c282adad3",
       "options": {
        "autoScaleImg": false,
        "scale": 0,
        "showRunButton": true,
        "showTitle": true,
        "title": "User's Country with Highest Number of Followers",
        "titleAlign": "center"
       },
       "position": {
        "height": 3,
        "width": 15,
        "x": 0,
        "y": 23,
        "z": null
       },
       "resultIndex": null
      },
      {
       "dashboardResultIndex": null,
       "elementNUID": "4e947d33-3191-43c3-b4d7-30c73a288374",
       "elementType": "command",
       "guid": "c820718a-1a43-43c0-b8c4-b3711c21ef39",
       "options": {
        "autoScaleImg": false,
        "scale": 0,
        "showRunButton": true,
        "showTitle": true,
        "title": "Median Follower Count by Age Group",
        "titleAlign": "center"
       },
       "position": {
        "height": 7,
        "width": 12,
        "x": 0,
        "y": 32,
        "z": null
       },
       "resultIndex": null
      },
      {
       "dashboardResultIndex": 0,
       "elementNUID": "9b31fc3d-8125-46bf-96f4-5bd802169d7e",
       "elementType": "command",
       "guid": "d6cc12b1-b351-4bc1-80df-6e943181d245",
       "options": {
        "autoScaleImg": false,
        "scale": 0,
        "showRunButton": true,
        "showTitle": true,
        "title": "Top Categories by Age Demographics",
        "titleAlign": "center"
       },
       "position": {
        "height": 6,
        "width": 12,
        "x": 0,
        "y": 26,
        "z": null
       },
       "resultIndex": null
      },
      {
       "dashboardResultIndex": null,
       "elementNUID": "0bac36a0-f12c-4aa1-ac7e-9cbe60e3f7dd",
       "elementType": "command",
       "guid": "e2cef968-b2ad-47d2-8fa3-52e74dcdf19d",
       "options": {
        "autoScaleImg": false,
        "scale": 0,
        "showRunButton": true,
        "showTitle": true,
        "title": "Median Followers by Year",
        "titleAlign": "center"
       },
       "position": {
        "height": 6,
        "width": 11,
        "x": 12,
        "y": 26,
        "z": null
       },
       "resultIndex": null
      }
     ],
     "globalVars": {},
     "guid": "",
     "layoutOption": {
      "grid": true,
      "stack": true
     },
     "nuid": "6469ba24-30ed-4b86-a15c-3db82a819ed3",
     "origId": 1745578344368207,
     "title": "Insights into Pins",
     "version": "DashboardViewV1",
     "width": 1024
    }
   ],
   "language": "python",
   "notebookMetadata": {
    "pythonIndentUnit": 4
   },
   "notebookName": "0a1d8948160f_PinterestDataPipeline_BatchProcessing",
   "widgets": {}
  }
 },
 "nbformat": 4,
 "nbformat_minor": 0
}
