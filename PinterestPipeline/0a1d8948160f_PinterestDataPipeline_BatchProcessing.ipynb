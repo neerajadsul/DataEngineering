{
 "cells": [
  {
   "cell_type": "code",
   "execution_count": 0,
   "metadata": {
    "application/vnd.databricks.v1+cell": {
     "cellMetadata": {
      "byteLimit": 2048000,
      "rowLimit": 10000
     },
     "inputWidgets": {},
     "nuid": "d4660950-e295-4637-9176-4490759c3409",
     "showTitle": false,
     "title": ""
    }
   },
   "outputs": [],
   "source": [
    "# pyspark functions\n",
    "from pyspark.sql.functions import *\n",
    "from pyspark.sql.types import IntegerType\n",
    "import pyspark\n",
    "# URL processing\n",
    "import urllib"
   ]
  },
  {
   "cell_type": "code",
   "execution_count": 0,
   "metadata": {
    "application/vnd.databricks.v1+cell": {
     "cellMetadata": {
      "byteLimit": 2048000,
      "rowLimit": 10000
     },
     "inputWidgets": {},
     "nuid": "56dce305-dedb-4c41-b17c-838b7f7427dd",
     "showTitle": false,
     "title": ""
    }
   },
   "outputs": [],
   "source": [
    "%run \"/Users/neeraj.adsul@gmail.com/utils/aws_connector\""
   ]
  },
  {
   "cell_type": "code",
   "execution_count": 0,
   "metadata": {
    "application/vnd.databricks.v1+cell": {
     "cellMetadata": {
      "byteLimit": 2048000,
      "rowLimit": 10000
     },
     "inputWidgets": {},
     "nuid": "d7821d58-d03d-406c-9a32-52274067c1b1",
     "showTitle": false,
     "title": ""
    }
   },
   "outputs": [],
   "source": [
    "%run \"/Users/neeraj.adsul@gmail.com/utils/pinterest_data_cleaning\""
   ]
  },
  {
   "cell_type": "markdown",
   "metadata": {
    "application/vnd.databricks.v1+cell": {
     "cellMetadata": {
      "byteLimit": 2048000,
      "rowLimit": 10000
     },
     "inputWidgets": {},
     "nuid": "8eac560b-c873-4db0-9767-729c89ea0631",
     "showTitle": false,
     "title": ""
    }
   },
   "source": [
    "## Connect and Mount S3 Bucket to Databricks File System"
   ]
  },
  {
   "cell_type": "code",
   "execution_count": 0,
   "metadata": {
    "application/vnd.databricks.v1+cell": {
     "cellMetadata": {
      "byteLimit": 2048000,
      "rowLimit": 10000
     },
     "inputWidgets": {},
     "nuid": "bf7d4c1a-8084-413b-a315-27c05bc0529f",
     "showTitle": false,
     "title": ""
    }
   },
   "outputs": [],
   "source": [
    "MOUNT_NAME = '/mnt/pin_pipe'\n",
    "s3_conn = S3Connector(\n",
    "    bucket_name='user-0a1d8948160f-bucket',\n",
    "    mount_name=MOUNT_NAME,\n",
    "    credential_file='authentication_credentials.csv')\n",
    "s3_conn.mount()"
   ]
  },
  {
   "cell_type": "code",
   "execution_count": 0,
   "metadata": {
    "application/vnd.databricks.v1+cell": {
     "cellMetadata": {
      "byteLimit": 2048000,
      "rowLimit": 10000
     },
     "inputWidgets": {},
     "nuid": "423e0143-99a9-4b39-bf94-c29b263435f8",
     "showTitle": false,
     "title": ""
    }
   },
   "outputs": [],
   "source": [
    "pin_data_location = f\"{MOUNT_NAME}/topics/0a1d8948160f.pin/partition=0/\"\n",
    "geo_data_location = f\"{MOUNT_NAME}/topics/0a1d8948160f.geo/partition=0/\"\n",
    "user_data_location = f\"{MOUNT_NAME}/topics/0a1d8948160f.user/partition=0/\"\n",
    "print(len(dbutils.fs.ls(pin_data_location)))\n",
    "print(len(dbutils.fs.ls(geo_data_location)))\n",
    "print(len(dbutils.fs.ls(user_data_location)))\n"
   ]
  },
  {
   "cell_type": "markdown",
   "metadata": {
    "application/vnd.databricks.v1+cell": {
     "cellMetadata": {
      "byteLimit": 2048000,
      "rowLimit": 10000
     },
     "inputWidgets": {},
     "nuid": "065b18fd-ca93-4c78-81fb-8c0b38d7d259",
     "showTitle": false,
     "title": ""
    }
   },
   "source": [
    "## Read All Data for pinterest posts from S3"
   ]
  },
  {
   "cell_type": "code",
   "execution_count": 0,
   "metadata": {
    "application/vnd.databricks.v1+cell": {
     "cellMetadata": {
      "byteLimit": 2048000,
      "rowLimit": 10000
     },
     "inputWidgets": {},
     "nuid": "e9cc787f-1261-4fc8-bdc8-6535080ee857",
     "showTitle": false,
     "title": ""
    }
   },
   "outputs": [],
   "source": [
    "df_pin = prepare_dataframe(pin_data_location)\n",
    "df_geo = prepare_dataframe(geo_data_location)\n",
    "df_user = prepare_dataframe(user_data_location)"
   ]
  },
  {
   "cell_type": "markdown",
   "metadata": {
    "application/vnd.databricks.v1+cell": {
     "cellMetadata": {
      "byteLimit": 2048000,
      "rowLimit": 10000
     },
     "inputWidgets": {},
     "nuid": "403b55e3-d532-44cd-9695-9afa85979b24",
     "showTitle": false,
     "title": ""
    }
   },
   "source": [
    "## Clean pin, geo and user post dataframes"
   ]
  },
  {
   "cell_type": "code",
   "execution_count": 0,
   "metadata": {
    "application/vnd.databricks.v1+cell": {
     "cellMetadata": {
      "byteLimit": 2048000,
      "rowLimit": 10000
     },
     "inputWidgets": {},
     "nuid": "f3c28890-624a-449c-a34d-9bf1fc80e85a",
     "showTitle": false,
     "title": ""
    }
   },
   "outputs": [],
   "source": [
    "df_pin = clean_pin_dataframe(df_pin)\n",
    "df_geo = clean_geo_dataframe(df_geo)\n",
    "df_user = clean_user_dataframe(df_user)"
   ]
  },
  {
   "cell_type": "markdown",
   "metadata": {
    "application/vnd.databricks.v1+cell": {
     "cellMetadata": {
      "byteLimit": 2048000,
      "rowLimit": 10000
     },
     "inputWidgets": {},
     "nuid": "e2831949-0a7f-4f46-9ed5-b5de5cb9e117",
     "showTitle": false,
     "title": ""
    }
   },
   "source": [
    "## Analytics Queries"
   ]
  },
  {
   "cell_type": "code",
   "execution_count": 0,
   "metadata": {
    "application/vnd.databricks.v1+cell": {
     "cellMetadata": {
      "byteLimit": 2048000,
      "rowLimit": 10000
     },
     "inputWidgets": {},
     "nuid": "40a5c682-8fed-400b-bbf3-ee99d37b0464",
     "showTitle": false,
     "title": ""
    }
   },
   "outputs": [],
   "source": [
    "print('df_pin: \\n', df_pin.columns)\n",
    "print('df_geo: \\n', df_geo.columns)\n",
    "print('df_user: \\n', df_user.columns)"
   ]
  },
  {
   "cell_type": "markdown",
   "metadata": {
    "application/vnd.databricks.v1+cell": {
     "cellMetadata": {
      "byteLimit": 2048000,
      "rowLimit": 10000
     },
     "inputWidgets": {},
     "nuid": "9c9e137a-8ae1-4b55-8106-6631c22adf4a",
     "showTitle": false,
     "title": ""
    }
   },
   "source": [
    "### M7-T4 Find the most popular Pinterest category people post to based on their country.\n",
    "\n",
    "Your query should return a DataFrame that contains the following columns:\n",
    "- country\n",
    "- category\n",
    "- category_count, a new column containing the desired query output"
   ]
  },
  {
   "cell_type": "code",
   "execution_count": 0,
   "metadata": {
    "application/vnd.databricks.v1+cell": {
     "cellMetadata": {
      "byteLimit": 2048000,
      "rowLimit": 10000
     },
     "inputWidgets": {},
     "nuid": "20e6aeec-d9f9-436a-8d32-355c4299a99d",
     "showTitle": false,
     "title": ""
    }
   },
   "outputs": [],
   "source": [
    "# First we inner join two dataframes on index of the post\n",
    "# Count the posts grouped by country and category to get\n",
    "# a table showing total number of posts per category for each country\n",
    "joined = df_pin.join(df_geo, 'ind') \\\n",
    "    .groupBy('country', 'category') \\\n",
    "    .agg(count('*').alias('category_count')) \\\n",
    "    .sort('country', 'category', 'category_count', ascending=False) \\\n",
    "# display(joined)\n",
    "# Now we need to only pick top category for each country therefore\n",
    "# we partition the joined dataframe it by country using a Windowing function \n",
    "# and then sort within each partition by number of posts for each category\n",
    "# Using this, we create a new column in joined dataframe which has this\n",
    "# sorted and partitioned results from highest to lowest leading to highest number of posts\n",
    "# to row 1 for each partition\n",
    "window = pyspark.sql.Window.partitionBy('country').orderBy(desc('category_count'))\n",
    "ranked = joined.withColumn('rank', row_number().over(window))\n",
    "# display(ranked)\n",
    "# Finally, we filter the results picking only the row 1 for each country\n",
    "top_category_per_country = ranked.filter(col('rank')==1).select('country', 'category', 'category_count')\n",
    "display(top_category_per_country)"
   ]
  },
  {
   "cell_type": "markdown",
   "metadata": {
    "application/vnd.databricks.v1+cell": {
     "cellMetadata": {
      "byteLimit": 2048000,
      "rowLimit": 10000
     },
     "inputWidgets": {},
     "nuid": "d539f44e-38df-4aad-b4ba-cae857b75943",
     "showTitle": false,
     "title": ""
    }
   },
   "source": [
    "### M7-T5 Find most popular category each year\n",
    "Find how many posts each category had between 2018 and 2022.\n",
    "\n",
    "Your query should return a DataFrame that contains the following columns:\n",
    "\n",
    "- `post_year`, a new column that contains only the year from the timestamp column\n",
    "- `category`\n",
    "- `category_count`, a new column containing the desired query output\n"
   ]
  },
  {
   "cell_type": "code",
   "execution_count": 0,
   "metadata": {
    "application/vnd.databricks.v1+cell": {
     "cellMetadata": {
      "byteLimit": 2048000,
      "rowLimit": 10000
     },
     "inputWidgets": {},
     "nuid": "b0da4485-39e0-46b0-83e5-e2aca65d9aed",
     "showTitle": false,
     "title": ""
    }
   },
   "outputs": [],
   "source": [
    "# First we join the dataframes containing posts and geolocation data on index\n",
    "# Grouping by the category\n",
    "joined = df_pin.join(\n",
    "    df_geo.filter(df_geo.timestamp > lit('2017')).filter(df_geo.timestamp < lit('2023')), 'ind'\n",
    "    ).groupBy(year('timestamp').alias('post_year'), 'category')\\\n",
    "    .agg(count('*').alias('category_count')).orderBy('post_year', 'category_count', ascending=False)\n",
    "display(joined)"
   ]
  },
  {
   "cell_type": "markdown",
   "metadata": {
    "application/vnd.databricks.v1+cell": {
     "cellMetadata": {
      "byteLimit": 2048000,
      "rowLimit": 10000
     },
     "inputWidgets": {},
     "nuid": "d10baeec-7b31-4edc-8815-b9bac5b1c27b",
     "showTitle": false,
     "title": ""
    }
   },
   "source": [
    "### M7-T6 User with most followers and the country"
   ]
  },
  {
   "cell_type": "markdown",
   "metadata": {
    "application/vnd.databricks.v1+cell": {
     "cellMetadata": {
      "byteLimit": 2048000,
      "rowLimit": 10000
     },
     "inputWidgets": {},
     "nuid": "d1149381-2a2b-4d87-a385-0d1180e7acf4",
     "showTitle": false,
     "title": ""
    }
   },
   "source": [
    "#### Step 1: For each country find the user with the most followers.\n",
    "\n",
    "Your query should return a DataFrame that contains the following columns:\n",
    "\n",
    "`country`\n",
    "`poster_name`\n",
    "`follower_count`"
   ]
  },
  {
   "cell_type": "code",
   "execution_count": 0,
   "metadata": {
    "application/vnd.databricks.v1+cell": {
     "cellMetadata": {
      "byteLimit": 2048000,
      "rowLimit": 10000
     },
     "inputWidgets": {},
     "nuid": "3b98c45c-3f20-4347-839b-fc19c69bb467",
     "showTitle": false,
     "title": ""
    }
   },
   "outputs": [],
   "source": [
    "# The query has same pattern as previous M7-T5\n",
    "joined = df_pin.join(df_geo, 'ind').groupby('poster_name', 'country').agg(sum('follower_count').alias('follower_count'))\n",
    "window = pyspark.sql.Window.partitionBy('country').orderBy(desc('follower_count'))\n",
    "ranked = joined.withColumn('rank', row_number().over(window))\n",
    "top_user_by_follower_per_country = ranked.filter(col('rank')==1).select('country', 'poster_name', 'follower_count')"
   ]
  },
  {
   "cell_type": "code",
   "execution_count": 0,
   "metadata": {
    "application/vnd.databricks.v1+cell": {
     "cellMetadata": {
      "byteLimit": 2048000,
      "rowLimit": 10000
     },
     "inputWidgets": {},
     "nuid": "7b1e9d09-1bb8-4f1b-9e25-aab35fadc461",
     "showTitle": false,
     "title": ""
    }
   },
   "outputs": [],
   "source": [
    "display(top_user_by_follower_per_country)"
   ]
  },
  {
   "cell_type": "markdown",
   "metadata": {
    "application/vnd.databricks.v1+cell": {
     "cellMetadata": {
      "byteLimit": 2048000,
      "rowLimit": 10000
     },
     "inputWidgets": {},
     "nuid": "5f5aa630-0945-4e96-b903-3e0a862b3437",
     "showTitle": false,
     "title": ""
    }
   },
   "source": [
    "#### Step 2: Based on the above query, find the country with the user with most followers.\n",
    "\n",
    "Your query should return a DataFrame that contains the following columns:\n",
    "\n",
    "`country`\n",
    "`follower_count`\n",
    "\n",
    "This DataFrame should have only one entry."
   ]
  },
  {
   "cell_type": "code",
   "execution_count": 0,
   "metadata": {
    "application/vnd.databricks.v1+cell": {
     "cellMetadata": {
      "byteLimit": 2048000,
      "rowLimit": 10000
     },
     "inputWidgets": {},
     "nuid": "5314c775-fe9e-461b-bad2-3c80e3882345",
     "showTitle": false,
     "title": ""
    }
   },
   "outputs": [],
   "source": [
    "user_country_most_followers = top_user_by_follower_per_country.select('country', 'follower_count')\\\n",
    "    .orderBy('follower_count', ascending=False)"
   ]
  },
  {
   "cell_type": "code",
   "execution_count": 0,
   "metadata": {
    "application/vnd.databricks.v1+cell": {
     "cellMetadata": {
      "byteLimit": 2048000,
      "rowLimit": 10000
     },
     "inputWidgets": {},
     "nuid": "67fe23ce-2c78-40b7-8757-9f75054f4e35",
     "showTitle": false,
     "title": ""
    }
   },
   "outputs": [],
   "source": [
    "display(user_country_most_followers.limit(1))"
   ]
  },
  {
   "cell_type": "markdown",
   "metadata": {
    "application/vnd.databricks.v1+cell": {
     "cellMetadata": {
      "byteLimit": 2048000,
      "rowLimit": 10000
     },
     "inputWidgets": {},
     "nuid": "42d59bc9-b7cd-4e49-a83b-72c01fa64db9",
     "showTitle": false,
     "title": ""
    }
   },
   "source": [
    "### M7-T7 Most popular category for each age group\n",
    "#### What is the most popular category people post to based on the following age groups:\n",
    "\n",
    "* 18-24\n",
    "* 25-35\n",
    "* 36-50\n",
    "* +50\n",
    "\n",
    "Your query should return a DataFrame that contains the following columns:\\\n",
    "`age_group`, a new column based on the original age column \\\n",
    "`category` \\\n",
    "`category_count`, a new column containing the desired query output\n"
   ]
  },
  {
   "cell_type": "code",
   "execution_count": 0,
   "metadata": {
    "application/vnd.databricks.v1+cell": {
     "cellMetadata": {
      "byteLimit": 2048000,
      "rowLimit": 10000
     },
     "inputWidgets": {},
     "nuid": "b66ab0c2-99cb-4bd4-ab73-1346b2ba4793",
     "showTitle": false,
     "title": ""
    }
   },
   "outputs": [],
   "source": [
    "# Drop the columns not required to try increasing the speed\n",
    "joined = df_pin.join(df_user, 'ind')\n",
    "        # .drop('unique_id','title','description','follower_count','poster_name','tag_list',\n",
    "        #                                    'is_image_or_video', 'image_src', 'save_location','user_name', 'date_joined')\n"
   ]
  },
  {
   "cell_type": "code",
   "execution_count": 0,
   "metadata": {
    "application/vnd.databricks.v1+cell": {
     "cellMetadata": {
      "byteLimit": 2048000,
      "rowLimit": 10000
     },
     "inputWidgets": {},
     "nuid": "ae64927a-c33e-4d72-a2f2-1b70bd20b7d1",
     "showTitle": false,
     "title": ""
    }
   },
   "outputs": [],
   "source": [
    "age_demongraphics_categorical = joined.withColumn('age_group', \n",
    "                  when(joined.age.between(18, 24), lit('18-24')).otherwise(\n",
    "                      when(joined.age.between(25, 35), lit('25-35')).otherwise(\n",
    "                          when(joined.age.between(36, 50), lit('36-50')).otherwise(lit('50+'))\n",
    "                      )\n",
    "                  )\n",
    ").groupBy('age_group', 'category').agg(count('*').alias('category_count'))"
   ]
  },
  {
   "cell_type": "code",
   "execution_count": 0,
   "metadata": {
    "application/vnd.databricks.v1+cell": {
     "cellMetadata": {
      "byteLimit": 2048000,
      "rowLimit": 10000
     },
     "inputWidgets": {},
     "nuid": "0800831a-1437-44ed-b11b-630003c0f3b9",
     "showTitle": false,
     "title": ""
    }
   },
   "outputs": [],
   "source": [
    "window = pyspark.sql.Window.partitionBy('age_group').orderBy(desc('category_count'))\n",
    "ranked = age_demongraphics_categorical.withColumn('rank', row_number().over(window))\n",
    "top_category_by_age = ranked.filter(col('rank')==1).select('age_group', 'category', 'category_count')"
   ]
  },
  {
   "cell_type": "code",
   "execution_count": 0,
   "metadata": {
    "application/vnd.databricks.v1+cell": {
     "cellMetadata": {
      "byteLimit": 2048000,
      "rowLimit": 10000
     },
     "inputWidgets": {},
     "nuid": "9b31fc3d-8125-46bf-96f4-5bd802169d7e",
     "showTitle": false,
     "title": ""
    }
   },
   "outputs": [],
   "source": [
    "display(top_category_by_age)"
   ]
  },
  {
   "cell_type": "markdown",
   "metadata": {
    "application/vnd.databricks.v1+cell": {
     "cellMetadata": {
      "byteLimit": 2048000,
      "rowLimit": 10000
     },
     "inputWidgets": {},
     "nuid": "04ea8df1-fd25-4106-aa5c-0018018cb889",
     "showTitle": false,
     "title": ""
    }
   },
   "source": [
    "### M7-T8 Median Follower Count by Age Group\n",
    "What is the median follower count for users in the following age groups:\n",
    "\n",
    "* 18-24\n",
    "* 25-35\n",
    "* 36-50\n",
    "* +50\n",
    "\n",
    "Your query should return a DataFrame that contains the following columns:\n",
    "- `age_group`, a new column based on the original `age` column\n",
    "- `median_follower_count`, a new column containing the desired query output\n"
   ]
  },
  {
   "cell_type": "code",
   "execution_count": 0,
   "metadata": {
    "application/vnd.databricks.v1+cell": {
     "cellMetadata": {
      "byteLimit": 2048000,
      "rowLimit": 10000
     },
     "inputWidgets": {},
     "nuid": "2ba2474b-ae38-454c-957e-6961a739a0d8",
     "showTitle": false,
     "title": ""
    }
   },
   "outputs": [],
   "source": [
    "joined = df_pin.join(df_user, 'ind')\n",
    "followers_by_age = joined.withColumn('age_group', \n",
    "                when(joined.age.between(18, 24), lit('18-24')\n",
    "                     ).otherwise(\n",
    "                        when(joined.age.between(25, 35), lit('25-35')\n",
    "                             ).otherwise(\n",
    "                                when(joined.age.between(36, 50), lit('36-50')).otherwise(lit('50+'))\n",
    "                            )\n",
    "                    )\n",
    ").groupBy('age_group').agg(percentile_approx('follower_count', 0.5).alias('median_follower_count')).orderBy('age_group')"
   ]
  },
  {
   "cell_type": "code",
   "execution_count": 0,
   "metadata": {
    "application/vnd.databricks.v1+cell": {
     "cellMetadata": {
      "byteLimit": 2048000,
      "rowLimit": 10000
     },
     "inputWidgets": {},
     "nuid": "0e61b901-592f-40fd-b300-161159435182",
     "showTitle": false,
     "title": ""
    }
   },
   "outputs": [],
   "source": [
    "display(followers_by_age)"
   ]
  },
  {
   "cell_type": "markdown",
   "metadata": {
    "application/vnd.databricks.v1+cell": {
     "cellMetadata": {
      "byteLimit": 2048000,
      "rowLimit": 10000
     },
     "inputWidgets": {},
     "nuid": "66f77e3a-ede4-4c7b-8273-7745701554ab",
     "showTitle": false,
     "title": ""
    }
   },
   "source": [
    "### M7-T9 Users Joining Per Year 2015 - 2020\n",
    "Find how many users have joined between 2015 and 2020.\n",
    "\n",
    "Your query should return a DataFrame that contains the following columns:\n",
    "\n",
    "* `post_year`, a new column that contains only the year from the timestamp column\n",
    "* `number_users_joined`, a new column containing the desired query output\n"
   ]
  },
  {
   "cell_type": "code",
   "execution_count": 0,
   "metadata": {
    "application/vnd.databricks.v1+cell": {
     "cellMetadata": {
      "byteLimit": 2048000,
      "rowLimit": 10000
     },
     "inputWidgets": {},
     "nuid": "0389f8de-f380-4929-a393-5d6ee9e4a9b5",
     "showTitle": false,
     "title": ""
    }
   },
   "outputs": [],
   "source": [
    "users_per_year = df_user.withColumn('post_year', year('date_joined'))\\\n",
    "    .groupBy('post_year') \\\n",
    "    .agg(count('user_name').alias('number_users_joined'))\n"
   ]
  },
  {
   "cell_type": "code",
   "execution_count": 0,
   "metadata": {
    "application/vnd.databricks.v1+cell": {
     "cellMetadata": {
      "byteLimit": 2048000,
      "rowLimit": 10000
     },
     "inputWidgets": {},
     "nuid": "8bf36207-56a8-4a55-9d41-5a4a74126c47",
     "showTitle": false,
     "title": ""
    }
   },
   "outputs": [],
   "source": [
    "display(users_per_year)"
   ]
  },
  {
   "cell_type": "markdown",
   "metadata": {
    "application/vnd.databricks.v1+cell": {
     "cellMetadata": {
      "byteLimit": 2048000,
      "rowLimit": 10000
     },
     "inputWidgets": {},
     "nuid": "b15c48d7-348d-4a82-a063-d0aa01e3f604",
     "showTitle": false,
     "title": ""
    }
   },
   "source": [
    "### M7-T10 Median Follower Count of Users based On Joining Year\n",
    "Find the median follower count of users have joined between 2015 and 2020.\n",
    "Your query should return a DataFrame that contains the following columns:\n",
    "- `post_year`, a new column that contains only the year from the timestamp column\n",
    "- `median_follower_count`, a new column containing the desired query output\n"
   ]
  },
  {
   "cell_type": "code",
   "execution_count": 0,
   "metadata": {
    "application/vnd.databricks.v1+cell": {
     "cellMetadata": {
      "byteLimit": 2048000,
      "rowLimit": 10000
     },
     "inputWidgets": {},
     "nuid": "0b764dc4-ba14-4894-a6aa-ab1fbc5ea6a8",
     "showTitle": false,
     "title": ""
    }
   },
   "outputs": [],
   "source": [
    "joined = df_pin.join(df_user, 'ind')\\\n",
    "    .withColumn('post_year', year('date_joined'))\\\n",
    "    .groupBy('post_year')\\\n",
    "    .agg(percentile_approx('follower_count', 0.5).alias('median_follower_count'))\n",
    "    \n",
    "filtered = joined.filter(\n",
    "    joined.post_year.between(lit('2015'), lit('2020'))\n",
    ")"
   ]
  },
  {
   "cell_type": "code",
   "execution_count": 0,
   "metadata": {
    "application/vnd.databricks.v1+cell": {
     "cellMetadata": {
      "byteLimit": 2048000,
      "rowLimit": 10000
     },
     "inputWidgets": {},
     "nuid": "2db533a0-1396-423e-900e-e73ff5b6bdc9",
     "showTitle": false,
     "title": ""
    }
   },
   "outputs": [],
   "source": [
    "display(filtered)"
   ]
  },
  {
   "cell_type": "markdown",
   "metadata": {
    "application/vnd.databricks.v1+cell": {
     "cellMetadata": {
      "byteLimit": 2048000,
      "rowLimit": 10000
     },
     "inputWidgets": {},
     "nuid": "5800138d-1816-4072-ac55-2d3f75bd93d0",
     "showTitle": false,
     "title": ""
    }
   },
   "source": [
    "### M7-T11 The median follower count of users based on their joining year and age group\n",
    "Find the median follower count of users that have joined between 2015 and 2020, based on which age group they are part of.\\\n",
    "Your query should return a DataFrame that contains the following columns:\n",
    "\n",
    "- `age_group`, a new column based on the original `age` column\n",
    "    * 18-24\n",
    "    * 25-35\n",
    "    * 36-50\n",
    "    * +50\n",
    "- `post_year`, a new column that contains only the year from the timestamp column\n",
    "- `median_follower_count`, a new column containing the desired query output\n"
   ]
  },
  {
   "cell_type": "code",
   "execution_count": 0,
   "metadata": {
    "application/vnd.databricks.v1+cell": {
     "cellMetadata": {
      "byteLimit": 2048000,
      "rowLimit": 10000
     },
     "inputWidgets": {},
     "nuid": "13bc4fdc-b80b-4fd4-ae42-3e87d8c5d398",
     "showTitle": false,
     "title": ""
    }
   },
   "outputs": [],
   "source": [
    "joined = df_pin.join(df_user, 'ind').withColumn('post_year', year('date_joined'))\n",
    "followers_by_age_by_joined_year = joined.withColumn('age_group', \n",
    "                when(joined.age.between(18, 24), lit('18-24')\n",
    "                     ).otherwise(\n",
    "                        when(joined.age.between(25, 35), lit('25-35')\n",
    "                             ).otherwise(\n",
    "                                when(joined.age.between(36, 50), lit('36-50')).otherwise(lit('50+'))\n",
    "                            )\n",
    "                    )\n",
    ").groupBy('age_group', 'post_year')\\\n",
    "  .agg(percentile_approx('follower_count', 0.5).alias('median_follower_count'))\\\n",
    "    .orderBy('age_group')"
   ]
  },
  {
   "cell_type": "code",
   "execution_count": 0,
   "metadata": {
    "application/vnd.databricks.v1+cell": {
     "cellMetadata": {
      "byteLimit": 2048000,
      "rowLimit": 10000
     },
     "inputWidgets": {},
     "nuid": "16301e45-ca47-4c50-807a-5261a3cf6e4f",
     "showTitle": false,
     "title": ""
    }
   },
   "outputs": [],
   "source": [
    "display(followers_by_age_by_joined_year)"
   ]
  },
  {
   "cell_type": "markdown",
   "metadata": {
    "application/vnd.databricks.v1+cell": {
     "cellMetadata": {
      "byteLimit": 2048000,
      "rowLimit": 10000
     },
     "inputWidgets": {},
     "nuid": "defc9a78-e923-4926-8401-91194fe63dec",
     "showTitle": false,
     "title": ""
    }
   },
   "source": [
    "## Unmount S3 Bucket"
   ]
  },
  {
   "cell_type": "code",
   "execution_count": 0,
   "metadata": {
    "application/vnd.databricks.v1+cell": {
     "cellMetadata": {
      "byteLimit": 2048000,
      "rowLimit": 10000
     },
     "inputWidgets": {},
     "nuid": "c1460a27-12f0-47af-8d86-55a69bb34b83",
     "showTitle": false,
     "title": ""
    }
   },
   "outputs": [],
   "source": [
    "dbutils.fs.unmount(\"/mnt/pin_pipe\")\n",
    "# dbutils.fs.unmount(\"/mnt\")"
   ]
  },
  {
   "cell_type": "code",
   "execution_count": 0,
   "metadata": {
    "application/vnd.databricks.v1+cell": {
     "cellMetadata": {
      "byteLimit": 2048000,
      "rowLimit": 10000
     },
     "inputWidgets": {},
     "nuid": "2bffb61d-f91a-424a-bab1-551bca24296f",
     "showTitle": false,
     "title": ""
    }
   },
   "outputs": [],
   "source": []
  }
 ],
 "metadata": {
  "application/vnd.databricks.v1+notebook": {
   "dashboards": [
    {
     "elements": [
      {
       "dashboardResultIndex": 0,
       "elementNUID": "b0da4485-39e0-46b0-83e5-e2aca65d9aed",
       "elementType": "command",
       "guid": "2ec950d4-edd2-4550-9760-a79e76073bc6",
       "options": {
        "autoScaleImg": false,
        "scale": 0,
        "showRunButton": true,
        "showTitle": true,
        "title": "Number of Posts per Category from 2018 to 2022",
        "titleAlign": "center"
       },
       "position": {
        "height": 8,
        "width": 19,
        "x": 0,
        "y": 9,
        "z": null
       },
       "resultIndex": null
      },
      {
       "dashboardResultIndex": null,
       "elementNUID": "01236d0b-57f6-439b-bdd8-8a88ab5780c6",
       "elementType": "command",
       "guid": "8913e525-91dd-4d22-a1d1-5fa9d7cc2a1f",
       "options": null,
       "position": {
        "height": 7,
        "width": 12,
        "x": 12,
        "y": 32,
        "z": null
       },
       "resultIndex": null
      },
      {
       "dashboardResultIndex": 0,
       "elementNUID": "7b1e9d09-1bb8-4f1b-9e25-aab35fadc461",
       "elementType": "command",
       "guid": "8b4eae88-bb11-4055-ae66-027e5d845d5e",
       "options": {
        "autoScaleImg": false,
        "scale": 0,
        "showRunButton": true,
        "showTitle": true,
        "title": "Countrywise Top Users by Number of Followers",
        "titleAlign": "center"
       },
       "position": {
        "height": 6,
        "width": 19,
        "x": 0,
        "y": 17,
        "z": null
       },
       "resultIndex": null
      },
      {
       "dashboardResultIndex": 0,
       "elementNUID": "20e6aeec-d9f9-436a-8d32-355c4299a99d",
       "elementType": "command",
       "guid": "8cd890ee-7411-40fd-a74f-1f9e0231fd42",
       "options": {
        "autoScaleImg": false,
        "scale": 0,
        "showRunButton": true,
        "showTitle": true,
        "title": "Top Categories for Pins By Country",
        "titleAlign": "center"
       },
       "position": {
        "height": 9,
        "width": 19,
        "x": 0,
        "y": 0,
        "z": null
       },
       "resultIndex": null
      },
      {
       "dashboardResultIndex": 0,
       "elementNUID": "2db533a0-1396-423e-900e-e73ff5b6bdc9",
       "elementType": "command",
       "guid": "a0bcaa48-0271-4664-a440-4bfcc0e39100",
       "options": {
        "autoScaleImg": false,
        "scale": 0,
        "showRunButton": true,
        "showTitle": true,
        "title": "Median Follower Count Users Joined By Year",
        "titleAlign": "center"
       },
       "position": {
        "height": 4,
        "width": 17,
        "x": 0,
        "y": 39,
        "z": null
       },
       "resultIndex": null
      },
      {
       "dashboardResultIndex": 0,
       "elementNUID": "67fe23ce-2c78-40b7-8757-9f75054f4e35",
       "elementType": "command",
       "guid": "a533c127-0e04-4ab0-b14d-fa6c282adad3",
       "options": {
        "autoScaleImg": false,
        "scale": 0,
        "showRunButton": true,
        "showTitle": true,
        "title": "User's Country with Highest Number of Followers",
        "titleAlign": "center"
       },
       "position": {
        "height": 3,
        "width": 15,
        "x": 0,
        "y": 23,
        "z": null
       },
       "resultIndex": null
      },
      {
       "dashboardResultIndex": null,
       "elementNUID": "4e947d33-3191-43c3-b4d7-30c73a288374",
       "elementType": "command",
       "guid": "c820718a-1a43-43c0-b8c4-b3711c21ef39",
       "options": {
        "autoScaleImg": false,
        "scale": 0,
        "showRunButton": true,
        "showTitle": true,
        "title": "Median Follower Count by Age Group",
        "titleAlign": "center"
       },
       "position": {
        "height": 7,
        "width": 12,
        "x": 0,
        "y": 32,
        "z": null
       },
       "resultIndex": null
      },
      {
       "dashboardResultIndex": 0,
       "elementNUID": "9b31fc3d-8125-46bf-96f4-5bd802169d7e",
       "elementType": "command",
       "guid": "d6cc12b1-b351-4bc1-80df-6e943181d245",
       "options": {
        "autoScaleImg": false,
        "scale": 0,
        "showRunButton": true,
        "showTitle": true,
        "title": "Top Categories by Age Demographics",
        "titleAlign": "center"
       },
       "position": {
        "height": 6,
        "width": 12,
        "x": 0,
        "y": 26,
        "z": null
       },
       "resultIndex": null
      },
      {
       "dashboardResultIndex": null,
       "elementNUID": "0bac36a0-f12c-4aa1-ac7e-9cbe60e3f7dd",
       "elementType": "command",
       "guid": "e2cef968-b2ad-47d2-8fa3-52e74dcdf19d",
       "options": {
        "autoScaleImg": false,
        "scale": 0,
        "showRunButton": true,
        "showTitle": true,
        "title": "Median Followers by Year",
        "titleAlign": "center"
       },
       "position": {
        "height": 6,
        "width": 11,
        "x": 12,
        "y": 26,
        "z": null
       },
       "resultIndex": null
      }
     ],
     "globalVars": {},
     "guid": "",
     "layoutOption": {
      "grid": true,
      "stack": true
     },
     "nuid": "6469ba24-30ed-4b86-a15c-3db82a819ed3",
     "origId": 1745578344368207,
     "title": "Insights into Pins",
     "version": "DashboardViewV1",
     "width": 1024
    }
   ],
   "language": "python",
   "notebookMetadata": {
    "pythonIndentUnit": 4
   },
   "notebookName": "0a1d8948160f_PinterestDataPipeline_BatchProcessing",
   "widgets": {}
  }
 },
 "nbformat": 4,
 "nbformat_minor": 0
}
