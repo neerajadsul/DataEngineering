{
 "cells": [
  {
   "cell_type": "code",
   "execution_count": null,
   "metadata": {},
   "outputs": [],
   "source": [
    "from user_posting_emulation import AWSDBConnector\n",
    "from sqlalchemy import inspect, text\n",
    "import pandas as pd"
   ]
  },
  {
   "cell_type": "code",
   "execution_count": null,
   "metadata": {},
   "outputs": [],
   "source": [
    "def get_topic_data(topic_table, num_rows=2000):\n",
    "    dbc = AWSDBConnector().create_db_connector()\n",
    "    table_names = inspect(dbc).get_table_names()\n",
    "    if topic_table not in table_names:\n",
    "        raise ValueError(f'Given table `{topic_table}` not found in the database.')\n",
    "\n",
    "    with dbc.connect() as conn:\n",
    "        query = text(f'SELECT * FROM {topic_table} LIMIT {num_rows};')\n",
    "        result = conn.execute(query)\n",
    "\n",
    "    data = []\n",
    "    for row in result:\n",
    "        data.append(dict(row._mapping))\n",
    "    \n",
    "    return data"
   ]
  },
  {
   "cell_type": "code",
   "execution_count": null,
   "metadata": {},
   "outputs": [],
   "source": [
    "pin_df = pd.json_normalize(get_topic_data('pinterest_data', num_rows=11154))"
   ]
  },
  {
   "cell_type": "code",
   "execution_count": null,
   "metadata": {},
   "outputs": [],
   "source": [
    "geo_df = pd.json_normalize(get_topic_data('geolocation_data', num_rows=11154))"
   ]
  },
  {
   "cell_type": "code",
   "execution_count": null,
   "metadata": {},
   "outputs": [],
   "source": [
    "user_df = pd.json_normalize(get_topic_data('user_data', num_rows=11154))"
   ]
  },
  {
   "cell_type": "code",
   "execution_count": null,
   "metadata": {},
   "outputs": [],
   "source": [
    "dbc = AWSDBConnector().create_db_connector()\n",
    "with dbc.connect() as conn:\n",
    "    query = text(f'SELECT COUNT(title) FROM pinterest_data;')\n",
    "    result = conn.execute(query)"
   ]
  },
  {
   "cell_type": "code",
   "execution_count": null,
   "metadata": {},
   "outputs": [],
   "source": [
    "dataset_path = r'/Users/neeraj/Datasets/DataEngineering'\n",
    "pin_df.to_parquet(dataset_path + '/pin_df.parquet')"
   ]
  },
  {
   "cell_type": "code",
   "execution_count": null,
   "metadata": {},
   "outputs": [],
   "source": [
    "geo_df.to_parquet(dataset_path + '/geo_df.parquet')\n",
    "user_df.to_parquet(dataset_path + 'user_df.parquet')"
   ]
  },
  {
   "cell_type": "code",
   "execution_count": null,
   "metadata": {},
   "outputs": [],
   "source": []
  }
 ],
 "metadata": {
  "kernelspec": {
   "display_name": "fastapi",
   "language": "python",
   "name": "python3"
  },
  "language_info": {
   "codemirror_mode": {
    "name": "ipython",
    "version": 3
   },
   "file_extension": ".py",
   "mimetype": "text/x-python",
   "name": "python",
   "nbconvert_exporter": "python",
   "pygments_lexer": "ipython3",
   "version": "3.11.6"
  }
 },
 "nbformat": 4,
 "nbformat_minor": 2
}
