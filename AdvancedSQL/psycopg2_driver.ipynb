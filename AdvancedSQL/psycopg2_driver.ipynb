{
 "cells": [
  {
   "cell_type": "code",
   "execution_count": 10,
   "metadata": {},
   "outputs": [
    {
     "name": "stdout",
     "output_type": "stream",
     "text": [
      "192.168.1.51\n",
      "pagila\n"
     ]
    }
   ],
   "source": [
    "import os\n",
    "import psycopg2\n",
    "\n",
    "\n",
    "postgres_host = os.getenv('POSTGRES_HOST')\n",
    "postgres_user = os.getenv('POSTGRES_USER')\n",
    "postgres_password = os.getenv('POSTGRES_PASSWORD')\n",
    "postgres_dbname = os.getenv('POSTGRES_DB')\n",
    "\n",
    "print(postgres_host)\n",
    "print(postgres_dbname)"
   ]
  },
  {
   "cell_type": "code",
   "execution_count": 11,
   "metadata": {},
   "outputs": [
    {
     "name": "stdout",
     "output_type": "stream",
     "text": [
      "('film_actor',)\n",
      "('address',)\n",
      "('city',)\n",
      "('actor',)\n",
      "('actor_info',)\n",
      "('category',)\n",
      "('country',)\n",
      "('customer',)\n",
      "('customer_list',)\n",
      "('film_list',)\n",
      "('nicer_but_slower_film_list',)\n",
      "('film',)\n",
      "('film_category',)\n",
      "('inventory',)\n",
      "('language',)\n",
      "('sales_by_film_category',)\n",
      "('store',)\n",
      "('payment_p2022_07',)\n",
      "('rental',)\n",
      "('staff',)\n",
      "('sales_by_store',)\n",
      "('staff_list',)\n",
      "('payment',)\n",
      "('payment_p2022_03',)\n",
      "('payment_p2022_04',)\n",
      "('payment_p2022_05',)\n",
      "('payment_p2022_06',)\n",
      "('payment_p2022_01',)\n",
      "('payment_p2022_02',)\n"
     ]
    }
   ],
   "source": [
    "with psycopg2.connect(host=postgres_host, user=postgres_user, password=postgres_password, dbname=postgres_dbname) as conn:\n",
    "    with conn.cursor() as cur:\n",
    "        cur.execute(\n",
    "            \"\"\"SELECT table_name FROM information_schema.tables\n",
    "            WHERE table_schema = 'public'\"\"\")\n",
    "        for table in cur.fetchall():\n",
    "            print(table)"
   ]
  },
  {
   "cell_type": "code",
   "execution_count": null,
   "metadata": {},
   "outputs": [],
   "source": []
  }
 ],
 "metadata": {
  "kernelspec": {
   "display_name": "fastapi",
   "language": "python",
   "name": "python3"
  },
  "language_info": {
   "codemirror_mode": {
    "name": "ipython",
    "version": 3
   },
   "file_extension": ".py",
   "mimetype": "text/x-python",
   "name": "python",
   "nbconvert_exporter": "python",
   "pygments_lexer": "ipython3",
   "version": "3.11.5"
  },
  "orig_nbformat": 4
 },
 "nbformat": 4,
 "nbformat_minor": 2
}
