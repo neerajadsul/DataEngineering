{
 "cells": [
  {
   "cell_type": "code",
   "execution_count": null,
   "metadata": {},
   "outputs": [],
   "source": [
    "import os\n",
    "\n",
    "import pandas as pd \n",
    "from sqlalchemy import create_engine, text, inspect\n",
    "\n",
    "db_type = 'postgresql'\n",
    "db_api = 'psycopg2'\n",
    "postgres_host = os.getenv('POSTGRES_HOST')\n",
    "postgres_user = os.getenv('POSTGRES_USER')\n",
    "postgres_password = os.getenv('POSTGRES_PASSWORD')\n",
    "postgres_dbname = os.getenv('POSTGRES_DB')\n",
    "postgres_port = 5432\n",
    "\n",
    "print(postgres_host)\n",
    "print(postgres_dbname)"
   ]
  },
  {
   "cell_type": "code",
   "execution_count": null,
   "metadata": {},
   "outputs": [],
   "source": [
    "# Create connection to the database\n",
    "engine = create_engine(\n",
    "    f'{db_type}+{db_api}://{postgres_user}:{postgres_password}@{postgres_host}:{postgres_port}/{postgres_dbname}'\n",
    ")\n",
    "\n",
    "try:\n",
    "    engine.execution_options(isolation_level='AUTOCOMMIT').connect()\n",
    "except Exception as e:\n",
    "    print(f'{e} Error Conneting')\n",
    "else:\n",
    "    print('Connection success!')"
   ]
  },
  {
   "cell_type": "code",
   "execution_count": null,
   "metadata": {},
   "outputs": [],
   "source": [
    "# Return all the information on all the actors in the database\n",
    "query_text = \"\"\"\n",
    "SELECT  \n",
    "    actor.actor_id, \n",
    "    actor.first_name, \n",
    "    actor.last_name, \n",
    "    actor.last_update\n",
    "FROM actor;\n",
    "\"\"\"\n",
    "pd.read_sql_query(query_text, engine)"
   ]
  },
  {
   "cell_type": "code",
   "execution_count": null,
   "metadata": {},
   "outputs": [],
   "source": [
    "# Return the titles, year of film release, description and length of all films in the database\n",
    "query_text = \"\"\"\n",
    "SELECT \n",
    "    film.title,\n",
    "    film.release_year,\n",
    "    film.length\n",
    "\n",
    "FROM film;\n",
    "\"\"\"\n",
    "\n",
    "pd.read_sql_query(query_text, engine)"
   ]
  },
  {
   "cell_type": "code",
   "execution_count": null,
   "metadata": {},
   "outputs": [],
   "source": [
    "# Return all info of 30 customers\n",
    "query_text = \"\"\"\n",
    "SELECT\n",
    "    *\n",
    "FROM\n",
    "    customer\n",
    "LIMIT 10;\n",
    "\"\"\"\n",
    "pd.read_sql_query(query_text, engine)"
   ]
  },
  {
   "cell_type": "code",
   "execution_count": null,
   "metadata": {},
   "outputs": [],
   "source": [
    "# Return the first name, last name and email addresses of 30 customers\n",
    "query_text = \"\"\"\n",
    "SELECT\n",
    "    first_name,\n",
    "    last_name,\n",
    "    email\n",
    "FROM\n",
    "    customer\n",
    "LIMIT 10;\n",
    "\"\"\"\n",
    "pd.read_sql_query(query_text, engine)"
   ]
  },
  {
   "cell_type": "code",
   "execution_count": null,
   "metadata": {},
   "outputs": [],
   "source": [
    "# Return all information about the highest payments made\n",
    "query_text = \"\"\"\n",
    "SELECT\n",
    "    *\n",
    "FROM\n",
    "    payment\n",
    "ORDER BY \n",
    "    amount DESC\n",
    "LIMIT 10;\n",
    "\"\"\"\n",
    "pd.read_sql_query(query_text, engine)"
   ]
  },
  {
   "cell_type": "code",
   "execution_count": null,
   "metadata": {},
   "outputs": [],
   "source": [
    "# Return all film titles, year of release, description \n",
    "# and rental rate as a proportion of the rental duration\n",
    "query_text = \"\"\"\n",
    "SELECT \n",
    "    title,\n",
    "    release_year,\n",
    "    description,\n",
    "ROUND (rental_rate / rental_duration, 3) AS unit_rate\n",
    "FROM \n",
    "    film;\n",
    "\"\"\"\n",
    "pd.read_sql_query(query_text, engine)"
   ]
  },
  {
   "cell_type": "code",
   "execution_count": null,
   "metadata": {},
   "outputs": [],
   "source": [
    "# Return all film titles, release year, description and \n",
    "# total rental cost(the rental rate times duration) \n",
    "# as a proportion of replacement cost\n",
    "query_text = \"\"\"\n",
    "SELECT \n",
    "    film.title,\n",
    "    film.release_year,\n",
    "    ROUND((rental_rate * rental_duration) / replacement_cost, 2) AS rate_cost\n",
    "FROM \n",
    "    film\n",
    "ORDER BY\n",
    "    rate_cost DESC;\n",
    "\"\"\"\n",
    "pd.read_sql_query(query_text, engine)"
   ]
  },
  {
   "cell_type": "code",
   "execution_count": null,
   "metadata": {},
   "outputs": [],
   "source": [
    "# Returns 100 films, ordered by title first, and rental rate (descending) second\n",
    "query_text= \"\"\"\n",
    "SELECT\n",
    "    title,\n",
    "    rental_rate\n",
    "FROM film\n",
    "    ORDER BY title, rental_rate DESC\n",
    "LIMIT 100;\n",
    "\"\"\"\n",
    "pd.read_sql_query(query_text, engine)"
   ]
  },
  {
   "cell_type": "code",
   "execution_count": null,
   "metadata": {},
   "outputs": [],
   "source": [
    "# Returns 100 films, ordered by rental rate (descending) first, and title second\n",
    "query_text = \"\"\"\n",
    "SELECT\n",
    "    title,\n",
    "    rental_rate\n",
    "FROM film\n",
    "    ORDER BY rental_rate DESC, title DESC\n",
    "LIMIT 100;\n",
    "\"\"\"\n",
    "pd.read_sql_query(query_text, engine)"
   ]
  },
  {
   "cell_type": "code",
   "execution_count": null,
   "metadata": {},
   "outputs": [],
   "source": []
  }
 ],
 "metadata": {
  "kernelspec": {
   "display_name": "Python 3 (ipykernel)",
   "language": "python",
   "name": "python3"
  },
  "language_info": {
   "codemirror_mode": {
    "name": "ipython",
    "version": 3
   },
   "file_extension": ".py",
   "mimetype": "text/x-python",
   "name": "python",
   "nbconvert_exporter": "python",
   "pygments_lexer": "ipython3",
   "version": "3.11.5"
  }
 },
 "nbformat": 4,
 "nbformat_minor": 4
}
