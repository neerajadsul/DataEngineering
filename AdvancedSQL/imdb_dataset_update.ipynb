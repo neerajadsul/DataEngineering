{
 "cells": [
  {
   "cell_type": "code",
   "execution_count": null,
   "metadata": {},
   "outputs": [],
   "source": [
    "import os\n",
    "from sqlalchemy import create_engine\n",
    "from sqlalchemy import inspect, text\n",
    "import pandas as pd\n",
    "\n",
    "db_type = 'postgresql'\n",
    "db_api = 'psycopg2'\n",
    "postgres_host = os.getenv('POSTGRES_HOST')\n",
    "postgres_user = os.getenv('POSTGRES_USER')\n",
    "postgres_password = os.getenv('POSTGRES_PASSWORD')\n",
    "postgres_dbname = os.getenv('POSTGRES_DB')\n",
    "postgres_port = 5432\n",
    "\n",
    "print(postgres_host)\n",
    "print(postgres_dbname)"
   ]
  },
  {
   "cell_type": "code",
   "execution_count": null,
   "metadata": {},
   "outputs": [],
   "source": [
    "engine = create_engine(\n",
    "    f'{db_type}+{db_api}://{postgres_user}:{postgres_password}@{postgres_host}:{postgres_port}/{postgres_dbname}'\n",
    ")"
   ]
  },
  {
   "cell_type": "code",
   "execution_count": null,
   "metadata": {},
   "outputs": [],
   "source": [
    "engine.execution_options(isolation_level='AUTOCOMMIT').connect()"
   ]
  },
  {
   "cell_type": "code",
   "execution_count": null,
   "metadata": {},
   "outputs": [],
   "source": [
    "inspector = inspect(engine)\n",
    "inspector.get_table_names()"
   ]
  },
  {
   "cell_type": "code",
   "execution_count": null,
   "metadata": {},
   "outputs": [],
   "source": [
    "samuel_df = pd.read_csv('samuel_movies.csv')\n",
    "tim_df = pd.read_csv('tim_movies.csv')"
   ]
  },
  {
   "cell_type": "code",
   "execution_count": null,
   "metadata": {},
   "outputs": [],
   "source": [
    "print(samuel_df.dtypes)\n",
    "print(tim_df.dtypes)"
   ]
  },
  {
   "cell_type": "code",
   "execution_count": null,
   "metadata": {},
   "outputs": [],
   "source": [
    "samuel_df.to_sql('samuel_movies', engine, if_exists='replace')\n",
    "tim_df.to_sql('tim_movies', engine, if_exists='replace')"
   ]
  },
  {
   "cell_type": "code",
   "execution_count": null,
   "metadata": {},
   "outputs": [],
   "source": [
    "# Movies where both Samuel and Tim had a role.\n",
    "sql_query_both = text('''SELECT sam.\"Title\" from samuel_movies as sam, tim_movies as tim\n",
    "WHERE sam.\"Title\" = tim.\"Title\"''')\n",
    "\n",
    "with engine.connect() as conn:    \n",
    "    data = conn.execute(sql_query_both)\n",
    "    for d in data:\n",
    "        print(d)"
   ]
  },
  {
   "cell_type": "code",
   "execution_count": null,
   "metadata": {},
   "outputs": [],
   "source": [
    "sql_query_samuel_only = text('''\n",
    "SELECT DISTINCT sam.\"Title\", sam.\"Year\" INTO Samuel_only from samuel_movies as sam, tim_movies as tim\n",
    "WHERE sam.\"Title\" != tim.\"Title\"\n",
    "''')"
   ]
  },
  {
   "cell_type": "code",
   "execution_count": null,
   "metadata": {},
   "outputs": [],
   "source": [
    "sql_query_tim_only = text('''\n",
    "SELECT DISTINCT tim.\"Title\", tim.\"Year\" INTO Tim_only FROM samuel_movies as sam, tim_movies as tim\n",
    "WHERE sam.\"Title\" != tim.\"Title\"\n",
    "''')\n",
    "\n",
    "with engine.connect() as conn:    \n",
    "    data = conn.execute(sql_query_tim_only)"
   ]
  },
  {
   "cell_type": "code",
   "execution_count": null,
   "metadata": {},
   "outputs": [],
   "source": []
  }
 ],
 "metadata": {
  "kernelspec": {
   "display_name": "fastapi",
   "language": "python",
   "name": "python3"
  },
  "language_info": {
   "codemirror_mode": {
    "name": "ipython",
    "version": 3
   },
   "file_extension": ".py",
   "mimetype": "text/x-python",
   "name": "python",
   "nbconvert_exporter": "python",
   "pygments_lexer": "ipython3",
   "version": "3.11.5"
  },
  "orig_nbformat": 4
 },
 "nbformat": 4,
 "nbformat_minor": 2
}
