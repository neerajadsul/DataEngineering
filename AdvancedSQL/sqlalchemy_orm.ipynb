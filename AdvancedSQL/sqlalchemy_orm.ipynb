{
 "cells": [
  {
   "cell_type": "code",
   "execution_count": 11,
   "metadata": {},
   "outputs": [
    {
     "name": "stdout",
     "output_type": "stream",
     "text": [
      "192.168.1.51\n",
      "pagila\n"
     ]
    }
   ],
   "source": [
    "import os\n",
    "from sqlalchemy import create_engine\n",
    "from sqlalchemy import inspect, text\n",
    "import pandas as pd\n",
    "\n",
    "db_type = 'postgresql'\n",
    "db_api = 'psycopg2'\n",
    "postgres_host = os.getenv('POSTGRES_HOST')\n",
    "postgres_user = os.getenv('POSTGRES_USER')\n",
    "postgres_password = os.getenv('POSTGRES_PASSWORD')\n",
    "postgres_dbname = os.getenv('POSTGRES_DB')\n",
    "postgres_port = 5432\n",
    "\n",
    "print(postgres_host)\n",
    "print(postgres_dbname)"
   ]
  },
  {
   "cell_type": "code",
   "execution_count": 5,
   "metadata": {},
   "outputs": [],
   "source": [
    "engine = create_engine(\n",
    "    f'{db_type}+{db_api}://{postgres_user}:{postgres_password}@{postgres_host}:{postgres_port}/{postgres_dbname}'\n",
    ")"
   ]
  },
  {
   "cell_type": "code",
   "execution_count": 6,
   "metadata": {},
   "outputs": [
    {
     "data": {
      "text/plain": [
       "<sqlalchemy.engine.base.Connection at 0x11236af10>"
      ]
     },
     "execution_count": 6,
     "metadata": {},
     "output_type": "execute_result"
    }
   ],
   "source": [
    "engine.execution_options(isolation_level='AUTOCOMMIT').connect()"
   ]
  },
  {
   "cell_type": "code",
   "execution_count": 22,
   "metadata": {},
   "outputs": [
    {
     "data": {
      "text/plain": [
       "['film_actor',\n",
       " 'address',\n",
       " 'city',\n",
       " 'actor',\n",
       " 'category',\n",
       " 'country',\n",
       " 'customer',\n",
       " 'film',\n",
       " 'film_category',\n",
       " 'inventory',\n",
       " 'language',\n",
       " 'store',\n",
       " 'payment_p2022_07',\n",
       " 'rental',\n",
       " 'staff',\n",
       " 'payment',\n",
       " 'payment_p2022_03',\n",
       " 'payment_p2022_04',\n",
       " 'payment_p2022_05',\n",
       " 'payment_p2022_06',\n",
       " 'payment_p2022_01',\n",
       " 'payment_p2022_02',\n",
       " 'diabetes_dataset']"
      ]
     },
     "execution_count": 22,
     "metadata": {},
     "output_type": "execute_result"
    }
   ],
   "source": [
    "inspector = inspect(engine)\n",
    "inspector.get_table_names()"
   ]
  },
  {
   "cell_type": "code",
   "execution_count": 21,
   "metadata": {},
   "outputs": [
    {
     "name": "stdout",
     "output_type": "stream",
     "text": [
      "(1, 'PENELOPE', 'GUINESS', datetime.datetime(2022, 2, 15, 9, 34, 33, tzinfo=datetime.timezone.utc))\n",
      "(2, 'NICK', 'WAHLBERG', datetime.datetime(2022, 2, 15, 9, 34, 33, tzinfo=datetime.timezone.utc))\n",
      "(3, 'ED', 'CHASE', datetime.datetime(2022, 2, 15, 9, 34, 33, tzinfo=datetime.timezone.utc))\n",
      "(4, 'JENNIFER', 'DAVIS', datetime.datetime(2022, 2, 15, 9, 34, 33, tzinfo=datetime.timezone.utc))\n",
      "(5, 'JOHNNY', 'LOLLOBRIGIDA', datetime.datetime(2022, 2, 15, 9, 34, 33, tzinfo=datetime.timezone.utc))\n",
      "(6, 'BETTE', 'NICHOLSON', datetime.datetime(2022, 2, 15, 9, 34, 33, tzinfo=datetime.timezone.utc))\n",
      "(7, 'GRACE', 'MOSTEL', datetime.datetime(2022, 2, 15, 9, 34, 33, tzinfo=datetime.timezone.utc))\n",
      "(8, 'MATTHEW', 'JOHANSSON', datetime.datetime(2022, 2, 15, 9, 34, 33, tzinfo=datetime.timezone.utc))\n",
      "(9, 'JOE', 'SWANK', datetime.datetime(2022, 2, 15, 9, 34, 33, tzinfo=datetime.timezone.utc))\n",
      "(10, 'CHRISTIAN', 'GABLE', datetime.datetime(2022, 2, 15, 9, 34, 33, tzinfo=datetime.timezone.utc))\n",
      "(11, 'ZERO', 'CAGE', datetime.datetime(2022, 2, 15, 9, 34, 33, tzinfo=datetime.timezone.utc))\n",
      "(12, 'KARL', 'BERRY', datetime.datetime(2022, 2, 15, 9, 34, 33, tzinfo=datetime.timezone.utc))\n",
      "(13, 'UMA', 'WOOD', datetime.datetime(2022, 2, 15, 9, 34, 33, tzinfo=datetime.timezone.utc))\n",
      "(14, 'VIVIEN', 'BERGEN', datetime.datetime(2022, 2, 15, 9, 34, 33, tzinfo=datetime.timezone.utc))\n",
      "(15, 'CUBA', 'OLIVIER', datetime.datetime(2022, 2, 15, 9, 34, 33, tzinfo=datetime.timezone.utc))\n",
      "(16, 'FRED', 'COSTNER', datetime.datetime(2022, 2, 15, 9, 34, 33, tzinfo=datetime.timezone.utc))\n",
      "(17, 'HELEN', 'VOIGHT', datetime.datetime(2022, 2, 15, 9, 34, 33, tzinfo=datetime.timezone.utc))\n",
      "(18, 'DAN', 'TORN', datetime.datetime(2022, 2, 15, 9, 34, 33, tzinfo=datetime.timezone.utc))\n",
      "(19, 'BOB', 'FAWCETT', datetime.datetime(2022, 2, 15, 9, 34, 33, tzinfo=datetime.timezone.utc))\n",
      "(20, 'LUCILLE', 'TRACY', datetime.datetime(2022, 2, 15, 9, 34, 33, tzinfo=datetime.timezone.utc))\n"
     ]
    }
   ],
   "source": [
    "with engine.connect() as conn:\n",
    "    result = conn.execute(text(\"SELECT * FROM actor LIMIT 20\"))\n",
    "    for row in result:\n",
    "        print(row)"
   ]
  },
  {
   "cell_type": "markdown",
   "metadata": {},
   "source": [
    "## Using Sqlalchemy engine directly with Pandas"
   ]
  },
  {
   "cell_type": "code",
   "execution_count": 23,
   "metadata": {},
   "outputs": [],
   "source": [
    "data = pd.read_sql_table('diabetes_dataset', engine)"
   ]
  },
  {
   "cell_type": "code",
   "execution_count": 24,
   "metadata": {},
   "outputs": [
    {
     "data": {
      "text/html": [
       "<div>\n",
       "<style scoped>\n",
       "    .dataframe tbody tr th:only-of-type {\n",
       "        vertical-align: middle;\n",
       "    }\n",
       "\n",
       "    .dataframe tbody tr th {\n",
       "        vertical-align: top;\n",
       "    }\n",
       "\n",
       "    .dataframe thead th {\n",
       "        text-align: right;\n",
       "    }\n",
       "</style>\n",
       "<table border=\"1\" class=\"dataframe\">\n",
       "  <thead>\n",
       "    <tr style=\"text-align: right;\">\n",
       "      <th></th>\n",
       "      <th>index</th>\n",
       "      <th>age</th>\n",
       "      <th>sex</th>\n",
       "      <th>bmi</th>\n",
       "      <th>bp</th>\n",
       "      <th>s1</th>\n",
       "      <th>s2</th>\n",
       "      <th>s3</th>\n",
       "      <th>s4</th>\n",
       "      <th>s5</th>\n",
       "      <th>s6</th>\n",
       "    </tr>\n",
       "  </thead>\n",
       "  <tbody>\n",
       "    <tr>\n",
       "      <th>0</th>\n",
       "      <td>0</td>\n",
       "      <td>0.038076</td>\n",
       "      <td>0.050680</td>\n",
       "      <td>0.061696</td>\n",
       "      <td>0.021872</td>\n",
       "      <td>-0.044223</td>\n",
       "      <td>-0.034821</td>\n",
       "      <td>-0.043401</td>\n",
       "      <td>-0.002592</td>\n",
       "      <td>0.019907</td>\n",
       "      <td>-0.017646</td>\n",
       "    </tr>\n",
       "    <tr>\n",
       "      <th>1</th>\n",
       "      <td>1</td>\n",
       "      <td>-0.001882</td>\n",
       "      <td>-0.044642</td>\n",
       "      <td>-0.051474</td>\n",
       "      <td>-0.026328</td>\n",
       "      <td>-0.008449</td>\n",
       "      <td>-0.019163</td>\n",
       "      <td>0.074412</td>\n",
       "      <td>-0.039493</td>\n",
       "      <td>-0.068332</td>\n",
       "      <td>-0.092204</td>\n",
       "    </tr>\n",
       "    <tr>\n",
       "      <th>2</th>\n",
       "      <td>2</td>\n",
       "      <td>0.085299</td>\n",
       "      <td>0.050680</td>\n",
       "      <td>0.044451</td>\n",
       "      <td>-0.005670</td>\n",
       "      <td>-0.045599</td>\n",
       "      <td>-0.034194</td>\n",
       "      <td>-0.032356</td>\n",
       "      <td>-0.002592</td>\n",
       "      <td>0.002861</td>\n",
       "      <td>-0.025930</td>\n",
       "    </tr>\n",
       "    <tr>\n",
       "      <th>3</th>\n",
       "      <td>3</td>\n",
       "      <td>-0.089063</td>\n",
       "      <td>-0.044642</td>\n",
       "      <td>-0.011595</td>\n",
       "      <td>-0.036656</td>\n",
       "      <td>0.012191</td>\n",
       "      <td>0.024991</td>\n",
       "      <td>-0.036038</td>\n",
       "      <td>0.034309</td>\n",
       "      <td>0.022688</td>\n",
       "      <td>-0.009362</td>\n",
       "    </tr>\n",
       "    <tr>\n",
       "      <th>4</th>\n",
       "      <td>4</td>\n",
       "      <td>0.005383</td>\n",
       "      <td>-0.044642</td>\n",
       "      <td>-0.036385</td>\n",
       "      <td>0.021872</td>\n",
       "      <td>0.003935</td>\n",
       "      <td>0.015596</td>\n",
       "      <td>0.008142</td>\n",
       "      <td>-0.002592</td>\n",
       "      <td>-0.031988</td>\n",
       "      <td>-0.046641</td>\n",
       "    </tr>\n",
       "    <tr>\n",
       "      <th>...</th>\n",
       "      <td>...</td>\n",
       "      <td>...</td>\n",
       "      <td>...</td>\n",
       "      <td>...</td>\n",
       "      <td>...</td>\n",
       "      <td>...</td>\n",
       "      <td>...</td>\n",
       "      <td>...</td>\n",
       "      <td>...</td>\n",
       "      <td>...</td>\n",
       "      <td>...</td>\n",
       "    </tr>\n",
       "    <tr>\n",
       "      <th>437</th>\n",
       "      <td>437</td>\n",
       "      <td>0.041708</td>\n",
       "      <td>0.050680</td>\n",
       "      <td>0.019662</td>\n",
       "      <td>0.059744</td>\n",
       "      <td>-0.005697</td>\n",
       "      <td>-0.002566</td>\n",
       "      <td>-0.028674</td>\n",
       "      <td>-0.002592</td>\n",
       "      <td>0.031193</td>\n",
       "      <td>0.007207</td>\n",
       "    </tr>\n",
       "    <tr>\n",
       "      <th>438</th>\n",
       "      <td>438</td>\n",
       "      <td>-0.005515</td>\n",
       "      <td>0.050680</td>\n",
       "      <td>-0.015906</td>\n",
       "      <td>-0.067642</td>\n",
       "      <td>0.049341</td>\n",
       "      <td>0.079165</td>\n",
       "      <td>-0.028674</td>\n",
       "      <td>0.034309</td>\n",
       "      <td>-0.018114</td>\n",
       "      <td>0.044485</td>\n",
       "    </tr>\n",
       "    <tr>\n",
       "      <th>439</th>\n",
       "      <td>439</td>\n",
       "      <td>0.041708</td>\n",
       "      <td>0.050680</td>\n",
       "      <td>-0.015906</td>\n",
       "      <td>0.017293</td>\n",
       "      <td>-0.037344</td>\n",
       "      <td>-0.013840</td>\n",
       "      <td>-0.024993</td>\n",
       "      <td>-0.011080</td>\n",
       "      <td>-0.046883</td>\n",
       "      <td>0.015491</td>\n",
       "    </tr>\n",
       "    <tr>\n",
       "      <th>440</th>\n",
       "      <td>440</td>\n",
       "      <td>-0.045472</td>\n",
       "      <td>-0.044642</td>\n",
       "      <td>0.039062</td>\n",
       "      <td>0.001215</td>\n",
       "      <td>0.016318</td>\n",
       "      <td>0.015283</td>\n",
       "      <td>-0.028674</td>\n",
       "      <td>0.026560</td>\n",
       "      <td>0.044529</td>\n",
       "      <td>-0.025930</td>\n",
       "    </tr>\n",
       "    <tr>\n",
       "      <th>441</th>\n",
       "      <td>441</td>\n",
       "      <td>-0.045472</td>\n",
       "      <td>-0.044642</td>\n",
       "      <td>-0.073030</td>\n",
       "      <td>-0.081413</td>\n",
       "      <td>0.083740</td>\n",
       "      <td>0.027809</td>\n",
       "      <td>0.173816</td>\n",
       "      <td>-0.039493</td>\n",
       "      <td>-0.004222</td>\n",
       "      <td>0.003064</td>\n",
       "    </tr>\n",
       "  </tbody>\n",
       "</table>\n",
       "<p>442 rows × 11 columns</p>\n",
       "</div>"
      ],
      "text/plain": [
       "     index       age       sex       bmi        bp        s1        s2  \\\n",
       "0        0  0.038076  0.050680  0.061696  0.021872 -0.044223 -0.034821   \n",
       "1        1 -0.001882 -0.044642 -0.051474 -0.026328 -0.008449 -0.019163   \n",
       "2        2  0.085299  0.050680  0.044451 -0.005670 -0.045599 -0.034194   \n",
       "3        3 -0.089063 -0.044642 -0.011595 -0.036656  0.012191  0.024991   \n",
       "4        4  0.005383 -0.044642 -0.036385  0.021872  0.003935  0.015596   \n",
       "..     ...       ...       ...       ...       ...       ...       ...   \n",
       "437    437  0.041708  0.050680  0.019662  0.059744 -0.005697 -0.002566   \n",
       "438    438 -0.005515  0.050680 -0.015906 -0.067642  0.049341  0.079165   \n",
       "439    439  0.041708  0.050680 -0.015906  0.017293 -0.037344 -0.013840   \n",
       "440    440 -0.045472 -0.044642  0.039062  0.001215  0.016318  0.015283   \n",
       "441    441 -0.045472 -0.044642 -0.073030 -0.081413  0.083740  0.027809   \n",
       "\n",
       "           s3        s4        s5        s6  \n",
       "0   -0.043401 -0.002592  0.019907 -0.017646  \n",
       "1    0.074412 -0.039493 -0.068332 -0.092204  \n",
       "2   -0.032356 -0.002592  0.002861 -0.025930  \n",
       "3   -0.036038  0.034309  0.022688 -0.009362  \n",
       "4    0.008142 -0.002592 -0.031988 -0.046641  \n",
       "..        ...       ...       ...       ...  \n",
       "437 -0.028674 -0.002592  0.031193  0.007207  \n",
       "438 -0.028674  0.034309 -0.018114  0.044485  \n",
       "439 -0.024993 -0.011080 -0.046883  0.015491  \n",
       "440 -0.028674  0.026560  0.044529 -0.025930  \n",
       "441  0.173816 -0.039493 -0.004222  0.003064  \n",
       "\n",
       "[442 rows x 11 columns]"
      ]
     },
     "execution_count": 24,
     "metadata": {},
     "output_type": "execute_result"
    }
   ],
   "source": [
    "data"
   ]
  },
  {
   "cell_type": "code",
   "execution_count": 14,
   "metadata": {},
   "outputs": [],
   "source": [
    "from sklearn.datasets import load_diabetes"
   ]
  },
  {
   "cell_type": "code",
   "execution_count": 17,
   "metadata": {},
   "outputs": [],
   "source": [
    "diabetes_data = load_diabetes()\n",
    "diabetes = pd.DataFrame(diabetes_data['data'], columns=diabetes_data['feature_names'])"
   ]
  },
  {
   "cell_type": "code",
   "execution_count": 20,
   "metadata": {},
   "outputs": [
    {
     "data": {
      "text/plain": [
       "442"
      ]
     },
     "execution_count": 20,
     "metadata": {},
     "output_type": "execute_result"
    }
   ],
   "source": [
    "diabetes.to_sql('diabetes_dataset', engine)"
   ]
  },
  {
   "cell_type": "code",
   "execution_count": null,
   "metadata": {},
   "outputs": [],
   "source": []
  }
 ],
 "metadata": {
  "kernelspec": {
   "display_name": "fastapi",
   "language": "python",
   "name": "python3"
  },
  "language_info": {
   "codemirror_mode": {
    "name": "ipython",
    "version": 3
   },
   "file_extension": ".py",
   "mimetype": "text/x-python",
   "name": "python",
   "nbconvert_exporter": "python",
   "pygments_lexer": "ipython3",
   "version": "3.11.5"
  },
  "orig_nbformat": 4
 },
 "nbformat": 4,
 "nbformat_minor": 2
}
